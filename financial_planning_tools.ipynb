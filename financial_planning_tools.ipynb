{
 "cells": [
  {
   "cell_type": "markdown",
   "metadata": {},
   "source": [
    "# Financial Planning with APIs and Simulations\n",
    "\n",
    "In this Challenge, you’ll create two financial analysis tools by using a single Jupyter notebook:\n",
    "\n",
    "Part 1: A financial planner for emergencies. The members will be able to use this tool to visualize their current savings. The members can then determine if they have enough reserves for an emergency fund.\n",
    "\n",
    "Part 2: A financial planner for retirement. This tool will forecast the performance of their retirement portfolio in 30 years. To do this, the tool will make an Alpaca API call via the Alpaca SDK to get historical price data for use in Monte Carlo simulations.\n",
    "\n",
    "You’ll use the information from the Monte Carlo simulation to answer questions about the portfolio in your Jupyter notebook.\n",
    "\n"
   ]
  },
  {
   "cell_type": "code",
   "execution_count": 1,
   "metadata": {},
   "outputs": [],
   "source": [
    "# Import the required libraries and dependencies\n",
    "import os\n",
    "import requests\n",
    "import json\n",
    "import pandas as pd\n",
    "from dotenv import load_dotenv\n",
    "import alpaca_trade_api as tradeapi\n",
    "from MCForecastTools import MCSimulation\n",
    "\n",
    "%matplotlib inline"
   ]
  },
  {
   "cell_type": "code",
   "execution_count": 2,
   "metadata": {},
   "outputs": [
    {
     "data": {
      "text/plain": [
       "True"
      ]
     },
     "execution_count": 2,
     "metadata": {},
     "output_type": "execute_result"
    }
   ],
   "source": [
    "# Load the environment variables from the .env file\n",
    "#by calling the load_dotenv function\n",
    "load_dotenv()"
   ]
  },
  {
   "cell_type": "markdown",
   "metadata": {},
   "source": [
    "## Part 1: Create a Financial Planner for Emergencies"
   ]
  },
  {
   "cell_type": "markdown",
   "metadata": {},
   "source": [
    "### Evaluate the Cryptocurrency Wallet by Using the Requests Library\n",
    "\n",
    "In this section, you’ll determine the current value of a member’s cryptocurrency wallet. You’ll collect the current prices for the Bitcoin and Ethereum cryptocurrencies by using the Python Requests library. For the prototype, you’ll assume that the member holds the 1.2 Bitcoins (BTC) and 5.3 Ethereum coins (ETH). To do all this, complete the following steps:\n",
    "\n",
    "1. Create a variable named `monthly_income`, and set its value to `12000`.\n",
    "\n",
    "2. Use the Requests library to get the current price (in US dollars) of Bitcoin (BTC) and Ethereum (ETH) by using the API endpoints that the starter code supplies.\n",
    "\n",
    "3. Navigate the JSON response object to access the current price of each coin, and store each in a variable.\n",
    "\n",
    "    > **Hint** Note the specific identifier for each cryptocurrency in the API JSON response. The Bitcoin identifier is `1`, and the Ethereum identifier is `1027`.\n",
    "\n",
    "4. Calculate the value, in US dollars, of the current amount of each cryptocurrency and of the entire cryptocurrency wallet.\n",
    "\n"
   ]
  },
  {
   "cell_type": "code",
   "execution_count": 3,
   "metadata": {},
   "outputs": [],
   "source": [
    "# The current number of coins for each cryptocurrency asset held in the portfolio.\n",
    "btc_coins = 1.2\n",
    "eth_coins = 5.3"
   ]
  },
  {
   "cell_type": "markdown",
   "metadata": {},
   "source": [
    "#### Step 1: Create a variable named `monthly_income`, and set its value to `12000`."
   ]
  },
  {
   "cell_type": "code",
   "execution_count": 4,
   "metadata": {},
   "outputs": [],
   "source": [
    "# The monthly amount for the member's household income\n",
    "# YOUR CODE HERE\n",
    "monthly_income = 12000\n"
   ]
  },
  {
   "cell_type": "markdown",
   "metadata": {},
   "source": [
    "#### Review the endpoint URLs for the API calls to Free Crypto API in order to get the current pricing information for both BTC and ETH."
   ]
  },
  {
   "cell_type": "code",
   "execution_count": 5,
   "metadata": {},
   "outputs": [],
   "source": [
    "# The Free Crypto API Call endpoint URLs for the held cryptocurrency assets\n",
    "btc_url = \"https://api.alternative.me/v2/ticker/Bitcoin/?convert=USD\"\n",
    "eth_url = \"https://api.alternative.me/v2/ticker/Ethereum/?convert=USD\""
   ]
  },
  {
   "cell_type": "markdown",
   "metadata": {},
   "source": [
    "#### Step 2. Use the Requests library to get the current price (in US dollars) of Bitcoin (BTC) and Ethereum (ETH) by using the API endpoints that the starter code supplied."
   ]
  },
  {
   "cell_type": "code",
   "execution_count": 6,
   "metadata": {},
   "outputs": [
    {
     "name": "stdout",
     "output_type": "stream",
     "text": [
      "{\n",
      "    \"data\": {\n",
      "        \"1\": {\n",
      "            \"circulating_supply\": 18772837,\n",
      "            \"id\": 1,\n",
      "            \"last_updated\": 1627788280,\n",
      "            \"max_supply\": 21000000,\n",
      "            \"name\": \"Bitcoin\",\n",
      "            \"quotes\": {\n",
      "                \"USD\": {\n",
      "                    \"market_cap\": 789506168757,\n",
      "                    \"percent_change_1h\": 0.970955131442728,\n",
      "                    \"percent_change_24h\": 0.571284366557948,\n",
      "                    \"percent_change_7d\": 22.9201032363594,\n",
      "                    \"percentage_change_1h\": 0.970955131442728,\n",
      "                    \"percentage_change_24h\": 0.571284366557948,\n",
      "                    \"percentage_change_7d\": 22.9201032363594,\n",
      "                    \"price\": 42055.0,\n",
      "                    \"volume_24h\": 26497589315\n",
      "                }\n",
      "            },\n",
      "            \"rank\": 1,\n",
      "            \"symbol\": \"BTC\",\n",
      "            \"total_supply\": 18772837,\n",
      "            \"website_slug\": \"bitcoin\"\n",
      "        }\n",
      "    },\n",
      "    \"metadata\": {\n",
      "        \"error\": null,\n",
      "        \"num_cryptocurrencies\": 3105,\n",
      "        \"timestamp\": 1627788280\n",
      "    }\n",
      "}\n"
     ]
    }
   ],
   "source": [
    "# Using the Python requests library, make an API call to access the current price of BTC\n",
    "btc_response = requests.get(btc_url).json()\n",
    "\n",
    "# Use the json.dumps function to review the response data from the API call\n",
    "# Use the indent and sort_keys parameters to make the response object readable\n",
    "# YOUR CODE HERE\n",
    "print(json.dumps(btc_response, indent=4, sort_keys=True))\n"
   ]
  },
  {
   "cell_type": "code",
   "execution_count": 7,
   "metadata": {},
   "outputs": [
    {
     "name": "stdout",
     "output_type": "stream",
     "text": [
      "{\n",
      "    \"data\": {\n",
      "        \"1027\": {\n",
      "            \"circulating_supply\": 116922543,\n",
      "            \"id\": 1027,\n",
      "            \"last_updated\": 1627788273,\n",
      "            \"max_supply\": 0,\n",
      "            \"name\": \"Ethereum\",\n",
      "            \"quotes\": {\n",
      "                \"USD\": {\n",
      "                    \"market_cap\": 302055860452,\n",
      "                    \"percent_change_1h\": 0.620349091745264,\n",
      "                    \"percent_change_24h\": 4.9388397391894,\n",
      "                    \"percent_change_7d\": 18.16315425869,\n",
      "                    \"percentage_change_1h\": 0.620349091745264,\n",
      "                    \"percentage_change_24h\": 4.9388397391894,\n",
      "                    \"percentage_change_7d\": 18.16315425869,\n",
      "                    \"price\": 2580.24,\n",
      "                    \"volume_24h\": 21649781085\n",
      "                }\n",
      "            },\n",
      "            \"rank\": 2,\n",
      "            \"symbol\": \"ETH\",\n",
      "            \"total_supply\": 116922543,\n",
      "            \"website_slug\": \"ethereum\"\n",
      "        }\n",
      "    },\n",
      "    \"metadata\": {\n",
      "        \"error\": null,\n",
      "        \"num_cryptocurrencies\": 3105,\n",
      "        \"timestamp\": 1627788273\n",
      "    }\n",
      "}\n"
     ]
    }
   ],
   "source": [
    "# Using the Python requests library, make an API call to access the current price ETH\n",
    "eth_response = requests.get(eth_url).json()\n",
    "\n",
    "# Use the json.dumps function to review the response data from the API call\n",
    "# Use the indent and sort_keys parameters to make the response object readable\n",
    "# YOUR CODE HERE\n",
    "print(json.dumps(eth_response, indent=4, sort_keys=True))"
   ]
  },
  {
   "cell_type": "markdown",
   "metadata": {},
   "source": [
    "#### Step 3: Navigate the JSON response object to access the current price of each coin, and store each in a variable."
   ]
  },
  {
   "cell_type": "code",
   "execution_count": 8,
   "metadata": {},
   "outputs": [
    {
     "name": "stdout",
     "output_type": "stream",
     "text": [
      "The current price of Bitcoin is 42055.0\n"
     ]
    }
   ],
   "source": [
    "# Navigate the BTC response object to access the current price of BTC\n",
    "btc_price = float(btc_response['data']['1']['quotes']['USD']['price'])\n",
    "\n",
    "# Print the current price of BTC\n",
    "# YOUR CODE HERE\n",
    "print(\"The current price of Bitcoin is\", btc_price)"
   ]
  },
  {
   "cell_type": "code",
   "execution_count": 9,
   "metadata": {},
   "outputs": [
    {
     "name": "stdout",
     "output_type": "stream",
     "text": [
      "The current price of Etherium is 2580.24\n"
     ]
    }
   ],
   "source": [
    "# Navigate the BTC response object to access the current price of ETH\n",
    "eth_price = float(eth_response['data']['1027']['quotes']['USD']['price'])\n",
    "\n",
    "# Print the current price of ETH\n",
    "# YOUR CODE HERE\n",
    "print(\"The current price of Etherium is\", eth_price)"
   ]
  },
  {
   "cell_type": "markdown",
   "metadata": {},
   "source": [
    "### Step 4: Calculate the value, in US dollars, of the current amount of each cryptocurrency and of the entire cryptocurrency wallet."
   ]
  },
  {
   "cell_type": "code",
   "execution_count": 10,
   "metadata": {},
   "outputs": [
    {
     "name": "stdout",
     "output_type": "stream",
     "text": [
      "The Bitcoin in this wallet is worth 50466.0\n"
     ]
    }
   ],
   "source": [
    "# Compute the current value of the BTC holding \n",
    "btc_value = btc_coins * btc_price\n",
    "\n",
    "# Print current value of your holding in BTC\n",
    "# YOUR CODE HERE\n",
    "print(\"The Bitcoin in this wallet is worth\", btc_value)"
   ]
  },
  {
   "cell_type": "code",
   "execution_count": 11,
   "metadata": {},
   "outputs": [
    {
     "name": "stdout",
     "output_type": "stream",
     "text": [
      "The Etherium in this wallet is worth 13675.271999999999\n"
     ]
    }
   ],
   "source": [
    "# Compute the current value of the ETH holding \n",
    "eth_value = eth_coins * eth_price\n",
    "\n",
    "# Print current value of your holding in ETH\n",
    "# YOUR CODE HERE\n",
    "print(\"The Etherium in this wallet is worth\", eth_value)"
   ]
  },
  {
   "cell_type": "code",
   "execution_count": 12,
   "metadata": {},
   "outputs": [
    {
     "name": "stdout",
     "output_type": "stream",
     "text": [
      "The total value of the wallet is 64141.272\n"
     ]
    }
   ],
   "source": [
    "# Compute the total value of the cryptocurrency wallet\n",
    "# Add the value of the BTC holding to the value of the ETH holding\n",
    "total_crypto_wallet = btc_value + eth_value\n",
    "\n",
    "# Print current cryptocurrency wallet balance\n",
    "# YOUR CODE HERE\n",
    "print(\"The total value of the wallet is\", total_crypto_wallet)"
   ]
  },
  {
   "cell_type": "markdown",
   "metadata": {},
   "source": [
    "### Evaluate the Stock and Bond Holdings by Using the Alpaca SDK\n",
    "\n",
    "In this section, you’ll determine the current value of a member’s stock and bond holdings. You’ll make an API call to Alpaca via the Alpaca SDK to get the current closing prices of the SPDR S&P 500 ETF Trust (ticker: SPY) and of the iShares Core US Aggregate Bond ETF (ticker: AGG). For the prototype, assume that the member holds 110 shares of SPY, which represents the stock portion of their portfolio, and 200 shares of AGG, which represents the bond portion. To do all this, complete the following steps:\n",
    "\n",
    "1. In the `Starter_Code` folder, create an environment file (`.env`) to store the values of your Alpaca API key and Alpaca secret key.\n",
    "\n",
    "2. Set the variables for the Alpaca API and secret keys. Using the Alpaca SDK, create the Alpaca `tradeapi.REST` object. In this object, include the parameters for the Alpaca API key, the secret key, and the version number.\n",
    "\n",
    "3. Set the following parameters for the Alpaca API call:\n",
    "\n",
    "    - `tickers`: Use the tickers for the member’s stock and bond holdings.\n",
    "\n",
    "    - `timeframe`: Use a time frame of one day.\n",
    "\n",
    "    - `start_date` and `end_date`: Use the same date for these parameters, and format them with the date of the previous weekday (or `2020-08-07`). This is because you want the one closing price for the most-recent trading day.\n",
    "\n",
    "4. Get the current closing prices for `SPY` and `AGG` by using the Alpaca `get_barset` function. Format the response as a Pandas DataFrame by including the `df` property at the end of the `get_barset` function.\n",
    "\n",
    "5. Navigating the Alpaca response DataFrame, select the `SPY` and `AGG` closing prices, and store them as variables.\n",
    "\n",
    "6. Calculate the value, in US dollars, of the current amount of shares in each of the stock and bond portions of the portfolio, and print the results.\n"
   ]
  },
  {
   "cell_type": "markdown",
   "metadata": {},
   "source": [
    "#### Review the total number of shares held in both (SPY) and (AGG)."
   ]
  },
  {
   "cell_type": "code",
   "execution_count": 13,
   "metadata": {},
   "outputs": [],
   "source": [
    "# Current amount of shares held in both the stock (SPY) and bond (AGG) portion of the portfolio.\n",
    "spy_shares = 110\n",
    "agg_shares = 200\n"
   ]
  },
  {
   "cell_type": "markdown",
   "metadata": {},
   "source": [
    "#### Step 1: In the `Starter_Code` folder, create an environment file (`.env`) to store the values of your Alpaca API key and Alpaca secret key."
   ]
  },
  {
   "cell_type": "markdown",
   "metadata": {},
   "source": [
    "#### Step 2: Set the variables for the Alpaca API and secret keys. Using the Alpaca SDK, create the Alpaca `tradeapi.REST` object. In this object, include the parameters for the Alpaca API key, the secret key, and the version number."
   ]
  },
  {
   "cell_type": "code",
   "execution_count": 14,
   "metadata": {},
   "outputs": [],
   "source": [
    "# Set the variables for the Alpaca API and secret keys\n",
    "alpaca_api_key = os.getenv(\"ALPACA_API_KEY\")\n",
    "alpaca_secret_key = os.getenv(\"ALPACA_SECRET_KEY\")\n",
    "\n",
    "\n",
    "\n",
    "\n",
    "# Create the Alpaca tradeapi.REST object\n",
    "\n",
    "alpaca = tradeapi.REST(\n",
    "    alpaca_api_key,\n",
    "    alpaca_secret_key,\n",
    "    api_version=\"v2\")\n"
   ]
  },
  {
   "cell_type": "markdown",
   "metadata": {},
   "source": [
    "#### Step 3: Set the following parameters for the Alpaca API call:\n",
    "\n",
    "- `tickers`: Use the tickers for the member’s stock and bond holdings.\n",
    "\n",
    "- `timeframe`: Use a time frame of one day.\n",
    "\n",
    "- `start_date` and `end_date`: Use the same date for these parameters, and format them with the date of the previous weekday (or `2020-08-07`). This is because you want the one closing price for the most-recent trading day.\n"
   ]
  },
  {
   "cell_type": "code",
   "execution_count": 15,
   "metadata": {},
   "outputs": [],
   "source": [
    "# Set the tickers for both the bond and stock portion of the portfolio\n",
    "tickers = [\"SPY\", \"AGG\"]\n",
    "\n",
    "# Set timeframe to 1D \n",
    "timeframe = \"1D\"\n",
    "\n",
    "# Format current date as ISO format\n",
    "# Set both the start and end date at the date of your prior weekday \n",
    "# This will give you the closing price of the previous trading day\n",
    "# Alternatively you can use a start and end date of 2020-08-07\n",
    "start_date = pd.Timestamp(\"2020-08-07\", tz=\"America/New_York\").isoformat()\n",
    "end_date = pd.Timestamp(\"2020-08-07\", tz=\"America/New_York\").isoformat()\n"
   ]
  },
  {
   "cell_type": "markdown",
   "metadata": {},
   "source": [
    "#### Step 4: Get the current closing prices for `SPY` and `AGG` by using the Alpaca `get_barset` function. Format the response as a Pandas DataFrame by including the `df` property at the end of the `get_barset` function."
   ]
  },
  {
   "cell_type": "code",
   "execution_count": 16,
   "metadata": {},
   "outputs": [
    {
     "data": {
      "text/html": [
       "<div>\n",
       "<style scoped>\n",
       "    .dataframe tbody tr th:only-of-type {\n",
       "        vertical-align: middle;\n",
       "    }\n",
       "\n",
       "    .dataframe tbody tr th {\n",
       "        vertical-align: top;\n",
       "    }\n",
       "\n",
       "    .dataframe thead tr th {\n",
       "        text-align: left;\n",
       "    }\n",
       "</style>\n",
       "<table border=\"1\" class=\"dataframe\">\n",
       "  <thead>\n",
       "    <tr>\n",
       "      <th></th>\n",
       "      <th colspan=\"5\" halign=\"left\">AGG</th>\n",
       "      <th colspan=\"5\" halign=\"left\">SPY</th>\n",
       "    </tr>\n",
       "    <tr>\n",
       "      <th></th>\n",
       "      <th>open</th>\n",
       "      <th>high</th>\n",
       "      <th>low</th>\n",
       "      <th>close</th>\n",
       "      <th>volume</th>\n",
       "      <th>open</th>\n",
       "      <th>high</th>\n",
       "      <th>low</th>\n",
       "      <th>close</th>\n",
       "      <th>volume</th>\n",
       "    </tr>\n",
       "  </thead>\n",
       "  <tbody>\n",
       "    <tr>\n",
       "      <th>2020-08-07</th>\n",
       "      <td>119.66</td>\n",
       "      <td>119.73</td>\n",
       "      <td>119.395</td>\n",
       "      <td>119.445</td>\n",
       "      <td>8830420</td>\n",
       "      <td>333.28</td>\n",
       "      <td>334.88</td>\n",
       "      <td>332.3</td>\n",
       "      <td>334.55</td>\n",
       "      <td>98710236</td>\n",
       "    </tr>\n",
       "  </tbody>\n",
       "</table>\n",
       "</div>"
      ],
      "text/plain": [
       "               AGG                                        SPY                 \\\n",
       "              open    high      low    close   volume    open    high    low   \n",
       "2020-08-07  119.66  119.73  119.395  119.445  8830420  333.28  334.88  332.3   \n",
       "\n",
       "                              \n",
       "             close    volume  \n",
       "2020-08-07  334.55  98710236  "
      ]
     },
     "execution_count": 16,
     "metadata": {},
     "output_type": "execute_result"
    }
   ],
   "source": [
    "# Use the Alpaca get_barset function to get current closing prices the portfolio\n",
    "# Be sure to set the `df` property after the function to format the response object as a DataFrame\n",
    "df_portfolio = alpaca.get_barset(\n",
    "    tickers,\n",
    "    timeframe,\n",
    "    start = start_date,\n",
    "    end = end_date\n",
    ").df\n",
    "\n",
    "df_portfolio.index = df_portfolio.index.date\n",
    "# Review the first 5 rows of the Alpaca DataFrame\n",
    "# YOUR CODE HERE\n",
    "df_portfolio.head()"
   ]
  },
  {
   "cell_type": "markdown",
   "metadata": {},
   "source": [
    "#### Step 5: Navigating the Alpaca response DataFrame, select the `SPY` and `AGG` closing prices, and store them as variables."
   ]
  },
  {
   "cell_type": "code",
   "execution_count": 17,
   "metadata": {},
   "outputs": [
    {
     "name": "stdout",
     "output_type": "stream",
     "text": [
      "119.445\n"
     ]
    }
   ],
   "source": [
    "# Access the closing price for AGG from the Alpaca DataFrame\n",
    "# Converting the value to a floating point number\n",
    "\n",
    "agg_close_price = float(df_portfolio[\"AGG\"][\"close\"])\n",
    "\n",
    "# Print the AGG closing price\n",
    "# YOUR CODE HERE\n",
    "print(agg_close_price)"
   ]
  },
  {
   "cell_type": "code",
   "execution_count": 18,
   "metadata": {},
   "outputs": [
    {
     "name": "stdout",
     "output_type": "stream",
     "text": [
      "334.55\n"
     ]
    }
   ],
   "source": [
    "# Access the closing price for SPY from the Alpaca DataFrame\n",
    "# Converting the value to a floating point number\n",
    "spy_close_price = float(df_portfolio[\"SPY\"][\"close\"])\n",
    "\n",
    "# Print the SPY closing price\n",
    "# YOUR CODE HERE\n",
    "print(spy_close_price)"
   ]
  },
  {
   "cell_type": "markdown",
   "metadata": {},
   "source": [
    "#### Step 6: Calculate the value, in US dollars, of the current amount of shares in each of the stock and bond portions of the portfolio, and print the results."
   ]
  },
  {
   "cell_type": "code",
   "execution_count": 19,
   "metadata": {},
   "outputs": [
    {
     "name": "stdout",
     "output_type": "stream",
     "text": [
      "The current value of AGG held is 23889.0\n"
     ]
    }
   ],
   "source": [
    "# Calculate the current value of the bond portion of the portfolio\n",
    "agg_value = agg_shares * agg_close_price\n",
    "\n",
    "# Print the current value of the bond portfolio\n",
    "# YOUR CODE HERE\n",
    "print(\"The current value of AGG held is\", agg_value)"
   ]
  },
  {
   "cell_type": "code",
   "execution_count": 20,
   "metadata": {},
   "outputs": [
    {
     "name": "stdout",
     "output_type": "stream",
     "text": [
      "The current value of SPY held is 36800.5\n"
     ]
    }
   ],
   "source": [
    "# Calculate the current value of the stock portion of the portfolio\n",
    "spy_value = spy_shares * spy_close_price\n",
    "\n",
    "# Print the current value of the stock portfolio\n",
    "# YOUR CODE HERE\n",
    "print(\"The current value of SPY held is\", spy_value)"
   ]
  },
  {
   "cell_type": "code",
   "execution_count": 21,
   "metadata": {},
   "outputs": [
    {
     "name": "stdout",
     "output_type": "stream",
     "text": [
      "The total value of the portfolio is 60689.5\n"
     ]
    }
   ],
   "source": [
    "# Calculate the total value of the stock and bond portion of the portfolio\n",
    "total_stocks_bonds = spy_value + agg_value\n",
    "\n",
    "# Print the current balance of the stock and bond portion of the portfolio\n",
    "# YOUR CODE HERE\n",
    "print(\"The total value of the portfolio is\", total_stocks_bonds)"
   ]
  },
  {
   "cell_type": "code",
   "execution_count": 22,
   "metadata": {},
   "outputs": [
    {
     "name": "stdout",
     "output_type": "stream",
     "text": [
      "The total value of crypto and stocks and bonds is 124830.772\n"
     ]
    }
   ],
   "source": [
    "# Calculate the total value of the member's entire savings portfolio\n",
    "# Add the value of the cryptocurrency walled to the value of the total stocks and bonds\n",
    "total_portfolio = total_crypto_wallet + total_stocks_bonds\n",
    "\n",
    "# Print current cryptocurrency wallet balance\n",
    "# YOUR CODE HERE\n",
    "print(\"The total value of crypto and stocks and bonds is\", total_portfolio)\n"
   ]
  },
  {
   "cell_type": "markdown",
   "metadata": {},
   "source": [
    "### Evaluate the Emergency Fund\n",
    "\n",
    "In this section, you’ll use the valuations for the cryptocurrency wallet and for the stock and bond portions of the portfolio to determine if the credit union member has enough savings to build an emergency fund into their financial plan. To do this, complete the following steps:\n",
    "\n",
    "1. Create a Python list named `savings_data` that has two elements. The first element contains the total value of the cryptocurrency wallet. The second element contains the total value of the stock and bond portions of the portfolio.\n",
    "\n",
    "2. Use the `savings_data` list to create a Pandas DataFrame named `savings_df`, and then display this DataFrame. The function to create the DataFrame should take the following three parameters:\n",
    "\n",
    "    - `savings_data`: Use the list that you just created.\n",
    "\n",
    "    - `columns`: Set this parameter equal to a Python list with a single value called `amount`.\n",
    "\n",
    "    - `index`: Set this parameter equal to a Python list with the values of `crypto` and `stock/bond`.\n",
    "\n",
    "3. Use the `savings_df` DataFrame to plot a pie chart that visualizes the composition of the member’s portfolio. The y-axis of the pie chart uses `amount`. Be sure to add a title.\n",
    "\n",
    "4. Using Python, determine if the current portfolio has enough to create an emergency fund as part of the member’s financial plan. Ideally, an emergency fund should equal to three times the member’s monthly income. To do this, implement the following steps:\n",
    "\n",
    "    1. Create a variable named `emergency_fund_value`, and set it equal to three times the value of the member’s `monthly_income` of $12000. (You set this earlier in Part 1).\n",
    "\n",
    "    2. Create a series of three if statements to determine if the member’s total portfolio is large enough to fund the emergency portfolio:\n",
    "\n",
    "        1. If the total portfolio value is greater than the emergency fund value, display a message congratulating the member for having enough money in this fund.\n",
    "\n",
    "        2. Else if the total portfolio value is equal to the emergency fund value, display a message congratulating the member on reaching this important financial goal.\n",
    "\n",
    "        3. Else the total portfolio is less than the emergency fund value, so display a message showing how many dollars away the member is from reaching the goal. (Subtract the total portfolio value from the emergency fund value.)\n"
   ]
  },
  {
   "cell_type": "markdown",
   "metadata": {},
   "source": [
    "#### Step 1: Create a Python list named `savings_data` that has two elements. The first element contains the total value of the cryptocurrency wallet. The second element contains the total value of the stock and bond portions of the portfolio."
   ]
  },
  {
   "cell_type": "code",
   "execution_count": 23,
   "metadata": {},
   "outputs": [
    {
     "name": "stdout",
     "output_type": "stream",
     "text": [
      "[64141.272, 60689.5]\n"
     ]
    }
   ],
   "source": [
    "# Consolidate financial assets data into a Python list\n",
    "savings_data = [total_crypto_wallet , total_stocks_bonds]\n",
    "\n",
    "# Review the Python list savings_data\n",
    "# YOUR CODE HERE\n",
    "print(savings_data)\n",
    "    "
   ]
  },
  {
   "cell_type": "markdown",
   "metadata": {},
   "source": [
    "#### Step 2: Use the `savings_data` list to create a Pandas DataFrame named `savings_df`, and then display this DataFrame. The function to create the DataFrame should take the following three parameters:\n",
    "\n",
    "- `savings_data`: Use the list that you just created.\n",
    "\n",
    "- `columns`: Set this parameter equal to a Python list with a single value called `amount`.\n",
    "\n",
    "- `index`: Set this parameter equal to a Python list with the values of `crypto` and `stock/bond`.\n"
   ]
  },
  {
   "cell_type": "code",
   "execution_count": 24,
   "metadata": {},
   "outputs": [
    {
     "data": {
      "text/html": [
       "<div>\n",
       "<style scoped>\n",
       "    .dataframe tbody tr th:only-of-type {\n",
       "        vertical-align: middle;\n",
       "    }\n",
       "\n",
       "    .dataframe tbody tr th {\n",
       "        vertical-align: top;\n",
       "    }\n",
       "\n",
       "    .dataframe thead th {\n",
       "        text-align: right;\n",
       "    }\n",
       "</style>\n",
       "<table border=\"1\" class=\"dataframe\">\n",
       "  <thead>\n",
       "    <tr style=\"text-align: right;\">\n",
       "      <th></th>\n",
       "      <th>amount</th>\n",
       "    </tr>\n",
       "  </thead>\n",
       "  <tbody>\n",
       "    <tr>\n",
       "      <th>crypto</th>\n",
       "      <td>64141.272</td>\n",
       "    </tr>\n",
       "    <tr>\n",
       "      <th>stock/bond</th>\n",
       "      <td>60689.500</td>\n",
       "    </tr>\n",
       "  </tbody>\n",
       "</table>\n",
       "</div>"
      ],
      "text/plain": [
       "               amount\n",
       "crypto      64141.272\n",
       "stock/bond  60689.500"
      ]
     },
     "execution_count": 24,
     "metadata": {},
     "output_type": "execute_result"
    }
   ],
   "source": [
    "# Create a Pandas DataFrame called savings_df \n",
    "savings_df = pd.DataFrame(\n",
    "    savings_data, \n",
    "    columns = [\"amount\"], \n",
    "    index = [\"crypto\", \"stock/bond\"]\n",
    ")\n",
    "\n",
    "# Display the savings_df DataFrame\n",
    "# YOUR CODE HERE\n",
    "savings_df.head()"
   ]
  },
  {
   "cell_type": "markdown",
   "metadata": {},
   "source": [
    "#### Step 3: Use the `savings_df` DataFrame to plot a pie chart that visualizes the composition of the member’s portfolio. The y-axis of the pie chart uses `amount`. Be sure to add a title."
   ]
  },
  {
   "cell_type": "code",
   "execution_count": 25,
   "metadata": {},
   "outputs": [
    {
     "data": {
      "text/plain": [
       "<AxesSubplot:title={'center':'Portfolio Composition'}, ylabel='amount'>"
      ]
     },
     "execution_count": 25,
     "metadata": {},
     "output_type": "execute_result"
    },
    {
     "data": {
      "image/png": "[encoded data removed]",
      "text/plain": [
       "<Figure size 432x288 with 1 Axes>"
      ]
     },
     "metadata": {},
     "output_type": "display_data"
    }
   ],
   "source": [
    "# Plot the total value of the member's portfolio (crypto and stock/bond) in a pie chart\n",
    "# YOUR CODE HERE\n",
    "savings_df.plot.pie(y=\"amount\", title = \"Portfolio Composition\", autopct=\"%1.1f%%\")"
   ]
  },
  {
   "cell_type": "markdown",
   "metadata": {},
   "source": [
    "#### Step 4: Using Python, determine if the current portfolio has enough to create an emergency fund as part of the member’s financial plan. Ideally, an emergency fund should equal to three times the member’s monthly income. To do this, implement the following steps:\n",
    "\n",
    "Step 1. Create a variable named `emergency_fund_value`, and set it equal to three times the value of the member’s `monthly_income` of 12000. (You set this earlier in Part 1).\n",
    "\n",
    "Step 2. Create a series of three if statements to determine if the member’s total portfolio is large enough to fund the emergency portfolio:\n",
    "\n",
    "* If the total portfolio value is greater than the emergency fund value, display a message congratulating the member for having enough money in this fund.\n",
    "\n",
    "* Else if the total portfolio value is equal to the emergency fund value, display a message congratulating the member on reaching this important financial goal.\n",
    "\n",
    "* Else the total portfolio is less than the emergency fund value, so display a message showing how many dollars away the member is from reaching the goal. (Subtract the total portfolio value from the emergency fund value.)\n"
   ]
  },
  {
   "cell_type": "markdown",
   "metadata": {},
   "source": [
    "##### Step 4-1: Create a variable named `emergency_fund_value`, and set it equal to three times the value of the member’s `monthly_income` of 12000. (You set this earlier in Part 1)."
   ]
  },
  {
   "cell_type": "code",
   "execution_count": 26,
   "metadata": {},
   "outputs": [],
   "source": [
    "# Create a variable named emergency_fund_value\n",
    "emergency_fund_value = 3*monthly_income"
   ]
  },
  {
   "cell_type": "markdown",
   "metadata": {},
   "source": [
    "##### Step 4-2: Create a series of three if statements to determine if the member’s total portfolio is large enough to fund the emergency portfolio:\n",
    "\n",
    "* If the total portfolio value is greater than the emergency fund value, display a message congratulating the member for having enough money in this fund.\n",
    "\n",
    "* Else if the total portfolio value is equal to the emergency fund value, display a message congratulating the member on reaching this important financial goal.\n",
    "\n",
    "* Else the total portfolio is less than the emergency fund value, so display a message showing how many dollars away the member is from reaching the goal. (Subtract the total portfolio value from the emergency fund value.)"
   ]
  },
  {
   "cell_type": "code",
   "execution_count": 27,
   "metadata": {},
   "outputs": [
    {
     "name": "stdout",
     "output_type": "stream",
     "text": [
      "Congratulations, you have enough money for an emergency fund!\n"
     ]
    }
   ],
   "source": [
    "# Evaluate the possibility of creating an emergency fund with 3 conditions:\n",
    "if (total_portfolio > emergency_fund_value):\n",
    "    print(\"Congratulations, you have enough money for an emergency fund!\")\n",
    "elif [total_portfolio == emergency_fund_value]:\n",
    "        print(\"You made it to an important financial goal!\")\n",
    "else:\n",
    "        print(\"You do not have enough for the emergency fund, you require\", total_portfolio - emergency_fund_value)\n"
   ]
  },
  {
   "cell_type": "markdown",
   "metadata": {},
   "source": [
    "## Part 2: Create a Financial Planner for Retirement"
   ]
  },
  {
   "cell_type": "markdown",
   "metadata": {},
   "source": [
    "### Create the Monte Carlo Simulation\n",
    "\n",
    "In this section, you’ll use the MCForecastTools library to create a Monte Carlo simulation for the member’s savings portfolio. To do this, complete the following steps:\n",
    "\n",
    "1. Make an API call via the Alpaca SDK to get 3 years of historical closing prices for a traditional 60/40 portfolio split: 60% stocks (SPY) and 40% bonds (AGG).\n",
    "\n",
    "2. Run a Monte Carlo simulation of 500 samples and 30 years for the 60/40 portfolio, and then plot the results.The following image shows the overlay line plot resulting from a simulation with these characteristics. However, because a random number generator is used to run each live Monte Carlo simulation, your image will differ slightly from this exact image:\n",
    "\n",
    "![A screenshot depicts the resulting plot.](Images/5-4-monte-carlo-line-plot.png)\n",
    "\n",
    "3. Plot the probability distribution of the Monte Carlo simulation. Plot the probability distribution of the Monte Carlo simulation. The following image shows the histogram plot resulting from a simulation with these characteristics. However, because a random number generator is used to run each live Monte Carlo simulation, your image will differ slightly from this exact image:\n",
    "\n",
    "![A screenshot depicts the histogram plot.](Images/5-4-monte-carlo-histogram.png)\n",
    "\n",
    "4. Generate the summary statistics for the Monte Carlo simulation.\n",
    "\n"
   ]
  },
  {
   "cell_type": "markdown",
   "metadata": {},
   "source": [
    "#### Step 1: Make an API call via the Alpaca SDK to get 3 years of historical closing prices for a traditional 60/40 portfolio split: 60% stocks (SPY) and 40% bonds (AGG)."
   ]
  },
  {
   "cell_type": "code",
   "execution_count": 28,
   "metadata": {},
   "outputs": [],
   "source": [
    "# Set start and end dates of 3 years back from your current date\n",
    "# Alternatively, you can use an end date of 2020-08-07 and work 3 years back from that date \n",
    "new_start_date = pd.Timestamp(\"2017-08-07\", tz=\"America/New_York\").isoformat()\n",
    "new_end_date = pd.Timestamp(\"2020-08-07\", tz=\"America/New_York\").isoformat()\n",
    "\n",
    "# Set number of rows to 1000 to retrieve the maximum amount of rows\n",
    "limit_rows = 1000"
   ]
  },
  {
   "cell_type": "code",
   "execution_count": 29,
   "metadata": {},
   "outputs": [
    {
     "data": {
      "text/html": [
       "<div>\n",
       "<style scoped>\n",
       "    .dataframe tbody tr th:only-of-type {\n",
       "        vertical-align: middle;\n",
       "    }\n",
       "\n",
       "    .dataframe tbody tr th {\n",
       "        vertical-align: top;\n",
       "    }\n",
       "\n",
       "    .dataframe thead tr th {\n",
       "        text-align: left;\n",
       "    }\n",
       "\n",
       "    .dataframe thead tr:last-of-type th {\n",
       "        text-align: right;\n",
       "    }\n",
       "</style>\n",
       "<table border=\"1\" class=\"dataframe\">\n",
       "  <thead>\n",
       "    <tr>\n",
       "      <th></th>\n",
       "      <th colspan=\"5\" halign=\"left\">AGG</th>\n",
       "      <th colspan=\"5\" halign=\"left\">SPY</th>\n",
       "    </tr>\n",
       "    <tr>\n",
       "      <th></th>\n",
       "      <th>open</th>\n",
       "      <th>high</th>\n",
       "      <th>low</th>\n",
       "      <th>close</th>\n",
       "      <th>volume</th>\n",
       "      <th>open</th>\n",
       "      <th>high</th>\n",
       "      <th>low</th>\n",
       "      <th>close</th>\n",
       "      <th>volume</th>\n",
       "    </tr>\n",
       "    <tr>\n",
       "      <th>time</th>\n",
       "      <th></th>\n",
       "      <th></th>\n",
       "      <th></th>\n",
       "      <th></th>\n",
       "      <th></th>\n",
       "      <th></th>\n",
       "      <th></th>\n",
       "      <th></th>\n",
       "      <th></th>\n",
       "      <th></th>\n",
       "    </tr>\n",
       "  </thead>\n",
       "  <tbody>\n",
       "    <tr>\n",
       "      <th>2020-08-03 00:00:00-04:00</th>\n",
       "      <td>119.37</td>\n",
       "      <td>119.40</td>\n",
       "      <td>119.1903</td>\n",
       "      <td>119.400</td>\n",
       "      <td>24615464</td>\n",
       "      <td>328.3200</td>\n",
       "      <td>329.62</td>\n",
       "      <td>327.73</td>\n",
       "      <td>328.76</td>\n",
       "      <td>89861354</td>\n",
       "    </tr>\n",
       "    <tr>\n",
       "      <th>2020-08-04 00:00:00-04:00</th>\n",
       "      <td>119.42</td>\n",
       "      <td>119.63</td>\n",
       "      <td>119.4200</td>\n",
       "      <td>119.630</td>\n",
       "      <td>21512268</td>\n",
       "      <td>327.8600</td>\n",
       "      <td>330.06</td>\n",
       "      <td>327.86</td>\n",
       "      <td>330.03</td>\n",
       "      <td>73684427</td>\n",
       "    </tr>\n",
       "    <tr>\n",
       "      <th>2020-08-05 00:00:00-04:00</th>\n",
       "      <td>119.39</td>\n",
       "      <td>119.49</td>\n",
       "      <td>119.3100</td>\n",
       "      <td>119.400</td>\n",
       "      <td>34239733</td>\n",
       "      <td>331.4700</td>\n",
       "      <td>332.39</td>\n",
       "      <td>331.18</td>\n",
       "      <td>332.06</td>\n",
       "      <td>72941562</td>\n",
       "    </tr>\n",
       "    <tr>\n",
       "      <th>2020-08-06 00:00:00-04:00</th>\n",
       "      <td>119.62</td>\n",
       "      <td>119.73</td>\n",
       "      <td>119.5300</td>\n",
       "      <td>119.580</td>\n",
       "      <td>9021388</td>\n",
       "      <td>331.4799</td>\n",
       "      <td>334.46</td>\n",
       "      <td>331.13</td>\n",
       "      <td>334.31</td>\n",
       "      <td>76988181</td>\n",
       "    </tr>\n",
       "    <tr>\n",
       "      <th>2020-08-07 00:00:00-04:00</th>\n",
       "      <td>119.66</td>\n",
       "      <td>119.73</td>\n",
       "      <td>119.3950</td>\n",
       "      <td>119.445</td>\n",
       "      <td>8830420</td>\n",
       "      <td>333.2800</td>\n",
       "      <td>334.88</td>\n",
       "      <td>332.30</td>\n",
       "      <td>334.55</td>\n",
       "      <td>98710236</td>\n",
       "    </tr>\n",
       "  </tbody>\n",
       "</table>\n",
       "</div>"
      ],
      "text/plain": [
       "                              AGG                                       \\\n",
       "                             open    high       low    close    volume   \n",
       "time                                                                     \n",
       "2020-08-03 00:00:00-04:00  119.37  119.40  119.1903  119.400  24615464   \n",
       "2020-08-04 00:00:00-04:00  119.42  119.63  119.4200  119.630  21512268   \n",
       "2020-08-05 00:00:00-04:00  119.39  119.49  119.3100  119.400  34239733   \n",
       "2020-08-06 00:00:00-04:00  119.62  119.73  119.5300  119.580   9021388   \n",
       "2020-08-07 00:00:00-04:00  119.66  119.73  119.3950  119.445   8830420   \n",
       "\n",
       "                                SPY                                    \n",
       "                               open    high     low   close    volume  \n",
       "time                                                                   \n",
       "2020-08-03 00:00:00-04:00  328.3200  329.62  327.73  328.76  89861354  \n",
       "2020-08-04 00:00:00-04:00  327.8600  330.06  327.86  330.03  73684427  \n",
       "2020-08-05 00:00:00-04:00  331.4700  332.39  331.18  332.06  72941562  \n",
       "2020-08-06 00:00:00-04:00  331.4799  334.46  331.13  334.31  76988181  \n",
       "2020-08-07 00:00:00-04:00  333.2800  334.88  332.30  334.55  98710236  "
      ]
     },
     "execution_count": 29,
     "metadata": {},
     "output_type": "execute_result"
    }
   ],
   "source": [
    "# Use the Alpaca get_barset function to make the API call to get the 3 years worth of pricing data\n",
    "# The tickers and timeframe parameters should have been set in Part 1 of this activity \n",
    "# The start and end dates should be updated with the information set above\n",
    "# Remember to add the df property to the end of the call so the response is returned as a DataFrame\n",
    "montecarlo_df = alpaca.get_barset(\n",
    "  tickers,\n",
    "  timeframe,\n",
    "  start=new_start_date,\n",
    "  end=new_end_date,\n",
    "  limit=limit_rows\n",
    ").df\n",
    "\n",
    "\n",
    "# Display both the first and last five rows of the DataFrame\n",
    "montecarlo_df.head()\n",
    "montecarlo_df.tail()\n"
   ]
  },
  {
   "cell_type": "markdown",
   "metadata": {},
   "source": [
    "#### Step 2: Run a Monte Carlo simulation of 500 samples and 30 years for the 60/40 portfolio, and then plot the results."
   ]
  },
  {
   "cell_type": "code",
   "execution_count": 30,
   "metadata": {},
   "outputs": [
    {
     "data": {
      "text/html": [
       "<div>\n",
       "<style scoped>\n",
       "    .dataframe tbody tr th:only-of-type {\n",
       "        vertical-align: middle;\n",
       "    }\n",
       "\n",
       "    .dataframe tbody tr th {\n",
       "        vertical-align: top;\n",
       "    }\n",
       "\n",
       "    .dataframe thead tr th {\n",
       "        text-align: left;\n",
       "    }\n",
       "</style>\n",
       "<table border=\"1\" class=\"dataframe\">\n",
       "  <thead>\n",
       "    <tr>\n",
       "      <th></th>\n",
       "      <th colspan=\"6\" halign=\"left\">AGG</th>\n",
       "      <th colspan=\"6\" halign=\"left\">SPY</th>\n",
       "    </tr>\n",
       "    <tr>\n",
       "      <th></th>\n",
       "      <th>open</th>\n",
       "      <th>high</th>\n",
       "      <th>low</th>\n",
       "      <th>close</th>\n",
       "      <th>volume</th>\n",
       "      <th>daily_return</th>\n",
       "      <th>open</th>\n",
       "      <th>high</th>\n",
       "      <th>low</th>\n",
       "      <th>close</th>\n",
       "      <th>volume</th>\n",
       "      <th>daily_return</th>\n",
       "    </tr>\n",
       "  </thead>\n",
       "  <tbody>\n",
       "    <tr>\n",
       "      <th>count</th>\n",
       "      <td>757.000000</td>\n",
       "      <td>757.000000</td>\n",
       "      <td>757.000000</td>\n",
       "      <td>757.000000</td>\n",
       "      <td>7.570000e+02</td>\n",
       "      <td>756.000000</td>\n",
       "      <td>757.000000</td>\n",
       "      <td>757.000000</td>\n",
       "      <td>757.000000</td>\n",
       "      <td>757.000000</td>\n",
       "      <td>7.570000e+02</td>\n",
       "      <td>756.000000</td>\n",
       "    </tr>\n",
       "    <tr>\n",
       "      <th>mean</th>\n",
       "      <td>110.029660</td>\n",
       "      <td>110.167211</td>\n",
       "      <td>109.869895</td>\n",
       "      <td>110.027495</td>\n",
       "      <td>4.543922e+06</td>\n",
       "      <td>0.000119</td>\n",
       "      <td>283.018048</td>\n",
       "      <td>284.630183</td>\n",
       "      <td>281.172052</td>\n",
       "      <td>283.050946</td>\n",
       "      <td>7.542897e+07</td>\n",
       "      <td>0.000498</td>\n",
       "    </tr>\n",
       "    <tr>\n",
       "      <th>std</th>\n",
       "      <td>4.034236</td>\n",
       "      <td>4.054514</td>\n",
       "      <td>3.993488</td>\n",
       "      <td>4.026875</td>\n",
       "      <td>4.687451e+06</td>\n",
       "      <td>0.003506</td>\n",
       "      <td>22.193045</td>\n",
       "      <td>22.023121</td>\n",
       "      <td>22.406559</td>\n",
       "      <td>22.216416</td>\n",
       "      <td>5.537267e+07</td>\n",
       "      <td>0.014156</td>\n",
       "    </tr>\n",
       "    <tr>\n",
       "      <th>min</th>\n",
       "      <td>104.070000</td>\n",
       "      <td>104.169900</td>\n",
       "      <td>103.940000</td>\n",
       "      <td>104.005000</td>\n",
       "      <td>1.000706e+06</td>\n",
       "      <td>-0.040343</td>\n",
       "      <td>228.190000</td>\n",
       "      <td>229.683300</td>\n",
       "      <td>218.260000</td>\n",
       "      <td>222.510000</td>\n",
       "      <td>1.531436e+07</td>\n",
       "      <td>-0.115916</td>\n",
       "    </tr>\n",
       "    <tr>\n",
       "      <th>25%</th>\n",
       "      <td>106.540000</td>\n",
       "      <td>106.650000</td>\n",
       "      <td>106.390000</td>\n",
       "      <td>106.500000</td>\n",
       "      <td>2.199472e+06</td>\n",
       "      <td>-0.001092</td>\n",
       "      <td>267.510000</td>\n",
       "      <td>268.600000</td>\n",
       "      <td>265.390000</td>\n",
       "      <td>267.220000</td>\n",
       "      <td>4.151304e+07</td>\n",
       "      <td>-0.003399</td>\n",
       "    </tr>\n",
       "    <tr>\n",
       "      <th>50%</th>\n",
       "      <td>109.270000</td>\n",
       "      <td>109.420000</td>\n",
       "      <td>109.145000</td>\n",
       "      <td>109.305000</td>\n",
       "      <td>2.961427e+06</td>\n",
       "      <td>0.000188</td>\n",
       "      <td>280.740000</td>\n",
       "      <td>282.560000</td>\n",
       "      <td>279.220000</td>\n",
       "      <td>281.020000</td>\n",
       "      <td>5.509010e+07</td>\n",
       "      <td>0.000935</td>\n",
       "    </tr>\n",
       "    <tr>\n",
       "      <th>75%</th>\n",
       "      <td>112.850000</td>\n",
       "      <td>112.940000</td>\n",
       "      <td>112.620000</td>\n",
       "      <td>112.800000</td>\n",
       "      <td>4.975623e+06</td>\n",
       "      <td>0.001315</td>\n",
       "      <td>296.270000</td>\n",
       "      <td>297.892000</td>\n",
       "      <td>294.330000</td>\n",
       "      <td>296.260000</td>\n",
       "      <td>8.486455e+07</td>\n",
       "      <td>0.006161</td>\n",
       "    </tr>\n",
       "    <tr>\n",
       "      <th>max</th>\n",
       "      <td>119.660000</td>\n",
       "      <td>119.730000</td>\n",
       "      <td>119.530000</td>\n",
       "      <td>119.630000</td>\n",
       "      <td>4.357488e+07</td>\n",
       "      <td>0.027948</td>\n",
       "      <td>337.790000</td>\n",
       "      <td>339.080000</td>\n",
       "      <td>337.480000</td>\n",
       "      <td>338.337900</td>\n",
       "      <td>3.639317e+08</td>\n",
       "      <td>0.094737</td>\n",
       "    </tr>\n",
       "  </tbody>\n",
       "</table>\n",
       "</div>"
      ],
      "text/plain": [
       "              AGG                                                    \\\n",
       "             open        high         low       close        volume   \n",
       "count  757.000000  757.000000  757.000000  757.000000  7.570000e+02   \n",
       "mean   110.029660  110.167211  109.869895  110.027495  4.543922e+06   \n",
       "std      4.034236    4.054514    3.993488    4.026875  4.687451e+06   \n",
       "min    104.070000  104.169900  103.940000  104.005000  1.000706e+06   \n",
       "25%    106.540000  106.650000  106.390000  106.500000  2.199472e+06   \n",
       "50%    109.270000  109.420000  109.145000  109.305000  2.961427e+06   \n",
       "75%    112.850000  112.940000  112.620000  112.800000  4.975623e+06   \n",
       "max    119.660000  119.730000  119.530000  119.630000  4.357488e+07   \n",
       "\n",
       "                           SPY                                      \\\n",
       "      daily_return        open        high         low       close   \n",
       "count   756.000000  757.000000  757.000000  757.000000  757.000000   \n",
       "mean      0.000119  283.018048  284.630183  281.172052  283.050946   \n",
       "std       0.003506   22.193045   22.023121   22.406559   22.216416   \n",
       "min      -0.040343  228.190000  229.683300  218.260000  222.510000   \n",
       "25%      -0.001092  267.510000  268.600000  265.390000  267.220000   \n",
       "50%       0.000188  280.740000  282.560000  279.220000  281.020000   \n",
       "75%       0.001315  296.270000  297.892000  294.330000  296.260000   \n",
       "max       0.027948  337.790000  339.080000  337.480000  338.337900   \n",
       "\n",
       "                                  \n",
       "             volume daily_return  \n",
       "count  7.570000e+02   756.000000  \n",
       "mean   7.542897e+07     0.000498  \n",
       "std    5.537267e+07     0.014156  \n",
       "min    1.531436e+07    -0.115916  \n",
       "25%    4.151304e+07    -0.003399  \n",
       "50%    5.509010e+07     0.000935  \n",
       "75%    8.486455e+07     0.006161  \n",
       "max    3.639317e+08     0.094737  "
      ]
     },
     "execution_count": 30,
     "metadata": {},
     "output_type": "execute_result"
    }
   ],
   "source": [
    "# Configure the Monte Carlo simulation to forecast 30 years cumulative returns\n",
    "# The weights should be split 40% to AGG and 60% to SPY.\n",
    "# Run 500 samples.\n",
    "MC_thirtyyear = MCSimulation(\n",
    "  portfolio_data = montecarlo_df,\n",
    "  weights = [.60,.40],\n",
    "  num_simulation = 500,\n",
    "  num_trading_days = 252*30\n",
    ")\n",
    "\n",
    "# Review the simulation input data\n",
    "MC_thirtyyear.portfolio_data.describe()\n"
   ]
  },
  {
   "cell_type": "code",
   "execution_count": 31,
   "metadata": {},
   "outputs": [
    {
     "name": "stdout",
     "output_type": "stream",
     "text": [
      "Running Monte Carlo simulation number 0.\n",
      "Running Monte Carlo simulation number 10.\n",
      "Running Monte Carlo simulation number 20.\n",
      "Running Monte Carlo simulation number 30.\n",
      "Running Monte Carlo simulation number 40.\n",
      "Running Monte Carlo simulation number 50.\n",
      "Running Monte Carlo simulation number 60.\n",
      "Running Monte Carlo simulation number 70.\n",
      "Running Monte Carlo simulation number 80.\n",
      "Running Monte Carlo simulation number 90.\n",
      "Running Monte Carlo simulation number 100.\n",
      "Running Monte Carlo simulation number 110.\n",
      "Running Monte Carlo simulation number 120.\n",
      "Running Monte Carlo simulation number 130.\n",
      "Running Monte Carlo simulation number 140.\n",
      "Running Monte Carlo simulation number 150.\n",
      "Running Monte Carlo simulation number 160.\n",
      "Running Monte Carlo simulation number 170.\n",
      "Running Monte Carlo simulation number 180.\n",
      "Running Monte Carlo simulation number 190.\n",
      "Running Monte Carlo simulation number 200.\n",
      "Running Monte Carlo simulation number 210.\n",
      "Running Monte Carlo simulation number 220.\n",
      "Running Monte Carlo simulation number 230.\n",
      "Running Monte Carlo simulation number 240.\n",
      "Running Monte Carlo simulation number 250.\n",
      "Running Monte Carlo simulation number 260.\n",
      "Running Monte Carlo simulation number 270.\n",
      "Running Monte Carlo simulation number 280.\n",
      "Running Monte Carlo simulation number 290.\n",
      "Running Monte Carlo simulation number 300.\n",
      "Running Monte Carlo simulation number 310.\n",
      "Running Monte Carlo simulation number 320.\n",
      "Running Monte Carlo simulation number 330.\n",
      "Running Monte Carlo simulation number 340.\n",
      "Running Monte Carlo simulation number 350.\n",
      "Running Monte Carlo simulation number 360.\n",
      "Running Monte Carlo simulation number 370.\n",
      "Running Monte Carlo simulation number 380.\n",
      "Running Monte Carlo simulation number 390.\n",
      "Running Monte Carlo simulation number 400.\n",
      "Running Monte Carlo simulation number 410.\n",
      "Running Monte Carlo simulation number 420.\n",
      "Running Monte Carlo simulation number 430.\n",
      "Running Monte Carlo simulation number 440.\n",
      "Running Monte Carlo simulation number 450.\n",
      "Running Monte Carlo simulation number 460.\n",
      "Running Monte Carlo simulation number 470.\n",
      "Running Monte Carlo simulation number 480.\n",
      "Running Monte Carlo simulation number 490.\n"
     ]
    },
    {
     "data": {
      "text/html": [
       "<div>\n",
       "<style scoped>\n",
       "    .dataframe tbody tr th:only-of-type {\n",
       "        vertical-align: middle;\n",
       "    }\n",
       "\n",
       "    .dataframe tbody tr th {\n",
       "        vertical-align: top;\n",
       "    }\n",
       "\n",
       "    .dataframe thead th {\n",
       "        text-align: right;\n",
       "    }\n",
       "</style>\n",
       "<table border=\"1\" class=\"dataframe\">\n",
       "  <thead>\n",
       "    <tr style=\"text-align: right;\">\n",
       "      <th></th>\n",
       "      <th>0</th>\n",
       "      <th>1</th>\n",
       "      <th>2</th>\n",
       "      <th>3</th>\n",
       "      <th>4</th>\n",
       "      <th>5</th>\n",
       "      <th>6</th>\n",
       "      <th>7</th>\n",
       "      <th>8</th>\n",
       "      <th>9</th>\n",
       "      <th>...</th>\n",
       "      <th>490</th>\n",
       "      <th>491</th>\n",
       "      <th>492</th>\n",
       "      <th>493</th>\n",
       "      <th>494</th>\n",
       "      <th>495</th>\n",
       "      <th>496</th>\n",
       "      <th>497</th>\n",
       "      <th>498</th>\n",
       "      <th>499</th>\n",
       "    </tr>\n",
       "  </thead>\n",
       "  <tbody>\n",
       "    <tr>\n",
       "      <th>0</th>\n",
       "      <td>1.000000</td>\n",
       "      <td>1.000000</td>\n",
       "      <td>1.000000</td>\n",
       "      <td>1.000000</td>\n",
       "      <td>1.000000</td>\n",
       "      <td>1.000000</td>\n",
       "      <td>1.000000</td>\n",
       "      <td>1.000000</td>\n",
       "      <td>1.000000</td>\n",
       "      <td>1.000000</td>\n",
       "      <td>...</td>\n",
       "      <td>1.000000</td>\n",
       "      <td>1.000000</td>\n",
       "      <td>1.000000</td>\n",
       "      <td>1.000000</td>\n",
       "      <td>1.000000</td>\n",
       "      <td>1.000000</td>\n",
       "      <td>1.000000</td>\n",
       "      <td>1.000000</td>\n",
       "      <td>1.000000</td>\n",
       "      <td>1.000000</td>\n",
       "    </tr>\n",
       "    <tr>\n",
       "      <th>1</th>\n",
       "      <td>1.006293</td>\n",
       "      <td>0.996354</td>\n",
       "      <td>0.998717</td>\n",
       "      <td>0.997130</td>\n",
       "      <td>0.995172</td>\n",
       "      <td>0.990904</td>\n",
       "      <td>0.999575</td>\n",
       "      <td>1.006085</td>\n",
       "      <td>0.999289</td>\n",
       "      <td>1.004018</td>\n",
       "      <td>...</td>\n",
       "      <td>1.000829</td>\n",
       "      <td>0.990248</td>\n",
       "      <td>0.988839</td>\n",
       "      <td>1.000185</td>\n",
       "      <td>0.985296</td>\n",
       "      <td>0.997711</td>\n",
       "      <td>0.999480</td>\n",
       "      <td>0.995789</td>\n",
       "      <td>0.999552</td>\n",
       "      <td>1.004347</td>\n",
       "    </tr>\n",
       "    <tr>\n",
       "      <th>2</th>\n",
       "      <td>1.014084</td>\n",
       "      <td>1.000191</td>\n",
       "      <td>1.000141</td>\n",
       "      <td>0.993435</td>\n",
       "      <td>0.978648</td>\n",
       "      <td>0.981068</td>\n",
       "      <td>1.004806</td>\n",
       "      <td>1.001580</td>\n",
       "      <td>0.998897</td>\n",
       "      <td>0.997741</td>\n",
       "      <td>...</td>\n",
       "      <td>0.989951</td>\n",
       "      <td>0.992384</td>\n",
       "      <td>0.987276</td>\n",
       "      <td>0.993014</td>\n",
       "      <td>0.985050</td>\n",
       "      <td>0.978998</td>\n",
       "      <td>0.989692</td>\n",
       "      <td>0.998987</td>\n",
       "      <td>0.991085</td>\n",
       "      <td>1.007439</td>\n",
       "    </tr>\n",
       "    <tr>\n",
       "      <th>3</th>\n",
       "      <td>1.005080</td>\n",
       "      <td>0.998564</td>\n",
       "      <td>1.001432</td>\n",
       "      <td>0.998387</td>\n",
       "      <td>0.987505</td>\n",
       "      <td>0.970569</td>\n",
       "      <td>0.996796</td>\n",
       "      <td>0.996655</td>\n",
       "      <td>0.982765</td>\n",
       "      <td>0.994446</td>\n",
       "      <td>...</td>\n",
       "      <td>0.987258</td>\n",
       "      <td>1.002760</td>\n",
       "      <td>0.984527</td>\n",
       "      <td>0.983804</td>\n",
       "      <td>0.976785</td>\n",
       "      <td>0.982622</td>\n",
       "      <td>0.993389</td>\n",
       "      <td>0.996179</td>\n",
       "      <td>0.989622</td>\n",
       "      <td>1.004310</td>\n",
       "    </tr>\n",
       "    <tr>\n",
       "      <th>4</th>\n",
       "      <td>1.000636</td>\n",
       "      <td>0.993496</td>\n",
       "      <td>1.003546</td>\n",
       "      <td>0.997324</td>\n",
       "      <td>0.990527</td>\n",
       "      <td>0.969623</td>\n",
       "      <td>0.999609</td>\n",
       "      <td>0.998908</td>\n",
       "      <td>0.982228</td>\n",
       "      <td>0.989906</td>\n",
       "      <td>...</td>\n",
       "      <td>0.991444</td>\n",
       "      <td>0.990002</td>\n",
       "      <td>0.990305</td>\n",
       "      <td>0.975136</td>\n",
       "      <td>0.981432</td>\n",
       "      <td>0.978176</td>\n",
       "      <td>0.992063</td>\n",
       "      <td>0.989489</td>\n",
       "      <td>0.995373</td>\n",
       "      <td>1.007884</td>\n",
       "    </tr>\n",
       "    <tr>\n",
       "      <th>...</th>\n",
       "      <td>...</td>\n",
       "      <td>...</td>\n",
       "      <td>...</td>\n",
       "      <td>...</td>\n",
       "      <td>...</td>\n",
       "      <td>...</td>\n",
       "      <td>...</td>\n",
       "      <td>...</td>\n",
       "      <td>...</td>\n",
       "      <td>...</td>\n",
       "      <td>...</td>\n",
       "      <td>...</td>\n",
       "      <td>...</td>\n",
       "      <td>...</td>\n",
       "      <td>...</td>\n",
       "      <td>...</td>\n",
       "      <td>...</td>\n",
       "      <td>...</td>\n",
       "      <td>...</td>\n",
       "      <td>...</td>\n",
       "      <td>...</td>\n",
       "    </tr>\n",
       "    <tr>\n",
       "      <th>7556</th>\n",
       "      <td>10.931054</td>\n",
       "      <td>4.122594</td>\n",
       "      <td>6.387878</td>\n",
       "      <td>8.519502</td>\n",
       "      <td>5.595367</td>\n",
       "      <td>7.862838</td>\n",
       "      <td>10.234940</td>\n",
       "      <td>7.005956</td>\n",
       "      <td>4.198743</td>\n",
       "      <td>2.802506</td>\n",
       "      <td>...</td>\n",
       "      <td>2.757355</td>\n",
       "      <td>6.494719</td>\n",
       "      <td>5.651956</td>\n",
       "      <td>9.044189</td>\n",
       "      <td>3.103694</td>\n",
       "      <td>5.579064</td>\n",
       "      <td>6.694986</td>\n",
       "      <td>5.300830</td>\n",
       "      <td>4.621720</td>\n",
       "      <td>7.910760</td>\n",
       "    </tr>\n",
       "    <tr>\n",
       "      <th>7557</th>\n",
       "      <td>10.950186</td>\n",
       "      <td>4.150947</td>\n",
       "      <td>6.450028</td>\n",
       "      <td>8.481138</td>\n",
       "      <td>5.636786</td>\n",
       "      <td>7.807548</td>\n",
       "      <td>10.169762</td>\n",
       "      <td>7.003966</td>\n",
       "      <td>4.151617</td>\n",
       "      <td>2.815696</td>\n",
       "      <td>...</td>\n",
       "      <td>2.750533</td>\n",
       "      <td>6.530502</td>\n",
       "      <td>5.680897</td>\n",
       "      <td>9.092767</td>\n",
       "      <td>3.105104</td>\n",
       "      <td>5.555865</td>\n",
       "      <td>6.692373</td>\n",
       "      <td>5.290753</td>\n",
       "      <td>4.634951</td>\n",
       "      <td>7.835877</td>\n",
       "    </tr>\n",
       "    <tr>\n",
       "      <th>7558</th>\n",
       "      <td>10.996123</td>\n",
       "      <td>4.131671</td>\n",
       "      <td>6.450006</td>\n",
       "      <td>8.377236</td>\n",
       "      <td>5.623842</td>\n",
       "      <td>7.864321</td>\n",
       "      <td>10.156566</td>\n",
       "      <td>6.994042</td>\n",
       "      <td>4.133891</td>\n",
       "      <td>2.816563</td>\n",
       "      <td>...</td>\n",
       "      <td>2.748750</td>\n",
       "      <td>6.532762</td>\n",
       "      <td>5.658767</td>\n",
       "      <td>9.103109</td>\n",
       "      <td>3.081835</td>\n",
       "      <td>5.513799</td>\n",
       "      <td>6.639458</td>\n",
       "      <td>5.291456</td>\n",
       "      <td>4.667563</td>\n",
       "      <td>7.868080</td>\n",
       "    </tr>\n",
       "    <tr>\n",
       "      <th>7559</th>\n",
       "      <td>11.014909</td>\n",
       "      <td>4.128657</td>\n",
       "      <td>6.404661</td>\n",
       "      <td>8.389765</td>\n",
       "      <td>5.605666</td>\n",
       "      <td>7.874344</td>\n",
       "      <td>10.183290</td>\n",
       "      <td>6.990695</td>\n",
       "      <td>4.160084</td>\n",
       "      <td>2.805615</td>\n",
       "      <td>...</td>\n",
       "      <td>2.771674</td>\n",
       "      <td>6.561565</td>\n",
       "      <td>5.662944</td>\n",
       "      <td>9.099497</td>\n",
       "      <td>3.021171</td>\n",
       "      <td>5.520125</td>\n",
       "      <td>6.635578</td>\n",
       "      <td>5.330462</td>\n",
       "      <td>4.673779</td>\n",
       "      <td>7.927249</td>\n",
       "    </tr>\n",
       "    <tr>\n",
       "      <th>7560</th>\n",
       "      <td>11.145814</td>\n",
       "      <td>4.161411</td>\n",
       "      <td>6.422761</td>\n",
       "      <td>8.265799</td>\n",
       "      <td>5.711883</td>\n",
       "      <td>7.954378</td>\n",
       "      <td>10.092338</td>\n",
       "      <td>6.983317</td>\n",
       "      <td>4.189900</td>\n",
       "      <td>2.788684</td>\n",
       "      <td>...</td>\n",
       "      <td>2.769897</td>\n",
       "      <td>6.547388</td>\n",
       "      <td>5.737990</td>\n",
       "      <td>8.989383</td>\n",
       "      <td>3.049473</td>\n",
       "      <td>5.506467</td>\n",
       "      <td>6.688472</td>\n",
       "      <td>5.326807</td>\n",
       "      <td>4.676921</td>\n",
       "      <td>7.909346</td>\n",
       "    </tr>\n",
       "  </tbody>\n",
       "</table>\n",
       "<p>7561 rows × 500 columns</p>\n",
       "</div>"
      ],
      "text/plain": [
       "            0         1         2         3         4         5          6    \\\n",
       "0      1.000000  1.000000  1.000000  1.000000  1.000000  1.000000   1.000000   \n",
       "1      1.006293  0.996354  0.998717  0.997130  0.995172  0.990904   0.999575   \n",
       "2      1.014084  1.000191  1.000141  0.993435  0.978648  0.981068   1.004806   \n",
       "3      1.005080  0.998564  1.001432  0.998387  0.987505  0.970569   0.996796   \n",
       "4      1.000636  0.993496  1.003546  0.997324  0.990527  0.969623   0.999609   \n",
       "...         ...       ...       ...       ...       ...       ...        ...   \n",
       "7556  10.931054  4.122594  6.387878  8.519502  5.595367  7.862838  10.234940   \n",
       "7557  10.950186  4.150947  6.450028  8.481138  5.636786  7.807548  10.169762   \n",
       "7558  10.996123  4.131671  6.450006  8.377236  5.623842  7.864321  10.156566   \n",
       "7559  11.014909  4.128657  6.404661  8.389765  5.605666  7.874344  10.183290   \n",
       "7560  11.145814  4.161411  6.422761  8.265799  5.711883  7.954378  10.092338   \n",
       "\n",
       "           7         8         9    ...       490       491       492  \\\n",
       "0     1.000000  1.000000  1.000000  ...  1.000000  1.000000  1.000000   \n",
       "1     1.006085  0.999289  1.004018  ...  1.000829  0.990248  0.988839   \n",
       "2     1.001580  0.998897  0.997741  ...  0.989951  0.992384  0.987276   \n",
       "3     0.996655  0.982765  0.994446  ...  0.987258  1.002760  0.984527   \n",
       "4     0.998908  0.982228  0.989906  ...  0.991444  0.990002  0.990305   \n",
       "...        ...       ...       ...  ...       ...       ...       ...   \n",
       "7556  7.005956  4.198743  2.802506  ...  2.757355  6.494719  5.651956   \n",
       "7557  7.003966  4.151617  2.815696  ...  2.750533  6.530502  5.680897   \n",
       "7558  6.994042  4.133891  2.816563  ...  2.748750  6.532762  5.658767   \n",
       "7559  6.990695  4.160084  2.805615  ...  2.771674  6.561565  5.662944   \n",
       "7560  6.983317  4.189900  2.788684  ...  2.769897  6.547388  5.737990   \n",
       "\n",
       "           493       494       495       496       497       498       499  \n",
       "0     1.000000  1.000000  1.000000  1.000000  1.000000  1.000000  1.000000  \n",
       "1     1.000185  0.985296  0.997711  0.999480  0.995789  0.999552  1.004347  \n",
       "2     0.993014  0.985050  0.978998  0.989692  0.998987  0.991085  1.007439  \n",
       "3     0.983804  0.976785  0.982622  0.993389  0.996179  0.989622  1.004310  \n",
       "4     0.975136  0.981432  0.978176  0.992063  0.989489  0.995373  1.007884  \n",
       "...        ...       ...       ...       ...       ...       ...       ...  \n",
       "7556  9.044189  3.103694  5.579064  6.694986  5.300830  4.621720  7.910760  \n",
       "7557  9.092767  3.105104  5.555865  6.692373  5.290753  4.634951  7.835877  \n",
       "7558  9.103109  3.081835  5.513799  6.639458  5.291456  4.667563  7.868080  \n",
       "7559  9.099497  3.021171  5.520125  6.635578  5.330462  4.673779  7.927249  \n",
       "7560  8.989383  3.049473  5.506467  6.688472  5.326807  4.676921  7.909346  \n",
       "\n",
       "[7561 rows x 500 columns]"
      ]
     },
     "execution_count": 31,
     "metadata": {},
     "output_type": "execute_result"
    }
   ],
   "source": [
    "# Run the Monte Carlo simulation to forecast 30 years cumulative returns\n",
    "MC_thirtyyear.calc_cumulative_return()\n"
   ]
  },
  {
   "cell_type": "code",
   "execution_count": 32,
   "metadata": {},
   "outputs": [
    {
     "data": {
      "image/png": "[encoded data removed]",
      "text/plain": [
       "<Figure size 432x288 with 1 Axes>"
      ]
     },
     "metadata": {
      "needs_background": "light"
     },
     "output_type": "display_data"
    }
   ],
   "source": [
    "# Visualize the 30-year Monte Carlo simulation by creating an\n",
    "# overlay line plot\n",
    "MC_sim_line_plot = MC_thirtyyear.plot_simulation()\n"
   ]
  },
  {
   "cell_type": "markdown",
   "metadata": {},
   "source": [
    "#### Step 3: Plot the probability distribution of the Monte Carlo simulation."
   ]
  },
  {
   "cell_type": "code",
   "execution_count": 33,
   "metadata": {},
   "outputs": [
    {
     "data": {
      "image/png": "[encoded data removed]",
      "text/plain": [
       "<Figure size 432x288 with 1 Axes>"
      ]
     },
     "metadata": {
      "needs_background": "light"
     },
     "output_type": "display_data"
    }
   ],
   "source": [
    "# Visualize the probability distribution of the 30-year Monte Carlo simulation \n",
    "# by plotting a histogram\n",
    "MC_sim_dist_plot = MC_thirtyyear.plot_distribution()\n"
   ]
  },
  {
   "cell_type": "markdown",
   "metadata": {},
   "source": [
    "#### Step 4: Generate the summary statistics for the Monte Carlo simulation."
   ]
  },
  {
   "cell_type": "code",
   "execution_count": 34,
   "metadata": {},
   "outputs": [
    {
     "name": "stdout",
     "output_type": "stream",
     "text": [
      "count           500.000000\n",
      "mean              7.649715\n",
      "std               4.484584\n",
      "min               0.958353\n",
      "25%               4.570111\n",
      "50%               6.755754\n",
      "75%               9.375064\n",
      "max              36.572056\n",
      "95% CI Lower      2.346057\n",
      "95% CI Upper     18.828971\n",
      "Name: 7560, dtype: float64\n"
     ]
    }
   ],
   "source": [
    "# Generate summary statistics from the 30-year Monte Carlo simulation results\n",
    "# Save the results as a variable\n",
    "MC_summary_statistics = MC_thirtyyear.summarize_cumulative_return()\n",
    "\n",
    "\n",
    "\n",
    "# Review the 30-year Monte Carlo summary statistics\n",
    "print(MC_summary_statistics)"
   ]
  },
  {
   "cell_type": "markdown",
   "metadata": {},
   "source": [
    "### Analyze the Retirement Portfolio Forecasts\n",
    "\n",
    "Using the current value of only the stock and bond portion of the member's portfolio and the summary statistics that you generated from the Monte Carlo simulation, answer the following question in your Jupyter notebook:\n",
    "\n",
    "-  What are the lower and upper bounds for the expected value of the portfolio with a 95% confidence interval?\n"
   ]
  },
  {
   "cell_type": "code",
   "execution_count": 35,
   "metadata": {},
   "outputs": [
    {
     "name": "stdout",
     "output_type": "stream",
     "text": [
      "60689.5\n"
     ]
    }
   ],
   "source": [
    "# Print the current balance of the stock and bond portion of the members portfolio\n",
    "print(total_stocks_bonds)\n"
   ]
  },
  {
   "cell_type": "code",
   "execution_count": 36,
   "metadata": {},
   "outputs": [
    {
     "name": "stdout",
     "output_type": "stream",
     "text": [
      "There is a 95% chance that an initial investment of 60689.5 in the portfolio over the next 30 years will end within in the range of $ 142381.01 and $ 1142720.86.\n"
     ]
    }
   ],
   "source": [
    "# Use the lower and upper `95%` confidence intervals to calculate the range of the possible outcomes for the current stock/bond portfolio\n",
    "ci_lower_thirty_cumulative_return = MC_summary_statistics[8] * total_stocks_bonds\n",
    "ci_upper_thirty_cumulative_return = MC_summary_statistics[9] * total_stocks_bonds\n",
    "\n",
    "# Print the result of your calculations\n",
    "print(f\"There is a 95% chance that an initial investment of\", total_stocks_bonds, \"in the portfolio\"\n",
    "  f\" over the next 30 years will end within in the range of\"\n",
    "  f\" ${ci_lower_thirty_cumulative_return: .2f} and ${ci_upper_thirty_cumulative_return: .2f}.\")\n"
   ]
  },
  {
   "cell_type": "markdown",
   "metadata": {},
   "source": [
    "### Forecast Cumulative Returns in 10 Years\n",
    "\n",
    "The CTO of the credit union is impressed with your work on these planning tools but wonders if 30 years is a long time to wait until retirement. So, your next task is to adjust the retirement portfolio and run a new Monte Carlo simulation to find out if the changes will allow members to retire earlier.\n",
    "\n",
    "For this new Monte Carlo simulation, do the following: \n",
    "\n",
    "- Forecast the cumulative returns for 10 years from now. Because of the shortened investment horizon (30 years to 10 years), the portfolio needs to invest more heavily in the riskier asset&mdash;that is, stock&mdash;to help accumulate wealth for retirement. \n",
    "\n",
    "- Adjust the weights of the retirement portfolio so that the composition for the Monte Carlo simulation consists of 20% bonds and 80% stocks. \n",
    "\n",
    "- Run the simulation over 500 samples, and use the same data that the API call to Alpaca generated.\n",
    "\n",
    "- Based on the new Monte Carlo simulation, answer the following questions in your Jupyter notebook:\n",
    "\n",
    "    - Using the current value of only the stock and bond portion of the member's portfolio and the summary statistics that you generated from the new Monte Carlo simulation, what are the lower and upper bounds for the expected value of the portfolio (with the new weights) with a 95% confidence interval?\n",
    "\n",
    "    - Will weighting the portfolio more heavily toward stocks allow the credit union members to retire after only 10 years?\n"
   ]
  },
  {
   "cell_type": "code",
   "execution_count": 37,
   "metadata": {},
   "outputs": [
    {
     "data": {
      "text/html": [
       "<div>\n",
       "<style scoped>\n",
       "    .dataframe tbody tr th:only-of-type {\n",
       "        vertical-align: middle;\n",
       "    }\n",
       "\n",
       "    .dataframe tbody tr th {\n",
       "        vertical-align: top;\n",
       "    }\n",
       "\n",
       "    .dataframe thead tr th {\n",
       "        text-align: left;\n",
       "    }\n",
       "</style>\n",
       "<table border=\"1\" class=\"dataframe\">\n",
       "  <thead>\n",
       "    <tr>\n",
       "      <th></th>\n",
       "      <th colspan=\"6\" halign=\"left\">AGG</th>\n",
       "      <th colspan=\"6\" halign=\"left\">SPY</th>\n",
       "    </tr>\n",
       "    <tr>\n",
       "      <th></th>\n",
       "      <th>open</th>\n",
       "      <th>high</th>\n",
       "      <th>low</th>\n",
       "      <th>close</th>\n",
       "      <th>volume</th>\n",
       "      <th>daily_return</th>\n",
       "      <th>open</th>\n",
       "      <th>high</th>\n",
       "      <th>low</th>\n",
       "      <th>close</th>\n",
       "      <th>volume</th>\n",
       "      <th>daily_return</th>\n",
       "    </tr>\n",
       "  </thead>\n",
       "  <tbody>\n",
       "    <tr>\n",
       "      <th>count</th>\n",
       "      <td>757.000000</td>\n",
       "      <td>757.000000</td>\n",
       "      <td>757.000000</td>\n",
       "      <td>757.000000</td>\n",
       "      <td>7.570000e+02</td>\n",
       "      <td>756.000000</td>\n",
       "      <td>757.000000</td>\n",
       "      <td>757.000000</td>\n",
       "      <td>757.000000</td>\n",
       "      <td>757.000000</td>\n",
       "      <td>7.570000e+02</td>\n",
       "      <td>756.000000</td>\n",
       "    </tr>\n",
       "    <tr>\n",
       "      <th>mean</th>\n",
       "      <td>110.029660</td>\n",
       "      <td>110.167211</td>\n",
       "      <td>109.869895</td>\n",
       "      <td>110.027495</td>\n",
       "      <td>4.543922e+06</td>\n",
       "      <td>0.000119</td>\n",
       "      <td>283.018048</td>\n",
       "      <td>284.630183</td>\n",
       "      <td>281.172052</td>\n",
       "      <td>283.050946</td>\n",
       "      <td>7.542897e+07</td>\n",
       "      <td>0.000498</td>\n",
       "    </tr>\n",
       "    <tr>\n",
       "      <th>std</th>\n",
       "      <td>4.034236</td>\n",
       "      <td>4.054514</td>\n",
       "      <td>3.993488</td>\n",
       "      <td>4.026875</td>\n",
       "      <td>4.687451e+06</td>\n",
       "      <td>0.003506</td>\n",
       "      <td>22.193045</td>\n",
       "      <td>22.023121</td>\n",
       "      <td>22.406559</td>\n",
       "      <td>22.216416</td>\n",
       "      <td>5.537267e+07</td>\n",
       "      <td>0.014156</td>\n",
       "    </tr>\n",
       "    <tr>\n",
       "      <th>min</th>\n",
       "      <td>104.070000</td>\n",
       "      <td>104.169900</td>\n",
       "      <td>103.940000</td>\n",
       "      <td>104.005000</td>\n",
       "      <td>1.000706e+06</td>\n",
       "      <td>-0.040343</td>\n",
       "      <td>228.190000</td>\n",
       "      <td>229.683300</td>\n",
       "      <td>218.260000</td>\n",
       "      <td>222.510000</td>\n",
       "      <td>1.531436e+07</td>\n",
       "      <td>-0.115916</td>\n",
       "    </tr>\n",
       "    <tr>\n",
       "      <th>25%</th>\n",
       "      <td>106.540000</td>\n",
       "      <td>106.650000</td>\n",
       "      <td>106.390000</td>\n",
       "      <td>106.500000</td>\n",
       "      <td>2.199472e+06</td>\n",
       "      <td>-0.001092</td>\n",
       "      <td>267.510000</td>\n",
       "      <td>268.600000</td>\n",
       "      <td>265.390000</td>\n",
       "      <td>267.220000</td>\n",
       "      <td>4.151304e+07</td>\n",
       "      <td>-0.003399</td>\n",
       "    </tr>\n",
       "    <tr>\n",
       "      <th>50%</th>\n",
       "      <td>109.270000</td>\n",
       "      <td>109.420000</td>\n",
       "      <td>109.145000</td>\n",
       "      <td>109.305000</td>\n",
       "      <td>2.961427e+06</td>\n",
       "      <td>0.000188</td>\n",
       "      <td>280.740000</td>\n",
       "      <td>282.560000</td>\n",
       "      <td>279.220000</td>\n",
       "      <td>281.020000</td>\n",
       "      <td>5.509010e+07</td>\n",
       "      <td>0.000935</td>\n",
       "    </tr>\n",
       "    <tr>\n",
       "      <th>75%</th>\n",
       "      <td>112.850000</td>\n",
       "      <td>112.940000</td>\n",
       "      <td>112.620000</td>\n",
       "      <td>112.800000</td>\n",
       "      <td>4.975623e+06</td>\n",
       "      <td>0.001315</td>\n",
       "      <td>296.270000</td>\n",
       "      <td>297.892000</td>\n",
       "      <td>294.330000</td>\n",
       "      <td>296.260000</td>\n",
       "      <td>8.486455e+07</td>\n",
       "      <td>0.006161</td>\n",
       "    </tr>\n",
       "    <tr>\n",
       "      <th>max</th>\n",
       "      <td>119.660000</td>\n",
       "      <td>119.730000</td>\n",
       "      <td>119.530000</td>\n",
       "      <td>119.630000</td>\n",
       "      <td>4.357488e+07</td>\n",
       "      <td>0.027948</td>\n",
       "      <td>337.790000</td>\n",
       "      <td>339.080000</td>\n",
       "      <td>337.480000</td>\n",
       "      <td>338.337900</td>\n",
       "      <td>3.639317e+08</td>\n",
       "      <td>0.094737</td>\n",
       "    </tr>\n",
       "  </tbody>\n",
       "</table>\n",
       "</div>"
      ],
      "text/plain": [
       "              AGG                                                    \\\n",
       "             open        high         low       close        volume   \n",
       "count  757.000000  757.000000  757.000000  757.000000  7.570000e+02   \n",
       "mean   110.029660  110.167211  109.869895  110.027495  4.543922e+06   \n",
       "std      4.034236    4.054514    3.993488    4.026875  4.687451e+06   \n",
       "min    104.070000  104.169900  103.940000  104.005000  1.000706e+06   \n",
       "25%    106.540000  106.650000  106.390000  106.500000  2.199472e+06   \n",
       "50%    109.270000  109.420000  109.145000  109.305000  2.961427e+06   \n",
       "75%    112.850000  112.940000  112.620000  112.800000  4.975623e+06   \n",
       "max    119.660000  119.730000  119.530000  119.630000  4.357488e+07   \n",
       "\n",
       "                           SPY                                      \\\n",
       "      daily_return        open        high         low       close   \n",
       "count   756.000000  757.000000  757.000000  757.000000  757.000000   \n",
       "mean      0.000119  283.018048  284.630183  281.172052  283.050946   \n",
       "std       0.003506   22.193045   22.023121   22.406559   22.216416   \n",
       "min      -0.040343  228.190000  229.683300  218.260000  222.510000   \n",
       "25%      -0.001092  267.510000  268.600000  265.390000  267.220000   \n",
       "50%       0.000188  280.740000  282.560000  279.220000  281.020000   \n",
       "75%       0.001315  296.270000  297.892000  294.330000  296.260000   \n",
       "max       0.027948  337.790000  339.080000  337.480000  338.337900   \n",
       "\n",
       "                                  \n",
       "             volume daily_return  \n",
       "count  7.570000e+02   756.000000  \n",
       "mean   7.542897e+07     0.000498  \n",
       "std    5.537267e+07     0.014156  \n",
       "min    1.531436e+07    -0.115916  \n",
       "25%    4.151304e+07    -0.003399  \n",
       "50%    5.509010e+07     0.000935  \n",
       "75%    8.486455e+07     0.006161  \n",
       "max    3.639317e+08     0.094737  "
      ]
     },
     "execution_count": 37,
     "metadata": {},
     "output_type": "execute_result"
    }
   ],
   "source": [
    "# Configure a Monte Carlo simulation to forecast 10 years cumulative returns\n",
    "# The weights should be split 20% to AGG and 80% to SPY.\n",
    "# Run 500 samples.\n",
    "MC_tenyear = MCSimulation(\n",
    "  portfolio_data = montecarlo_df,\n",
    "  weights = [.80,.20],\n",
    "  num_simulation = 500,\n",
    "  num_trading_days = 252*10\n",
    ")\n",
    "\n",
    "# Review the simulation input data\n",
    "MC_tenyear.portfolio_data.describe()\n"
   ]
  },
  {
   "cell_type": "code",
   "execution_count": 38,
   "metadata": {},
   "outputs": [
    {
     "name": "stdout",
     "output_type": "stream",
     "text": [
      "Running Monte Carlo simulation number 0.\n",
      "Running Monte Carlo simulation number 10.\n",
      "Running Monte Carlo simulation number 20.\n",
      "Running Monte Carlo simulation number 30.\n",
      "Running Monte Carlo simulation number 40.\n",
      "Running Monte Carlo simulation number 50.\n",
      "Running Monte Carlo simulation number 60.\n",
      "Running Monte Carlo simulation number 70.\n",
      "Running Monte Carlo simulation number 80.\n",
      "Running Monte Carlo simulation number 90.\n",
      "Running Monte Carlo simulation number 100.\n",
      "Running Monte Carlo simulation number 110.\n",
      "Running Monte Carlo simulation number 120.\n",
      "Running Monte Carlo simulation number 130.\n",
      "Running Monte Carlo simulation number 140.\n",
      "Running Monte Carlo simulation number 150.\n",
      "Running Monte Carlo simulation number 160.\n",
      "Running Monte Carlo simulation number 170.\n",
      "Running Monte Carlo simulation number 180.\n",
      "Running Monte Carlo simulation number 190.\n",
      "Running Monte Carlo simulation number 200.\n",
      "Running Monte Carlo simulation number 210.\n",
      "Running Monte Carlo simulation number 220.\n",
      "Running Monte Carlo simulation number 230.\n",
      "Running Monte Carlo simulation number 240.\n",
      "Running Monte Carlo simulation number 250.\n",
      "Running Monte Carlo simulation number 260.\n",
      "Running Monte Carlo simulation number 270.\n",
      "Running Monte Carlo simulation number 280.\n",
      "Running Monte Carlo simulation number 290.\n",
      "Running Monte Carlo simulation number 300.\n",
      "Running Monte Carlo simulation number 310.\n",
      "Running Monte Carlo simulation number 320.\n",
      "Running Monte Carlo simulation number 330.\n",
      "Running Monte Carlo simulation number 340.\n",
      "Running Monte Carlo simulation number 350.\n",
      "Running Monte Carlo simulation number 360.\n",
      "Running Monte Carlo simulation number 370.\n",
      "Running Monte Carlo simulation number 380.\n",
      "Running Monte Carlo simulation number 390.\n",
      "Running Monte Carlo simulation number 400.\n",
      "Running Monte Carlo simulation number 410.\n",
      "Running Monte Carlo simulation number 420.\n",
      "Running Monte Carlo simulation number 430.\n",
      "Running Monte Carlo simulation number 440.\n",
      "Running Monte Carlo simulation number 450.\n",
      "Running Monte Carlo simulation number 460.\n",
      "Running Monte Carlo simulation number 470.\n",
      "Running Monte Carlo simulation number 480.\n",
      "Running Monte Carlo simulation number 490.\n"
     ]
    },
    {
     "data": {
      "text/html": [
       "<div>\n",
       "<style scoped>\n",
       "    .dataframe tbody tr th:only-of-type {\n",
       "        vertical-align: middle;\n",
       "    }\n",
       "\n",
       "    .dataframe tbody tr th {\n",
       "        vertical-align: top;\n",
       "    }\n",
       "\n",
       "    .dataframe thead th {\n",
       "        text-align: right;\n",
       "    }\n",
       "</style>\n",
       "<table border=\"1\" class=\"dataframe\">\n",
       "  <thead>\n",
       "    <tr style=\"text-align: right;\">\n",
       "      <th></th>\n",
       "      <th>0</th>\n",
       "      <th>1</th>\n",
       "      <th>2</th>\n",
       "      <th>3</th>\n",
       "      <th>4</th>\n",
       "      <th>5</th>\n",
       "      <th>6</th>\n",
       "      <th>7</th>\n",
       "      <th>8</th>\n",
       "      <th>9</th>\n",
       "      <th>...</th>\n",
       "      <th>490</th>\n",
       "      <th>491</th>\n",
       "      <th>492</th>\n",
       "      <th>493</th>\n",
       "      <th>494</th>\n",
       "      <th>495</th>\n",
       "      <th>496</th>\n",
       "      <th>497</th>\n",
       "      <th>498</th>\n",
       "      <th>499</th>\n",
       "    </tr>\n",
       "  </thead>\n",
       "  <tbody>\n",
       "    <tr>\n",
       "      <th>0</th>\n",
       "      <td>1.000000</td>\n",
       "      <td>1.000000</td>\n",
       "      <td>1.000000</td>\n",
       "      <td>1.000000</td>\n",
       "      <td>1.000000</td>\n",
       "      <td>1.000000</td>\n",
       "      <td>1.000000</td>\n",
       "      <td>1.000000</td>\n",
       "      <td>1.000000</td>\n",
       "      <td>1.000000</td>\n",
       "      <td>...</td>\n",
       "      <td>1.000000</td>\n",
       "      <td>1.000000</td>\n",
       "      <td>1.000000</td>\n",
       "      <td>1.000000</td>\n",
       "      <td>1.000000</td>\n",
       "      <td>1.000000</td>\n",
       "      <td>1.000000</td>\n",
       "      <td>1.000000</td>\n",
       "      <td>1.000000</td>\n",
       "      <td>1.000000</td>\n",
       "    </tr>\n",
       "    <tr>\n",
       "      <th>1</th>\n",
       "      <td>1.004964</td>\n",
       "      <td>0.992605</td>\n",
       "      <td>0.997989</td>\n",
       "      <td>0.997923</td>\n",
       "      <td>0.997812</td>\n",
       "      <td>0.989898</td>\n",
       "      <td>0.996279</td>\n",
       "      <td>0.996893</td>\n",
       "      <td>1.003525</td>\n",
       "      <td>0.993198</td>\n",
       "      <td>...</td>\n",
       "      <td>0.994262</td>\n",
       "      <td>0.993953</td>\n",
       "      <td>1.002648</td>\n",
       "      <td>0.995489</td>\n",
       "      <td>0.995903</td>\n",
       "      <td>1.004363</td>\n",
       "      <td>1.003070</td>\n",
       "      <td>0.992479</td>\n",
       "      <td>1.004099</td>\n",
       "      <td>0.994234</td>\n",
       "    </tr>\n",
       "    <tr>\n",
       "      <th>2</th>\n",
       "      <td>1.012746</td>\n",
       "      <td>0.990017</td>\n",
       "      <td>1.000585</td>\n",
       "      <td>0.994500</td>\n",
       "      <td>0.999478</td>\n",
       "      <td>0.993917</td>\n",
       "      <td>0.998220</td>\n",
       "      <td>1.001233</td>\n",
       "      <td>1.004386</td>\n",
       "      <td>0.989442</td>\n",
       "      <td>...</td>\n",
       "      <td>0.992784</td>\n",
       "      <td>0.992279</td>\n",
       "      <td>0.995549</td>\n",
       "      <td>0.987010</td>\n",
       "      <td>1.001178</td>\n",
       "      <td>1.005176</td>\n",
       "      <td>1.008105</td>\n",
       "      <td>0.989732</td>\n",
       "      <td>1.004958</td>\n",
       "      <td>1.001876</td>\n",
       "    </tr>\n",
       "    <tr>\n",
       "      <th>3</th>\n",
       "      <td>1.009114</td>\n",
       "      <td>0.987454</td>\n",
       "      <td>0.999954</td>\n",
       "      <td>0.992247</td>\n",
       "      <td>0.996751</td>\n",
       "      <td>0.997097</td>\n",
       "      <td>1.000143</td>\n",
       "      <td>1.007410</td>\n",
       "      <td>1.001586</td>\n",
       "      <td>0.987332</td>\n",
       "      <td>...</td>\n",
       "      <td>0.992188</td>\n",
       "      <td>0.988750</td>\n",
       "      <td>0.992391</td>\n",
       "      <td>0.983733</td>\n",
       "      <td>0.998828</td>\n",
       "      <td>1.005059</td>\n",
       "      <td>1.005156</td>\n",
       "      <td>0.983613</td>\n",
       "      <td>0.997848</td>\n",
       "      <td>1.000225</td>\n",
       "    </tr>\n",
       "    <tr>\n",
       "      <th>4</th>\n",
       "      <td>1.013935</td>\n",
       "      <td>0.988219</td>\n",
       "      <td>0.996144</td>\n",
       "      <td>0.990405</td>\n",
       "      <td>0.987704</td>\n",
       "      <td>0.991047</td>\n",
       "      <td>1.002906</td>\n",
       "      <td>1.003689</td>\n",
       "      <td>1.004127</td>\n",
       "      <td>0.988891</td>\n",
       "      <td>...</td>\n",
       "      <td>0.998649</td>\n",
       "      <td>0.986640</td>\n",
       "      <td>0.989010</td>\n",
       "      <td>0.987349</td>\n",
       "      <td>0.996867</td>\n",
       "      <td>0.997972</td>\n",
       "      <td>1.006230</td>\n",
       "      <td>0.982382</td>\n",
       "      <td>1.002276</td>\n",
       "      <td>1.000977</td>\n",
       "    </tr>\n",
       "    <tr>\n",
       "      <th>...</th>\n",
       "      <td>...</td>\n",
       "      <td>...</td>\n",
       "      <td>...</td>\n",
       "      <td>...</td>\n",
       "      <td>...</td>\n",
       "      <td>...</td>\n",
       "      <td>...</td>\n",
       "      <td>...</td>\n",
       "      <td>...</td>\n",
       "      <td>...</td>\n",
       "      <td>...</td>\n",
       "      <td>...</td>\n",
       "      <td>...</td>\n",
       "      <td>...</td>\n",
       "      <td>...</td>\n",
       "      <td>...</td>\n",
       "      <td>...</td>\n",
       "      <td>...</td>\n",
       "      <td>...</td>\n",
       "      <td>...</td>\n",
       "      <td>...</td>\n",
       "    </tr>\n",
       "    <tr>\n",
       "      <th>2516</th>\n",
       "      <td>1.961226</td>\n",
       "      <td>1.617202</td>\n",
       "      <td>1.553787</td>\n",
       "      <td>1.641986</td>\n",
       "      <td>0.872846</td>\n",
       "      <td>1.183678</td>\n",
       "      <td>1.960004</td>\n",
       "      <td>1.377949</td>\n",
       "      <td>1.924129</td>\n",
       "      <td>1.404373</td>\n",
       "      <td>...</td>\n",
       "      <td>1.206216</td>\n",
       "      <td>2.011348</td>\n",
       "      <td>1.393267</td>\n",
       "      <td>1.283429</td>\n",
       "      <td>2.060355</td>\n",
       "      <td>1.996703</td>\n",
       "      <td>1.649467</td>\n",
       "      <td>1.427594</td>\n",
       "      <td>1.594376</td>\n",
       "      <td>1.272947</td>\n",
       "    </tr>\n",
       "    <tr>\n",
       "      <th>2517</th>\n",
       "      <td>1.956144</td>\n",
       "      <td>1.606567</td>\n",
       "      <td>1.557659</td>\n",
       "      <td>1.651074</td>\n",
       "      <td>0.870919</td>\n",
       "      <td>1.179870</td>\n",
       "      <td>1.974419</td>\n",
       "      <td>1.380774</td>\n",
       "      <td>1.911606</td>\n",
       "      <td>1.407616</td>\n",
       "      <td>...</td>\n",
       "      <td>1.214023</td>\n",
       "      <td>2.014672</td>\n",
       "      <td>1.393944</td>\n",
       "      <td>1.281181</td>\n",
       "      <td>2.066513</td>\n",
       "      <td>1.985989</td>\n",
       "      <td>1.648711</td>\n",
       "      <td>1.419442</td>\n",
       "      <td>1.595259</td>\n",
       "      <td>1.265089</td>\n",
       "    </tr>\n",
       "    <tr>\n",
       "      <th>2518</th>\n",
       "      <td>1.950994</td>\n",
       "      <td>1.603726</td>\n",
       "      <td>1.551588</td>\n",
       "      <td>1.643995</td>\n",
       "      <td>0.872606</td>\n",
       "      <td>1.179608</td>\n",
       "      <td>1.969207</td>\n",
       "      <td>1.372670</td>\n",
       "      <td>1.909276</td>\n",
       "      <td>1.414930</td>\n",
       "      <td>...</td>\n",
       "      <td>1.215407</td>\n",
       "      <td>2.017297</td>\n",
       "      <td>1.394457</td>\n",
       "      <td>1.282136</td>\n",
       "      <td>2.071364</td>\n",
       "      <td>1.989387</td>\n",
       "      <td>1.648374</td>\n",
       "      <td>1.417809</td>\n",
       "      <td>1.597193</td>\n",
       "      <td>1.268840</td>\n",
       "    </tr>\n",
       "    <tr>\n",
       "      <th>2519</th>\n",
       "      <td>1.938367</td>\n",
       "      <td>1.608689</td>\n",
       "      <td>1.543715</td>\n",
       "      <td>1.643317</td>\n",
       "      <td>0.878299</td>\n",
       "      <td>1.194201</td>\n",
       "      <td>1.959877</td>\n",
       "      <td>1.375755</td>\n",
       "      <td>1.918942</td>\n",
       "      <td>1.414986</td>\n",
       "      <td>...</td>\n",
       "      <td>1.216376</td>\n",
       "      <td>2.021251</td>\n",
       "      <td>1.396143</td>\n",
       "      <td>1.276258</td>\n",
       "      <td>2.057604</td>\n",
       "      <td>1.991979</td>\n",
       "      <td>1.641696</td>\n",
       "      <td>1.416710</td>\n",
       "      <td>1.601820</td>\n",
       "      <td>1.270899</td>\n",
       "    </tr>\n",
       "    <tr>\n",
       "      <th>2520</th>\n",
       "      <td>1.928535</td>\n",
       "      <td>1.614849</td>\n",
       "      <td>1.551633</td>\n",
       "      <td>1.642547</td>\n",
       "      <td>0.875154</td>\n",
       "      <td>1.191566</td>\n",
       "      <td>1.958681</td>\n",
       "      <td>1.374381</td>\n",
       "      <td>1.915167</td>\n",
       "      <td>1.415572</td>\n",
       "      <td>...</td>\n",
       "      <td>1.210152</td>\n",
       "      <td>2.018314</td>\n",
       "      <td>1.395896</td>\n",
       "      <td>1.276634</td>\n",
       "      <td>2.059850</td>\n",
       "      <td>1.990150</td>\n",
       "      <td>1.633562</td>\n",
       "      <td>1.418014</td>\n",
       "      <td>1.596138</td>\n",
       "      <td>1.266081</td>\n",
       "    </tr>\n",
       "  </tbody>\n",
       "</table>\n",
       "<p>2521 rows × 500 columns</p>\n",
       "</div>"
      ],
      "text/plain": [
       "           0         1         2         3         4         5         6    \\\n",
       "0     1.000000  1.000000  1.000000  1.000000  1.000000  1.000000  1.000000   \n",
       "1     1.004964  0.992605  0.997989  0.997923  0.997812  0.989898  0.996279   \n",
       "2     1.012746  0.990017  1.000585  0.994500  0.999478  0.993917  0.998220   \n",
       "3     1.009114  0.987454  0.999954  0.992247  0.996751  0.997097  1.000143   \n",
       "4     1.013935  0.988219  0.996144  0.990405  0.987704  0.991047  1.002906   \n",
       "...        ...       ...       ...       ...       ...       ...       ...   \n",
       "2516  1.961226  1.617202  1.553787  1.641986  0.872846  1.183678  1.960004   \n",
       "2517  1.956144  1.606567  1.557659  1.651074  0.870919  1.179870  1.974419   \n",
       "2518  1.950994  1.603726  1.551588  1.643995  0.872606  1.179608  1.969207   \n",
       "2519  1.938367  1.608689  1.543715  1.643317  0.878299  1.194201  1.959877   \n",
       "2520  1.928535  1.614849  1.551633  1.642547  0.875154  1.191566  1.958681   \n",
       "\n",
       "           7         8         9    ...       490       491       492  \\\n",
       "0     1.000000  1.000000  1.000000  ...  1.000000  1.000000  1.000000   \n",
       "1     0.996893  1.003525  0.993198  ...  0.994262  0.993953  1.002648   \n",
       "2     1.001233  1.004386  0.989442  ...  0.992784  0.992279  0.995549   \n",
       "3     1.007410  1.001586  0.987332  ...  0.992188  0.988750  0.992391   \n",
       "4     1.003689  1.004127  0.988891  ...  0.998649  0.986640  0.989010   \n",
       "...        ...       ...       ...  ...       ...       ...       ...   \n",
       "2516  1.377949  1.924129  1.404373  ...  1.206216  2.011348  1.393267   \n",
       "2517  1.380774  1.911606  1.407616  ...  1.214023  2.014672  1.393944   \n",
       "2518  1.372670  1.909276  1.414930  ...  1.215407  2.017297  1.394457   \n",
       "2519  1.375755  1.918942  1.414986  ...  1.216376  2.021251  1.396143   \n",
       "2520  1.374381  1.915167  1.415572  ...  1.210152  2.018314  1.395896   \n",
       "\n",
       "           493       494       495       496       497       498       499  \n",
       "0     1.000000  1.000000  1.000000  1.000000  1.000000  1.000000  1.000000  \n",
       "1     0.995489  0.995903  1.004363  1.003070  0.992479  1.004099  0.994234  \n",
       "2     0.987010  1.001178  1.005176  1.008105  0.989732  1.004958  1.001876  \n",
       "3     0.983733  0.998828  1.005059  1.005156  0.983613  0.997848  1.000225  \n",
       "4     0.987349  0.996867  0.997972  1.006230  0.982382  1.002276  1.000977  \n",
       "...        ...       ...       ...       ...       ...       ...       ...  \n",
       "2516  1.283429  2.060355  1.996703  1.649467  1.427594  1.594376  1.272947  \n",
       "2517  1.281181  2.066513  1.985989  1.648711  1.419442  1.595259  1.265089  \n",
       "2518  1.282136  2.071364  1.989387  1.648374  1.417809  1.597193  1.268840  \n",
       "2519  1.276258  2.057604  1.991979  1.641696  1.416710  1.601820  1.270899  \n",
       "2520  1.276634  2.059850  1.990150  1.633562  1.418014  1.596138  1.266081  \n",
       "\n",
       "[2521 rows x 500 columns]"
      ]
     },
     "execution_count": 38,
     "metadata": {},
     "output_type": "execute_result"
    }
   ],
   "source": [
    "# Run the Monte Carlo simulation to forecast 10 years cumulative returns\n",
    "MC_tenyear.calc_cumulative_return()\n"
   ]
  },
  {
   "cell_type": "code",
   "execution_count": 39,
   "metadata": {},
   "outputs": [
    {
     "data": {
      "image/png": "[encoded data removed]",
      "text/plain": [
       "<Figure size 432x288 with 1 Axes>"
      ]
     },
     "metadata": {
      "needs_background": "light"
     },
     "output_type": "display_data"
    }
   ],
   "source": [
    "# Visualize the 10-year Monte Carlo simulation by creating an\n",
    "# overlay line plot\n",
    "MC_sim_line_plot = MC_tenyear.plot_simulation()\n"
   ]
  },
  {
   "cell_type": "code",
   "execution_count": 40,
   "metadata": {},
   "outputs": [
    {
     "data": {
      "image/png": "[encoded data removed]",
      "text/plain": [
       "<Figure size 432x288 with 1 Axes>"
      ]
     },
     "metadata": {
      "needs_background": "light"
     },
     "output_type": "display_data"
    }
   ],
   "source": [
    "# Visualize the probability distribution of the 10-year Monte Carlo simulation \n",
    "# by plotting a histogram\n",
    "MC_sim_dist_plot = MC_tenyear.plot_distribution()\n"
   ]
  },
  {
   "cell_type": "code",
   "execution_count": 44,
   "metadata": {},
   "outputs": [
    {
     "name": "stdout",
     "output_type": "stream",
     "text": [
      "count           500.000000\n",
      "mean              1.622183\n",
      "std               0.322599\n",
      "min               0.875154\n",
      "25%               1.404410\n",
      "50%               1.583048\n",
      "75%               1.819068\n",
      "max               2.747370\n",
      "95% CI Lower      1.093159\n",
      "95% CI Upper      2.296876\n",
      "Name: 2520, dtype: float64\n"
     ]
    }
   ],
   "source": [
    "# Generate summary statistics from the 10-year Monte Carlo simulation results\n",
    "# Save the results as a variable\n",
    "MC_summary_statistics_ten = MC_tenyear.summarize_cumulative_return()\n",
    "\n",
    "\n",
    "# Review the 10-year Monte Carlo summary statistics\n",
    "print(MC_summary_statistics_ten)"
   ]
  },
  {
   "cell_type": "markdown",
   "metadata": {},
   "source": [
    "### Answer the following questions:"
   ]
  },
  {
   "cell_type": "markdown",
   "metadata": {},
   "source": [
    "#### Question: Using the current value of only the stock and bond portion of the member's portfolio and the summary statistics that you generated from the new Monte Carlo simulation, what are the lower and upper bounds for the expected value of the portfolio (with the new weights) with a 95% confidence interval?"
   ]
  },
  {
   "cell_type": "code",
   "execution_count": 45,
   "metadata": {},
   "outputs": [
    {
     "name": "stdout",
     "output_type": "stream",
     "text": [
      "60689.5\n"
     ]
    }
   ],
   "source": [
    "# Print the current balance of the stock and bond portion of the members portfolio\n",
    "print(total_stocks_bonds)\n"
   ]
  },
  {
   "cell_type": "code",
   "execution_count": 47,
   "metadata": {},
   "outputs": [
    {
     "name": "stdout",
     "output_type": "stream",
     "text": [
      "There is a 95% chance that an initial investment of 60689.5 in the portfolio over the next 10 years will end within in the range of $ 66343.25 and $ 139396.28.\n"
     ]
    }
   ],
   "source": [
    "# Use the lower and upper `95%` confidence intervals to calculate the range of the possible outcomes for the current stock/bond portfolio\n",
    "ci_lower_ten_cumulative_return = MC_summary_statistics_ten[8] * total_stocks_bonds\n",
    "ci_upper_ten_cumulative_return = MC_summary_statistics_ten[9] * total_stocks_bonds\n",
    "\n",
    "# Print the result of your calculations\n",
    "print(f\"There is a 95% chance that an initial investment of\", total_stocks_bonds, \"in the portfolio\"\n",
    "  f\" over the next 10 years will end within in the range of\"\n",
    "  f\" ${ci_lower_ten_cumulative_return: .2f} and ${ci_upper_ten_cumulative_return: .2f}.\")\n"
   ]
  },
  {
   "cell_type": "markdown",
   "metadata": {},
   "source": [
    "#### Question: Will weighting the portfolio more heavily to stocks allow the credit union members to retire after only 10 years?"
   ]
  },
  {
   "cell_type": "raw",
   "metadata": {},
   "source": [
    "**Answer** It does not seem to be the case if the assumed max value is around $140k, I would imagine it takes more than that to properly retire. There is one situation where it is advantageous. The upper bound of the 10 year is close to equal of the lower band of the 30 year. Obviously, getting roughly the same value in 1/3 of the time is advantageous. "
   ]
  },
  {
   "cell_type": "code",
   "execution_count": null,
   "metadata": {},
   "outputs": [],
   "source": []
  }
 ],
 "metadata": {
  "kernelspec": {
   "display_name": "Python 3",
   "language": "python",
   "name": "python3"
  },
  "language_info": {
   "codemirror_mode": {
    "name": "ipython",
    "version": 3
   },
   "file_extension": ".py",
   "mimetype": "text/x-python",
   "name": "python",
   "nbconvert_exporter": "python",
   "pygments_lexer": "ipython3",
   "version": "3.7.10"
  }
 },
 "nbformat": 4,
 "nbformat_minor": 4
}
