{
 "cells": [
  {
   "cell_type": "markdown",
   "metadata": {},
   "source": [
    "# Financial Planning with APIs and Simulations\n",
    "\n",
    "In this Challenge, you’ll create two financial analysis tools by using a single Jupyter notebook:\n",
    "\n",
    "Part 1: A financial planner for emergencies. The members will be able to use this tool to visualize their current savings. The members can then determine if they have enough reserves for an emergency fund.\n",
    "\n",
    "Part 2: A financial planner for retirement. This tool will forecast the performance of their retirement portfolio in 30 years. To do this, the tool will make an Alpaca API call via the Alpaca SDK to get historical price data for use in Monte Carlo simulations.\n",
    "\n",
    "You’ll use the information from the Monte Carlo simulation to answer questions about the portfolio in your Jupyter notebook.\n",
    "\n"
   ]
  },
  {
   "cell_type": "code",
   "execution_count": 57,
   "metadata": {},
   "outputs": [],
   "source": [
    "# Import the required libraries and dependencies\n",
    "import os\n",
    "import requests\n",
    "import json\n",
    "import pandas as pd\n",
    "from dotenv import load_dotenv\n",
    "import alpaca_trade_api as tradeapi\n",
    "from MCForecastTools import MCSimulation\n",
    "\n",
    "%matplotlib inline"
   ]
  },
  {
   "cell_type": "code",
   "execution_count": 58,
   "metadata": {},
   "outputs": [
    {
     "data": {
      "text/plain": [
       "True"
      ]
     },
     "execution_count": 58,
     "metadata": {},
     "output_type": "execute_result"
    }
   ],
   "source": [
    "# Load the environment variables from the .env file\n",
    "#by calling the load_dotenv function\n",
    "load_dotenv()"
   ]
  },
  {
   "cell_type": "markdown",
   "metadata": {},
   "source": [
    "## Part 1: Create a Financial Planner for Emergencies"
   ]
  },
  {
   "cell_type": "markdown",
   "metadata": {},
   "source": [
    "### Evaluate the Cryptocurrency Wallet by Using the Requests Library\n",
    "\n",
    "In this section, you’ll determine the current value of a member’s cryptocurrency wallet. You’ll collect the current prices for the Bitcoin and Ethereum cryptocurrencies by using the Python Requests library. For the prototype, you’ll assume that the member holds the 1.2 Bitcoins (BTC) and 5.3 Ethereum coins (ETH). To do all this, complete the following steps:\n",
    "\n",
    "1. Create a variable named `monthly_income`, and set its value to `12000`.\n",
    "\n",
    "2. Use the Requests library to get the current price (in US dollars) of Bitcoin (BTC) and Ethereum (ETH) by using the API endpoints that the starter code supplies.\n",
    "\n",
    "3. Navigate the JSON response object to access the current price of each coin, and store each in a variable.\n",
    "\n",
    "    > **Hint** Note the specific identifier for each cryptocurrency in the API JSON response. The Bitcoin identifier is `1`, and the Ethereum identifier is `1027`.\n",
    "\n",
    "4. Calculate the value, in US dollars, of the current amount of each cryptocurrency and of the entire cryptocurrency wallet.\n",
    "\n"
   ]
  },
  {
   "cell_type": "code",
   "execution_count": 59,
   "metadata": {},
   "outputs": [],
   "source": [
    "# The current number of coins for each cryptocurrency asset held in the portfolio.\n",
    "btc_coins = 1.2\n",
    "eth_coins = 5.3"
   ]
  },
  {
   "cell_type": "markdown",
   "metadata": {},
   "source": [
    "#### Step 1: Create a variable named `monthly_income`, and set its value to `12000`."
   ]
  },
  {
   "cell_type": "code",
   "execution_count": 60,
   "metadata": {},
   "outputs": [],
   "source": [
    "# The monthly amount for the member's household income\n",
    "# YOUR CODE HERE\n",
    "monthly_income = 12000\n"
   ]
  },
  {
   "cell_type": "markdown",
   "metadata": {},
   "source": [
    "#### Review the endpoint URLs for the API calls to Free Crypto API in order to get the current pricing information for both BTC and ETH."
   ]
  },
  {
   "cell_type": "code",
   "execution_count": 61,
   "metadata": {},
   "outputs": [],
   "source": [
    "# The Free Crypto API Call endpoint URLs for the held cryptocurrency assets\n",
    "btc_url = \"https://api.alternative.me/v2/ticker/Bitcoin/?convert=USD\"\n",
    "eth_url = \"https://api.alternative.me/v2/ticker/Ethereum/?convert=USD\""
   ]
  },
  {
   "cell_type": "markdown",
   "metadata": {},
   "source": [
    "#### Step 2. Use the Requests library to get the current price (in US dollars) of Bitcoin (BTC) and Ethereum (ETH) by using the API endpoints that the starter code supplied."
   ]
  },
  {
   "cell_type": "code",
   "execution_count": 62,
   "metadata": {},
   "outputs": [
    {
     "name": "stdout",
     "output_type": "stream",
     "text": [
      "{\n",
      "    \"data\": {\n",
      "        \"1\": {\n",
      "            \"circulating_supply\": 18772825,\n",
      "            \"id\": 1,\n",
      "            \"last_updated\": 1627787351,\n",
      "            \"max_supply\": 21000000,\n",
      "            \"name\": \"Bitcoin\",\n",
      "            \"quotes\": {\n",
      "                \"USD\": {\n",
      "                    \"market_cap\": 784877783211,\n",
      "                    \"percent_change_1h\": 0.511736328321041,\n",
      "                    \"percent_change_24h\": -0.189592420982311,\n",
      "                    \"percent_change_7d\": 22.5802204634566,\n",
      "                    \"percentage_change_1h\": 0.511736328321041,\n",
      "                    \"percentage_change_24h\": -0.189592420982311,\n",
      "                    \"percentage_change_7d\": 22.5802204634566,\n",
      "                    \"price\": 41939.0,\n",
      "                    \"volume_24h\": 26461848825\n",
      "                }\n",
      "            },\n",
      "            \"rank\": 1,\n",
      "            \"symbol\": \"BTC\",\n",
      "            \"total_supply\": 18772825,\n",
      "            \"website_slug\": \"bitcoin\"\n",
      "        }\n",
      "    },\n",
      "    \"metadata\": {\n",
      "        \"error\": null,\n",
      "        \"num_cryptocurrencies\": 3105,\n",
      "        \"timestamp\": 1627787351\n",
      "    }\n",
      "}\n"
     ]
    }
   ],
   "source": [
    "# Using the Python requests library, make an API call to access the current price of BTC\n",
    "btc_response = requests.get(btc_url).json()\n",
    "\n",
    "# Use the json.dumps function to review the response data from the API call\n",
    "# Use the indent and sort_keys parameters to make the response object readable\n",
    "# YOUR CODE HERE\n",
    "print(json.dumps(btc_response, indent=4, sort_keys=True))\n"
   ]
  },
  {
   "cell_type": "code",
   "execution_count": 63,
   "metadata": {},
   "outputs": [
    {
     "name": "stdout",
     "output_type": "stream",
     "text": [
      "{\n",
      "    \"data\": {\n",
      "        \"1027\": {\n",
      "            \"circulating_supply\": 116922422,\n",
      "            \"id\": 1027,\n",
      "            \"last_updated\": 1627787352,\n",
      "            \"max_supply\": 0,\n",
      "            \"name\": \"Ethereum\",\n",
      "            \"quotes\": {\n",
      "                \"USD\": {\n",
      "                    \"market_cap\": 301962746694,\n",
      "                    \"percent_change_1h\": 0.511135308844763,\n",
      "                    \"percent_change_24h\": 4.47200023271517,\n",
      "                    \"percent_change_7d\": 18.1899671608397,\n",
      "                    \"percentage_change_1h\": 0.511135308844763,\n",
      "                    \"percentage_change_24h\": 4.47200023271517,\n",
      "                    \"percentage_change_7d\": 18.1899671608397,\n",
      "                    \"price\": 2580.83,\n",
      "                    \"volume_24h\": 21642403159\n",
      "                }\n",
      "            },\n",
      "            \"rank\": 2,\n",
      "            \"symbol\": \"ETH\",\n",
      "            \"total_supply\": 116922422,\n",
      "            \"website_slug\": \"ethereum\"\n",
      "        }\n",
      "    },\n",
      "    \"metadata\": {\n",
      "        \"error\": null,\n",
      "        \"num_cryptocurrencies\": 3105,\n",
      "        \"timestamp\": 1627787352\n",
      "    }\n",
      "}\n"
     ]
    }
   ],
   "source": [
    "# Using the Python requests library, make an API call to access the current price ETH\n",
    "eth_response = requests.get(eth_url).json()\n",
    "\n",
    "# Use the json.dumps function to review the response data from the API call\n",
    "# Use the indent and sort_keys parameters to make the response object readable\n",
    "# YOUR CODE HERE\n",
    "print(json.dumps(eth_response, indent=4, sort_keys=True))"
   ]
  },
  {
   "cell_type": "markdown",
   "metadata": {},
   "source": [
    "#### Step 3: Navigate the JSON response object to access the current price of each coin, and store each in a variable."
   ]
  },
  {
   "cell_type": "code",
   "execution_count": 64,
   "metadata": {},
   "outputs": [
    {
     "name": "stdout",
     "output_type": "stream",
     "text": [
      "The current price of Bitcoin is 41939.0\n"
     ]
    }
   ],
   "source": [
    "# Navigate the BTC response object to access the current price of BTC\n",
    "btc_price = float(btc_response['data']['1']['quotes']['USD']['price'])\n",
    "\n",
    "# Print the current price of BTC\n",
    "# YOUR CODE HERE\n",
    "print(\"The current price of Bitcoin is\", btc_price)"
   ]
  },
  {
   "cell_type": "code",
   "execution_count": 65,
   "metadata": {},
   "outputs": [
    {
     "name": "stdout",
     "output_type": "stream",
     "text": [
      "The current price of Etherium is 2580.83\n"
     ]
    }
   ],
   "source": [
    "# Navigate the BTC response object to access the current price of ETH\n",
    "eth_price = float(eth_response['data']['1027']['quotes']['USD']['price'])\n",
    "\n",
    "# Print the current price of ETH\n",
    "# YOUR CODE HERE\n",
    "print(\"The current price of Etherium is\", eth_price)"
   ]
  },
  {
   "cell_type": "markdown",
   "metadata": {},
   "source": [
    "### Step 4: Calculate the value, in US dollars, of the current amount of each cryptocurrency and of the entire cryptocurrency wallet."
   ]
  },
  {
   "cell_type": "code",
   "execution_count": 66,
   "metadata": {},
   "outputs": [
    {
     "name": "stdout",
     "output_type": "stream",
     "text": [
      "The Bitcoin in this wallet is worth 50326.799999999996\n"
     ]
    }
   ],
   "source": [
    "# Compute the current value of the BTC holding \n",
    "btc_value = btc_coins * btc_price\n",
    "\n",
    "# Print current value of your holding in BTC\n",
    "# YOUR CODE HERE\n",
    "print(\"The Bitcoin in this wallet is worth\", btc_value)"
   ]
  },
  {
   "cell_type": "code",
   "execution_count": 67,
   "metadata": {},
   "outputs": [
    {
     "name": "stdout",
     "output_type": "stream",
     "text": [
      "The Etherium in this wallet is worth 13678.399\n"
     ]
    }
   ],
   "source": [
    "# Compute the current value of the ETH holding \n",
    "eth_value = eth_coins * eth_price\n",
    "\n",
    "# Print current value of your holding in ETH\n",
    "# YOUR CODE HERE\n",
    "print(\"The Etherium in this wallet is worth\", eth_value)"
   ]
  },
  {
   "cell_type": "code",
   "execution_count": 68,
   "metadata": {},
   "outputs": [
    {
     "name": "stdout",
     "output_type": "stream",
     "text": [
      "The total value of the wallet is 64005.19899999999\n"
     ]
    }
   ],
   "source": [
    "# Compute the total value of the cryptocurrency wallet\n",
    "# Add the value of the BTC holding to the value of the ETH holding\n",
    "total_crypto_wallet = btc_value + eth_value\n",
    "\n",
    "# Print current cryptocurrency wallet balance\n",
    "# YOUR CODE HERE\n",
    "print(\"The total value of the wallet is\", total_crypto_wallet)"
   ]
  },
  {
   "cell_type": "markdown",
   "metadata": {},
   "source": [
    "### Evaluate the Stock and Bond Holdings by Using the Alpaca SDK\n",
    "\n",
    "In this section, you’ll determine the current value of a member’s stock and bond holdings. You’ll make an API call to Alpaca via the Alpaca SDK to get the current closing prices of the SPDR S&P 500 ETF Trust (ticker: SPY) and of the iShares Core US Aggregate Bond ETF (ticker: AGG). For the prototype, assume that the member holds 110 shares of SPY, which represents the stock portion of their portfolio, and 200 shares of AGG, which represents the bond portion. To do all this, complete the following steps:\n",
    "\n",
    "1. In the `Starter_Code` folder, create an environment file (`.env`) to store the values of your Alpaca API key and Alpaca secret key.\n",
    "\n",
    "2. Set the variables for the Alpaca API and secret keys. Using the Alpaca SDK, create the Alpaca `tradeapi.REST` object. In this object, include the parameters for the Alpaca API key, the secret key, and the version number.\n",
    "\n",
    "3. Set the following parameters for the Alpaca API call:\n",
    "\n",
    "    - `tickers`: Use the tickers for the member’s stock and bond holdings.\n",
    "\n",
    "    - `timeframe`: Use a time frame of one day.\n",
    "\n",
    "    - `start_date` and `end_date`: Use the same date for these parameters, and format them with the date of the previous weekday (or `2020-08-07`). This is because you want the one closing price for the most-recent trading day.\n",
    "\n",
    "4. Get the current closing prices for `SPY` and `AGG` by using the Alpaca `get_barset` function. Format the response as a Pandas DataFrame by including the `df` property at the end of the `get_barset` function.\n",
    "\n",
    "5. Navigating the Alpaca response DataFrame, select the `SPY` and `AGG` closing prices, and store them as variables.\n",
    "\n",
    "6. Calculate the value, in US dollars, of the current amount of shares in each of the stock and bond portions of the portfolio, and print the results.\n"
   ]
  },
  {
   "cell_type": "markdown",
   "metadata": {},
   "source": [
    "#### Review the total number of shares held in both (SPY) and (AGG)."
   ]
  },
  {
   "cell_type": "code",
   "execution_count": 69,
   "metadata": {},
   "outputs": [],
   "source": [
    "# Current amount of shares held in both the stock (SPY) and bond (AGG) portion of the portfolio.\n",
    "spy_shares = 110\n",
    "agg_shares = 200\n"
   ]
  },
  {
   "cell_type": "markdown",
   "metadata": {},
   "source": [
    "#### Step 1: In the `Starter_Code` folder, create an environment file (`.env`) to store the values of your Alpaca API key and Alpaca secret key."
   ]
  },
  {
   "cell_type": "markdown",
   "metadata": {},
   "source": [
    "#### Step 2: Set the variables for the Alpaca API and secret keys. Using the Alpaca SDK, create the Alpaca `tradeapi.REST` object. In this object, include the parameters for the Alpaca API key, the secret key, and the version number."
   ]
  },
  {
   "cell_type": "code",
   "execution_count": 70,
   "metadata": {},
   "outputs": [],
   "source": [
    "# Set the variables for the Alpaca API and secret keys\n",
    "alpaca_api_key = os.getenv(\"ALPACA_API_KEY\")\n",
    "alpaca_secret_key = os.getenv(\"ALPACA_SECRET_KEY\")\n",
    "\n",
    "\n",
    "\n",
    "\n",
    "# Create the Alpaca tradeapi.REST object\n",
    "\n",
    "alpaca = tradeapi.REST(\n",
    "    alpaca_api_key,\n",
    "    alpaca_secret_key,\n",
    "    api_version=\"v2\")\n"
   ]
  },
  {
   "cell_type": "markdown",
   "metadata": {},
   "source": [
    "#### Step 3: Set the following parameters for the Alpaca API call:\n",
    "\n",
    "- `tickers`: Use the tickers for the member’s stock and bond holdings.\n",
    "\n",
    "- `timeframe`: Use a time frame of one day.\n",
    "\n",
    "- `start_date` and `end_date`: Use the same date for these parameters, and format them with the date of the previous weekday (or `2020-08-07`). This is because you want the one closing price for the most-recent trading day.\n"
   ]
  },
  {
   "cell_type": "code",
   "execution_count": 71,
   "metadata": {},
   "outputs": [],
   "source": [
    "# Set the tickers for both the bond and stock portion of the portfolio\n",
    "tickers = [\"SPY\", \"AGG\"]\n",
    "\n",
    "# Set timeframe to 1D \n",
    "timeframe = \"1D\"\n",
    "\n",
    "# Format current date as ISO format\n",
    "# Set both the start and end date at the date of your prior weekday \n",
    "# This will give you the closing price of the previous trading day\n",
    "# Alternatively you can use a start and end date of 2020-08-07\n",
    "start_date = pd.Timestamp(\"2020-08-07\", tz=\"America/New_York\").isoformat()\n",
    "end_date = pd.Timestamp(\"2020-08-07\", tz=\"America/New_York\").isoformat()\n"
   ]
  },
  {
   "cell_type": "markdown",
   "metadata": {},
   "source": [
    "#### Step 4: Get the current closing prices for `SPY` and `AGG` by using the Alpaca `get_barset` function. Format the response as a Pandas DataFrame by including the `df` property at the end of the `get_barset` function."
   ]
  },
  {
   "cell_type": "code",
   "execution_count": 72,
   "metadata": {},
   "outputs": [
    {
     "data": {
      "text/html": [
       "<div>\n",
       "<style scoped>\n",
       "    .dataframe tbody tr th:only-of-type {\n",
       "        vertical-align: middle;\n",
       "    }\n",
       "\n",
       "    .dataframe tbody tr th {\n",
       "        vertical-align: top;\n",
       "    }\n",
       "\n",
       "    .dataframe thead tr th {\n",
       "        text-align: left;\n",
       "    }\n",
       "</style>\n",
       "<table border=\"1\" class=\"dataframe\">\n",
       "  <thead>\n",
       "    <tr>\n",
       "      <th></th>\n",
       "      <th colspan=\"5\" halign=\"left\">AGG</th>\n",
       "      <th colspan=\"5\" halign=\"left\">SPY</th>\n",
       "    </tr>\n",
       "    <tr>\n",
       "      <th></th>\n",
       "      <th>open</th>\n",
       "      <th>high</th>\n",
       "      <th>low</th>\n",
       "      <th>close</th>\n",
       "      <th>volume</th>\n",
       "      <th>open</th>\n",
       "      <th>high</th>\n",
       "      <th>low</th>\n",
       "      <th>close</th>\n",
       "      <th>volume</th>\n",
       "    </tr>\n",
       "  </thead>\n",
       "  <tbody>\n",
       "    <tr>\n",
       "      <th>2020-08-07</th>\n",
       "      <td>119.66</td>\n",
       "      <td>119.73</td>\n",
       "      <td>119.395</td>\n",
       "      <td>119.445</td>\n",
       "      <td>8830420</td>\n",
       "      <td>333.28</td>\n",
       "      <td>334.88</td>\n",
       "      <td>332.3</td>\n",
       "      <td>334.55</td>\n",
       "      <td>98710236</td>\n",
       "    </tr>\n",
       "  </tbody>\n",
       "</table>\n",
       "</div>"
      ],
      "text/plain": [
       "               AGG                                        SPY                 \\\n",
       "              open    high      low    close   volume    open    high    low   \n",
       "2020-08-07  119.66  119.73  119.395  119.445  8830420  333.28  334.88  332.3   \n",
       "\n",
       "                              \n",
       "             close    volume  \n",
       "2020-08-07  334.55  98710236  "
      ]
     },
     "execution_count": 72,
     "metadata": {},
     "output_type": "execute_result"
    }
   ],
   "source": [
    "# Use the Alpaca get_barset function to get current closing prices the portfolio\n",
    "# Be sure to set the `df` property after the function to format the response object as a DataFrame\n",
    "df_portfolio = alpaca.get_barset(\n",
    "    tickers,\n",
    "    timeframe,\n",
    "    start = start_date,\n",
    "    end = end_date\n",
    ").df\n",
    "\n",
    "df_portfolio.index = df_portfolio.index.date\n",
    "# Review the first 5 rows of the Alpaca DataFrame\n",
    "# YOUR CODE HERE\n",
    "df_portfolio.head()"
   ]
  },
  {
   "cell_type": "markdown",
   "metadata": {},
   "source": [
    "#### Step 5: Navigating the Alpaca response DataFrame, select the `SPY` and `AGG` closing prices, and store them as variables."
   ]
  },
  {
   "cell_type": "code",
   "execution_count": 73,
   "metadata": {},
   "outputs": [
    {
     "name": "stdout",
     "output_type": "stream",
     "text": [
      "119.445\n"
     ]
    }
   ],
   "source": [
    "# Access the closing price for AGG from the Alpaca DataFrame\n",
    "# Converting the value to a floating point number\n",
    "\n",
    "agg_close_price = float(df_portfolio[\"AGG\"][\"close\"])\n",
    "\n",
    "# Print the AGG closing price\n",
    "# YOUR CODE HERE\n",
    "print(agg_close_price)"
   ]
  },
  {
   "cell_type": "code",
   "execution_count": 74,
   "metadata": {},
   "outputs": [
    {
     "name": "stdout",
     "output_type": "stream",
     "text": [
      "334.55\n"
     ]
    }
   ],
   "source": [
    "# Access the closing price for SPY from the Alpaca DataFrame\n",
    "# Converting the value to a floating point number\n",
    "spy_close_price = float(df_portfolio[\"SPY\"][\"close\"])\n",
    "\n",
    "# Print the SPY closing price\n",
    "# YOUR CODE HERE\n",
    "print(spy_close_price)"
   ]
  },
  {
   "cell_type": "markdown",
   "metadata": {},
   "source": [
    "#### Step 6: Calculate the value, in US dollars, of the current amount of shares in each of the stock and bond portions of the portfolio, and print the results."
   ]
  },
  {
   "cell_type": "code",
   "execution_count": 75,
   "metadata": {},
   "outputs": [
    {
     "name": "stdout",
     "output_type": "stream",
     "text": [
      "The current value of AGG held is 23889.0\n"
     ]
    }
   ],
   "source": [
    "# Calculate the current value of the bond portion of the portfolio\n",
    "agg_value = agg_shares * agg_close_price\n",
    "\n",
    "# Print the current value of the bond portfolio\n",
    "# YOUR CODE HERE\n",
    "print(\"The current value of AGG held is\", agg_value)"
   ]
  },
  {
   "cell_type": "code",
   "execution_count": 76,
   "metadata": {},
   "outputs": [
    {
     "name": "stdout",
     "output_type": "stream",
     "text": [
      "The current value of SPY held is 36800.5\n"
     ]
    }
   ],
   "source": [
    "# Calculate the current value of the stock portion of the portfolio\n",
    "spy_value = spy_shares * spy_close_price\n",
    "\n",
    "# Print the current value of the stock portfolio\n",
    "# YOUR CODE HERE\n",
    "print(\"The current value of SPY held is\", spy_value)"
   ]
  },
  {
   "cell_type": "code",
   "execution_count": 77,
   "metadata": {},
   "outputs": [
    {
     "name": "stdout",
     "output_type": "stream",
     "text": [
      "The total value of the portfolio is 60689.5\n"
     ]
    }
   ],
   "source": [
    "# Calculate the total value of the stock and bond portion of the portfolio\n",
    "total_stocks_bonds = spy_value + agg_value\n",
    "\n",
    "# Print the current balance of the stock and bond portion of the portfolio\n",
    "# YOUR CODE HERE\n",
    "print(\"The total value of the portfolio is\", total_stocks_bonds)"
   ]
  },
  {
   "cell_type": "code",
   "execution_count": 78,
   "metadata": {},
   "outputs": [
    {
     "name": "stdout",
     "output_type": "stream",
     "text": [
      "The total value of crypto and stocks and bonds is 124694.699\n"
     ]
    }
   ],
   "source": [
    "# Calculate the total value of the member's entire savings portfolio\n",
    "# Add the value of the cryptocurrency walled to the value of the total stocks and bonds\n",
    "total_portfolio = total_crypto_wallet + total_stocks_bonds\n",
    "\n",
    "# Print current cryptocurrency wallet balance\n",
    "# YOUR CODE HERE\n",
    "print(\"The total value of crypto and stocks and bonds is\", total_portfolio)\n"
   ]
  },
  {
   "cell_type": "markdown",
   "metadata": {},
   "source": [
    "### Evaluate the Emergency Fund\n",
    "\n",
    "In this section, you’ll use the valuations for the cryptocurrency wallet and for the stock and bond portions of the portfolio to determine if the credit union member has enough savings to build an emergency fund into their financial plan. To do this, complete the following steps:\n",
    "\n",
    "1. Create a Python list named `savings_data` that has two elements. The first element contains the total value of the cryptocurrency wallet. The second element contains the total value of the stock and bond portions of the portfolio.\n",
    "\n",
    "2. Use the `savings_data` list to create a Pandas DataFrame named `savings_df`, and then display this DataFrame. The function to create the DataFrame should take the following three parameters:\n",
    "\n",
    "    - `savings_data`: Use the list that you just created.\n",
    "\n",
    "    - `columns`: Set this parameter equal to a Python list with a single value called `amount`.\n",
    "\n",
    "    - `index`: Set this parameter equal to a Python list with the values of `crypto` and `stock/bond`.\n",
    "\n",
    "3. Use the `savings_df` DataFrame to plot a pie chart that visualizes the composition of the member’s portfolio. The y-axis of the pie chart uses `amount`. Be sure to add a title.\n",
    "\n",
    "4. Using Python, determine if the current portfolio has enough to create an emergency fund as part of the member’s financial plan. Ideally, an emergency fund should equal to three times the member’s monthly income. To do this, implement the following steps:\n",
    "\n",
    "    1. Create a variable named `emergency_fund_value`, and set it equal to three times the value of the member’s `monthly_income` of $12000. (You set this earlier in Part 1).\n",
    "\n",
    "    2. Create a series of three if statements to determine if the member’s total portfolio is large enough to fund the emergency portfolio:\n",
    "\n",
    "        1. If the total portfolio value is greater than the emergency fund value, display a message congratulating the member for having enough money in this fund.\n",
    "\n",
    "        2. Else if the total portfolio value is equal to the emergency fund value, display a message congratulating the member on reaching this important financial goal.\n",
    "\n",
    "        3. Else the total portfolio is less than the emergency fund value, so display a message showing how many dollars away the member is from reaching the goal. (Subtract the total portfolio value from the emergency fund value.)\n"
   ]
  },
  {
   "cell_type": "markdown",
   "metadata": {},
   "source": [
    "#### Step 1: Create a Python list named `savings_data` that has two elements. The first element contains the total value of the cryptocurrency wallet. The second element contains the total value of the stock and bond portions of the portfolio."
   ]
  },
  {
   "cell_type": "code",
   "execution_count": 79,
   "metadata": {},
   "outputs": [
    {
     "name": "stdout",
     "output_type": "stream",
     "text": [
      "[64005.19899999999, 60689.5]\n"
     ]
    }
   ],
   "source": [
    "# Consolidate financial assets data into a Python list\n",
    "savings_data = [total_crypto_wallet , total_stocks_bonds]\n",
    "\n",
    "# Review the Python list savings_data\n",
    "# YOUR CODE HERE\n",
    "print(savings_data)\n",
    "    "
   ]
  },
  {
   "cell_type": "markdown",
   "metadata": {},
   "source": [
    "#### Step 2: Use the `savings_data` list to create a Pandas DataFrame named `savings_df`, and then display this DataFrame. The function to create the DataFrame should take the following three parameters:\n",
    "\n",
    "- `savings_data`: Use the list that you just created.\n",
    "\n",
    "- `columns`: Set this parameter equal to a Python list with a single value called `amount`.\n",
    "\n",
    "- `index`: Set this parameter equal to a Python list with the values of `crypto` and `stock/bond`.\n"
   ]
  },
  {
   "cell_type": "code",
   "execution_count": 80,
   "metadata": {},
   "outputs": [
    {
     "data": {
      "text/html": [
       "<div>\n",
       "<style scoped>\n",
       "    .dataframe tbody tr th:only-of-type {\n",
       "        vertical-align: middle;\n",
       "    }\n",
       "\n",
       "    .dataframe tbody tr th {\n",
       "        vertical-align: top;\n",
       "    }\n",
       "\n",
       "    .dataframe thead th {\n",
       "        text-align: right;\n",
       "    }\n",
       "</style>\n",
       "<table border=\"1\" class=\"dataframe\">\n",
       "  <thead>\n",
       "    <tr style=\"text-align: right;\">\n",
       "      <th></th>\n",
       "      <th>amount</th>\n",
       "    </tr>\n",
       "  </thead>\n",
       "  <tbody>\n",
       "    <tr>\n",
       "      <th>crypto</th>\n",
       "      <td>64005.199</td>\n",
       "    </tr>\n",
       "    <tr>\n",
       "      <th>stock/bond</th>\n",
       "      <td>60689.500</td>\n",
       "    </tr>\n",
       "  </tbody>\n",
       "</table>\n",
       "</div>"
      ],
      "text/plain": [
       "               amount\n",
       "crypto      64005.199\n",
       "stock/bond  60689.500"
      ]
     },
     "execution_count": 80,
     "metadata": {},
     "output_type": "execute_result"
    }
   ],
   "source": [
    "# Create a Pandas DataFrame called savings_df \n",
    "savings_df = pd.DataFrame(\n",
    "    savings_data, \n",
    "    columns = [\"amount\"], \n",
    "    index = [\"crypto\", \"stock/bond\"]\n",
    ")\n",
    "\n",
    "# Display the savings_df DataFrame\n",
    "# YOUR CODE HERE\n",
    "savings_df.head()"
   ]
  },
  {
   "cell_type": "markdown",
   "metadata": {},
   "source": [
    "#### Step 3: Use the `savings_df` DataFrame to plot a pie chart that visualizes the composition of the member’s portfolio. The y-axis of the pie chart uses `amount`. Be sure to add a title."
   ]
  },
  {
   "cell_type": "code",
   "execution_count": 81,
   "metadata": {},
   "outputs": [
    {
     "data": {
      "text/plain": [
       "<AxesSubplot:title={'center':'Portfolio Composition'}, ylabel='amount'>"
      ]
     },
     "execution_count": 81,
     "metadata": {},
     "output_type": "execute_result"
    },
    {
     "data": {
      "image/png": "[encoded data removed]",
      "text/plain": [
       "<Figure size 432x288 with 1 Axes>"
      ]
     },
     "metadata": {},
     "output_type": "display_data"
    }
   ],
   "source": [
    "# Plot the total value of the member's portfolio (crypto and stock/bond) in a pie chart\n",
    "# YOUR CODE HERE\n",
    "savings_df.plot.pie(y=\"amount\", title = \"Portfolio Composition\", autopct=\"%1.1f%%\")"
   ]
  },
  {
   "cell_type": "markdown",
   "metadata": {},
   "source": [
    "#### Step 4: Using Python, determine if the current portfolio has enough to create an emergency fund as part of the member’s financial plan. Ideally, an emergency fund should equal to three times the member’s monthly income. To do this, implement the following steps:\n",
    "\n",
    "Step 1. Create a variable named `emergency_fund_value`, and set it equal to three times the value of the member’s `monthly_income` of 12000. (You set this earlier in Part 1).\n",
    "\n",
    "Step 2. Create a series of three if statements to determine if the member’s total portfolio is large enough to fund the emergency portfolio:\n",
    "\n",
    "* If the total portfolio value is greater than the emergency fund value, display a message congratulating the member for having enough money in this fund.\n",
    "\n",
    "* Else if the total portfolio value is equal to the emergency fund value, display a message congratulating the member on reaching this important financial goal.\n",
    "\n",
    "* Else the total portfolio is less than the emergency fund value, so display a message showing how many dollars away the member is from reaching the goal. (Subtract the total portfolio value from the emergency fund value.)\n"
   ]
  },
  {
   "cell_type": "markdown",
   "metadata": {},
   "source": [
    "##### Step 4-1: Create a variable named `emergency_fund_value`, and set it equal to three times the value of the member’s `monthly_income` of 12000. (You set this earlier in Part 1)."
   ]
  },
  {
   "cell_type": "code",
   "execution_count": 82,
   "metadata": {},
   "outputs": [],
   "source": [
    "# Create a variable named emergency_fund_value\n",
    "emergency_fund_value = 3*monthly_income"
   ]
  },
  {
   "cell_type": "markdown",
   "metadata": {},
   "source": [
    "##### Step 4-2: Create a series of three if statements to determine if the member’s total portfolio is large enough to fund the emergency portfolio:\n",
    "\n",
    "* If the total portfolio value is greater than the emergency fund value, display a message congratulating the member for having enough money in this fund.\n",
    "\n",
    "* Else if the total portfolio value is equal to the emergency fund value, display a message congratulating the member on reaching this important financial goal.\n",
    "\n",
    "* Else the total portfolio is less than the emergency fund value, so display a message showing how many dollars away the member is from reaching the goal. (Subtract the total portfolio value from the emergency fund value.)"
   ]
  },
  {
   "cell_type": "code",
   "execution_count": 83,
   "metadata": {},
   "outputs": [
    {
     "name": "stdout",
     "output_type": "stream",
     "text": [
      "Congratulations, you have enough money for an emergency fund!\n"
     ]
    }
   ],
   "source": [
    "# Evaluate the possibility of creating an emergency fund with 3 conditions:\n",
    "if (total_portfolio > emergency_fund_value):\n",
    "    print(\"Congratulations, you have enough money for an emergency fund!\")\n",
    "elif [total_portfolio == emergency_fund_value]:\n",
    "        print(\"You made it to an important financial goal!\")\n",
    "else:\n",
    "        print(\"You do not have enough for the emergency fund, you require\", total_portfolio - emergency_fund_value)\n"
   ]
  },
  {
   "cell_type": "markdown",
   "metadata": {},
   "source": [
    "## Part 2: Create a Financial Planner for Retirement"
   ]
  },
  {
   "cell_type": "markdown",
   "metadata": {},
   "source": [
    "### Create the Monte Carlo Simulation\n",
    "\n",
    "In this section, you’ll use the MCForecastTools library to create a Monte Carlo simulation for the member’s savings portfolio. To do this, complete the following steps:\n",
    "\n",
    "1. Make an API call via the Alpaca SDK to get 3 years of historical closing prices for a traditional 60/40 portfolio split: 60% stocks (SPY) and 40% bonds (AGG).\n",
    "\n",
    "2. Run a Monte Carlo simulation of 500 samples and 30 years for the 60/40 portfolio, and then plot the results.The following image shows the overlay line plot resulting from a simulation with these characteristics. However, because a random number generator is used to run each live Monte Carlo simulation, your image will differ slightly from this exact image:\n",
    "\n",
    "![A screenshot depicts the resulting plot.](Images/5-4-monte-carlo-line-plot.png)\n",
    "\n",
    "3. Plot the probability distribution of the Monte Carlo simulation. Plot the probability distribution of the Monte Carlo simulation. The following image shows the histogram plot resulting from a simulation with these characteristics. However, because a random number generator is used to run each live Monte Carlo simulation, your image will differ slightly from this exact image:\n",
    "\n",
    "![A screenshot depicts the histogram plot.](Images/5-4-monte-carlo-histogram.png)\n",
    "\n",
    "4. Generate the summary statistics for the Monte Carlo simulation.\n",
    "\n"
   ]
  },
  {
   "cell_type": "markdown",
   "metadata": {},
   "source": [
    "#### Step 1: Make an API call via the Alpaca SDK to get 3 years of historical closing prices for a traditional 60/40 portfolio split: 60% stocks (SPY) and 40% bonds (AGG)."
   ]
  },
  {
   "cell_type": "code",
   "execution_count": 84,
   "metadata": {},
   "outputs": [],
   "source": [
    "# Set start and end dates of 3 years back from your current date\n",
    "# Alternatively, you can use an end date of 2020-08-07 and work 3 years back from that date \n",
    "new_start_date = pd.Timestamp(\"2017-08-07\", tz=\"America/New_York\").isoformat()\n",
    "new_end_date = pd.Timestamp(\"2020-08-07\", tz=\"America/New_York\").isoformat()\n",
    "\n",
    "# Set number of rows to 1000 to retrieve the maximum amount of rows\n",
    "limit_rows = 1000"
   ]
  },
  {
   "cell_type": "code",
   "execution_count": 85,
   "metadata": {},
   "outputs": [
    {
     "data": {
      "text/html": [
       "<div>\n",
       "<style scoped>\n",
       "    .dataframe tbody tr th:only-of-type {\n",
       "        vertical-align: middle;\n",
       "    }\n",
       "\n",
       "    .dataframe tbody tr th {\n",
       "        vertical-align: top;\n",
       "    }\n",
       "\n",
       "    .dataframe thead tr th {\n",
       "        text-align: left;\n",
       "    }\n",
       "\n",
       "    .dataframe thead tr:last-of-type th {\n",
       "        text-align: right;\n",
       "    }\n",
       "</style>\n",
       "<table border=\"1\" class=\"dataframe\">\n",
       "  <thead>\n",
       "    <tr>\n",
       "      <th></th>\n",
       "      <th colspan=\"5\" halign=\"left\">AGG</th>\n",
       "      <th colspan=\"5\" halign=\"left\">SPY</th>\n",
       "    </tr>\n",
       "    <tr>\n",
       "      <th></th>\n",
       "      <th>open</th>\n",
       "      <th>high</th>\n",
       "      <th>low</th>\n",
       "      <th>close</th>\n",
       "      <th>volume</th>\n",
       "      <th>open</th>\n",
       "      <th>high</th>\n",
       "      <th>low</th>\n",
       "      <th>close</th>\n",
       "      <th>volume</th>\n",
       "    </tr>\n",
       "    <tr>\n",
       "      <th>time</th>\n",
       "      <th></th>\n",
       "      <th></th>\n",
       "      <th></th>\n",
       "      <th></th>\n",
       "      <th></th>\n",
       "      <th></th>\n",
       "      <th></th>\n",
       "      <th></th>\n",
       "      <th></th>\n",
       "      <th></th>\n",
       "    </tr>\n",
       "  </thead>\n",
       "  <tbody>\n",
       "    <tr>\n",
       "      <th>2020-08-03 00:00:00-04:00</th>\n",
       "      <td>119.37</td>\n",
       "      <td>119.40</td>\n",
       "      <td>119.1903</td>\n",
       "      <td>119.400</td>\n",
       "      <td>17837420.0</td>\n",
       "      <td>328.3200</td>\n",
       "      <td>329.62</td>\n",
       "      <td>327.73</td>\n",
       "      <td>328.76</td>\n",
       "      <td>71741125</td>\n",
       "    </tr>\n",
       "    <tr>\n",
       "      <th>2020-08-04 00:00:00-04:00</th>\n",
       "      <td>119.42</td>\n",
       "      <td>119.63</td>\n",
       "      <td>119.4200</td>\n",
       "      <td>119.630</td>\n",
       "      <td>21512268.0</td>\n",
       "      <td>327.8600</td>\n",
       "      <td>330.06</td>\n",
       "      <td>327.86</td>\n",
       "      <td>330.03</td>\n",
       "      <td>73684427</td>\n",
       "    </tr>\n",
       "    <tr>\n",
       "      <th>2020-08-05 00:00:00-04:00</th>\n",
       "      <td>119.39</td>\n",
       "      <td>119.49</td>\n",
       "      <td>119.3100</td>\n",
       "      <td>119.400</td>\n",
       "      <td>34175883.0</td>\n",
       "      <td>331.4700</td>\n",
       "      <td>332.39</td>\n",
       "      <td>331.18</td>\n",
       "      <td>332.06</td>\n",
       "      <td>72846458</td>\n",
       "    </tr>\n",
       "    <tr>\n",
       "      <th>2020-08-06 00:00:00-04:00</th>\n",
       "      <td>119.62</td>\n",
       "      <td>119.73</td>\n",
       "      <td>119.5300</td>\n",
       "      <td>119.580</td>\n",
       "      <td>9009216.0</td>\n",
       "      <td>331.4799</td>\n",
       "      <td>334.46</td>\n",
       "      <td>331.13</td>\n",
       "      <td>334.31</td>\n",
       "      <td>76900649</td>\n",
       "    </tr>\n",
       "    <tr>\n",
       "      <th>2020-08-07 00:00:00-04:00</th>\n",
       "      <td>119.66</td>\n",
       "      <td>119.73</td>\n",
       "      <td>119.3950</td>\n",
       "      <td>119.445</td>\n",
       "      <td>8830420.0</td>\n",
       "      <td>333.2800</td>\n",
       "      <td>334.88</td>\n",
       "      <td>332.30</td>\n",
       "      <td>334.55</td>\n",
       "      <td>98710236</td>\n",
       "    </tr>\n",
       "  </tbody>\n",
       "</table>\n",
       "</div>"
      ],
      "text/plain": [
       "                              AGG                                         \\\n",
       "                             open    high       low    close      volume   \n",
       "time                                                                       \n",
       "2020-08-03 00:00:00-04:00  119.37  119.40  119.1903  119.400  17837420.0   \n",
       "2020-08-04 00:00:00-04:00  119.42  119.63  119.4200  119.630  21512268.0   \n",
       "2020-08-05 00:00:00-04:00  119.39  119.49  119.3100  119.400  34175883.0   \n",
       "2020-08-06 00:00:00-04:00  119.62  119.73  119.5300  119.580   9009216.0   \n",
       "2020-08-07 00:00:00-04:00  119.66  119.73  119.3950  119.445   8830420.0   \n",
       "\n",
       "                                SPY                                    \n",
       "                               open    high     low   close    volume  \n",
       "time                                                                   \n",
       "2020-08-03 00:00:00-04:00  328.3200  329.62  327.73  328.76  71741125  \n",
       "2020-08-04 00:00:00-04:00  327.8600  330.06  327.86  330.03  73684427  \n",
       "2020-08-05 00:00:00-04:00  331.4700  332.39  331.18  332.06  72846458  \n",
       "2020-08-06 00:00:00-04:00  331.4799  334.46  331.13  334.31  76900649  \n",
       "2020-08-07 00:00:00-04:00  333.2800  334.88  332.30  334.55  98710236  "
      ]
     },
     "execution_count": 85,
     "metadata": {},
     "output_type": "execute_result"
    }
   ],
   "source": [
    "# Use the Alpaca get_barset function to make the API call to get the 3 years worth of pricing data\n",
    "# The tickers and timeframe parameters should have been set in Part 1 of this activity \n",
    "# The start and end dates should be updated with the information set above\n",
    "# Remember to add the df property to the end of the call so the response is returned as a DataFrame\n",
    "montecarlo_df = alpaca.get_barset(\n",
    "  tickers,\n",
    "  timeframe,\n",
    "  start=new_start_date,\n",
    "  end=new_end_date,\n",
    "  limit=limit_rows\n",
    ").df\n",
    "\n",
    "\n",
    "# Display both the first and last five rows of the DataFrame\n",
    "montecarlo_df.head()\n",
    "montecarlo_df.tail()\n"
   ]
  },
  {
   "cell_type": "markdown",
   "metadata": {},
   "source": [
    "#### Step 2: Run a Monte Carlo simulation of 500 samples and 30 years for the 60/40 portfolio, and then plot the results."
   ]
  },
  {
   "cell_type": "code",
   "execution_count": 86,
   "metadata": {},
   "outputs": [
    {
     "data": {
      "text/html": [
       "<div>\n",
       "<style scoped>\n",
       "    .dataframe tbody tr th:only-of-type {\n",
       "        vertical-align: middle;\n",
       "    }\n",
       "\n",
       "    .dataframe tbody tr th {\n",
       "        vertical-align: top;\n",
       "    }\n",
       "\n",
       "    .dataframe thead tr th {\n",
       "        text-align: left;\n",
       "    }\n",
       "</style>\n",
       "<table border=\"1\" class=\"dataframe\">\n",
       "  <thead>\n",
       "    <tr>\n",
       "      <th></th>\n",
       "      <th colspan=\"6\" halign=\"left\">AGG</th>\n",
       "      <th colspan=\"6\" halign=\"left\">SPY</th>\n",
       "    </tr>\n",
       "    <tr>\n",
       "      <th></th>\n",
       "      <th>open</th>\n",
       "      <th>high</th>\n",
       "      <th>low</th>\n",
       "      <th>close</th>\n",
       "      <th>volume</th>\n",
       "      <th>daily_return</th>\n",
       "      <th>open</th>\n",
       "      <th>high</th>\n",
       "      <th>low</th>\n",
       "      <th>close</th>\n",
       "      <th>volume</th>\n",
       "      <th>daily_return</th>\n",
       "    </tr>\n",
       "  </thead>\n",
       "  <tbody>\n",
       "    <tr>\n",
       "      <th>count</th>\n",
       "      <td>756.000000</td>\n",
       "      <td>756.000000</td>\n",
       "      <td>756.000000</td>\n",
       "      <td>756.000000</td>\n",
       "      <td>7.560000e+02</td>\n",
       "      <td>756.000000</td>\n",
       "      <td>757.000000</td>\n",
       "      <td>757.000000</td>\n",
       "      <td>757.000000</td>\n",
       "      <td>757.000000</td>\n",
       "      <td>7.570000e+02</td>\n",
       "      <td>756.000000</td>\n",
       "    </tr>\n",
       "    <tr>\n",
       "      <th>mean</th>\n",
       "      <td>110.029328</td>\n",
       "      <td>110.166699</td>\n",
       "      <td>109.869408</td>\n",
       "      <td>110.026943</td>\n",
       "      <td>4.521761e+06</td>\n",
       "      <td>0.000119</td>\n",
       "      <td>283.022729</td>\n",
       "      <td>284.632296</td>\n",
       "      <td>281.201521</td>\n",
       "      <td>283.048053</td>\n",
       "      <td>6.962899e+07</td>\n",
       "      <td>0.000498</td>\n",
       "    </tr>\n",
       "    <tr>\n",
       "      <th>std</th>\n",
       "      <td>4.036820</td>\n",
       "      <td>4.057172</td>\n",
       "      <td>3.995927</td>\n",
       "      <td>4.029469</td>\n",
       "      <td>4.623420e+06</td>\n",
       "      <td>0.003505</td>\n",
       "      <td>22.197433</td>\n",
       "      <td>22.023795</td>\n",
       "      <td>22.422057</td>\n",
       "      <td>22.211722</td>\n",
       "      <td>4.603142e+07</td>\n",
       "      <td>0.014154</td>\n",
       "    </tr>\n",
       "    <tr>\n",
       "      <th>min</th>\n",
       "      <td>104.070000</td>\n",
       "      <td>104.169900</td>\n",
       "      <td>103.940000</td>\n",
       "      <td>104.005000</td>\n",
       "      <td>1.000706e+06</td>\n",
       "      <td>-0.040343</td>\n",
       "      <td>228.190000</td>\n",
       "      <td>229.683300</td>\n",
       "      <td>218.260000</td>\n",
       "      <td>222.510000</td>\n",
       "      <td>1.606768e+07</td>\n",
       "      <td>-0.116340</td>\n",
       "    </tr>\n",
       "    <tr>\n",
       "      <th>25%</th>\n",
       "      <td>106.540000</td>\n",
       "      <td>106.645000</td>\n",
       "      <td>106.387750</td>\n",
       "      <td>106.498750</td>\n",
       "      <td>2.200958e+06</td>\n",
       "      <td>-0.001091</td>\n",
       "      <td>267.510000</td>\n",
       "      <td>268.600000</td>\n",
       "      <td>265.490000</td>\n",
       "      <td>267.220000</td>\n",
       "      <td>4.208117e+07</td>\n",
       "      <td>-0.003415</td>\n",
       "    </tr>\n",
       "    <tr>\n",
       "      <th>50%</th>\n",
       "      <td>109.265000</td>\n",
       "      <td>109.415000</td>\n",
       "      <td>109.144250</td>\n",
       "      <td>109.297500</td>\n",
       "      <td>2.956928e+06</td>\n",
       "      <td>0.000188</td>\n",
       "      <td>280.740000</td>\n",
       "      <td>282.560000</td>\n",
       "      <td>279.360000</td>\n",
       "      <td>281.020000</td>\n",
       "      <td>5.517814e+07</td>\n",
       "      <td>0.000935</td>\n",
       "    </tr>\n",
       "    <tr>\n",
       "      <th>75%</th>\n",
       "      <td>112.842500</td>\n",
       "      <td>112.941475</td>\n",
       "      <td>112.620000</td>\n",
       "      <td>112.800000</td>\n",
       "      <td>4.955643e+06</td>\n",
       "      <td>0.001315</td>\n",
       "      <td>296.270000</td>\n",
       "      <td>297.892000</td>\n",
       "      <td>294.330000</td>\n",
       "      <td>296.260000</td>\n",
       "      <td>7.929204e+07</td>\n",
       "      <td>0.006161</td>\n",
       "    </tr>\n",
       "    <tr>\n",
       "      <th>max</th>\n",
       "      <td>119.660000</td>\n",
       "      <td>119.730000</td>\n",
       "      <td>119.530000</td>\n",
       "      <td>119.630000</td>\n",
       "      <td>4.357488e+07</td>\n",
       "      <td>0.027948</td>\n",
       "      <td>337.790000</td>\n",
       "      <td>339.080000</td>\n",
       "      <td>337.480000</td>\n",
       "      <td>338.310000</td>\n",
       "      <td>3.466706e+08</td>\n",
       "      <td>0.094737</td>\n",
       "    </tr>\n",
       "  </tbody>\n",
       "</table>\n",
       "</div>"
      ],
      "text/plain": [
       "              AGG                                                    \\\n",
       "             open        high         low       close        volume   \n",
       "count  756.000000  756.000000  756.000000  756.000000  7.560000e+02   \n",
       "mean   110.029328  110.166699  109.869408  110.026943  4.521761e+06   \n",
       "std      4.036820    4.057172    3.995927    4.029469  4.623420e+06   \n",
       "min    104.070000  104.169900  103.940000  104.005000  1.000706e+06   \n",
       "25%    106.540000  106.645000  106.387750  106.498750  2.200958e+06   \n",
       "50%    109.265000  109.415000  109.144250  109.297500  2.956928e+06   \n",
       "75%    112.842500  112.941475  112.620000  112.800000  4.955643e+06   \n",
       "max    119.660000  119.730000  119.530000  119.630000  4.357488e+07   \n",
       "\n",
       "                           SPY                                      \\\n",
       "      daily_return        open        high         low       close   \n",
       "count   756.000000  757.000000  757.000000  757.000000  757.000000   \n",
       "mean      0.000119  283.022729  284.632296  281.201521  283.048053   \n",
       "std       0.003505   22.197433   22.023795   22.422057   22.211722   \n",
       "min      -0.040343  228.190000  229.683300  218.260000  222.510000   \n",
       "25%      -0.001091  267.510000  268.600000  265.490000  267.220000   \n",
       "50%       0.000188  280.740000  282.560000  279.360000  281.020000   \n",
       "75%       0.001315  296.270000  297.892000  294.330000  296.260000   \n",
       "max       0.027948  337.790000  339.080000  337.480000  338.310000   \n",
       "\n",
       "                                  \n",
       "             volume daily_return  \n",
       "count  7.570000e+02   756.000000  \n",
       "mean   6.962899e+07     0.000498  \n",
       "std    4.603142e+07     0.014154  \n",
       "min    1.606768e+07    -0.116340  \n",
       "25%    4.208117e+07    -0.003415  \n",
       "50%    5.517814e+07     0.000935  \n",
       "75%    7.929204e+07     0.006161  \n",
       "max    3.466706e+08     0.094737  "
      ]
     },
     "execution_count": 86,
     "metadata": {},
     "output_type": "execute_result"
    }
   ],
   "source": [
    "# Configure the Monte Carlo simulation to forecast 30 years cumulative returns\n",
    "# The weights should be split 40% to AGG and 60% to SPY.\n",
    "# Run 500 samples.\n",
    "MC_thirtyyear = MCSimulation(\n",
    "  portfolio_data = montecarlo_df,\n",
    "  weights = [.60,.40],\n",
    "  num_simulation = 500,\n",
    "  num_trading_days = 252*30\n",
    ")\n",
    "\n",
    "# Review the simulation input data\n",
    "MC_thirtyyear.portfolio_data.describe()\n"
   ]
  },
  {
   "cell_type": "code",
   "execution_count": 87,
   "metadata": {},
   "outputs": [
    {
     "name": "stdout",
     "output_type": "stream",
     "text": [
      "Running Monte Carlo simulation number 0.\n",
      "Running Monte Carlo simulation number 10.\n",
      "Running Monte Carlo simulation number 20.\n",
      "Running Monte Carlo simulation number 30.\n",
      "Running Monte Carlo simulation number 40.\n",
      "Running Monte Carlo simulation number 50.\n",
      "Running Monte Carlo simulation number 60.\n",
      "Running Monte Carlo simulation number 70.\n",
      "Running Monte Carlo simulation number 80.\n",
      "Running Monte Carlo simulation number 90.\n",
      "Running Monte Carlo simulation number 100.\n",
      "Running Monte Carlo simulation number 110.\n",
      "Running Monte Carlo simulation number 120.\n",
      "Running Monte Carlo simulation number 130.\n",
      "Running Monte Carlo simulation number 140.\n",
      "Running Monte Carlo simulation number 150.\n",
      "Running Monte Carlo simulation number 160.\n",
      "Running Monte Carlo simulation number 170.\n",
      "Running Monte Carlo simulation number 180.\n",
      "Running Monte Carlo simulation number 190.\n",
      "Running Monte Carlo simulation number 200.\n",
      "Running Monte Carlo simulation number 210.\n",
      "Running Monte Carlo simulation number 220.\n",
      "Running Monte Carlo simulation number 230.\n",
      "Running Monte Carlo simulation number 240.\n",
      "Running Monte Carlo simulation number 250.\n",
      "Running Monte Carlo simulation number 260.\n",
      "Running Monte Carlo simulation number 270.\n",
      "Running Monte Carlo simulation number 280.\n",
      "Running Monte Carlo simulation number 290.\n",
      "Running Monte Carlo simulation number 300.\n",
      "Running Monte Carlo simulation number 310.\n",
      "Running Monte Carlo simulation number 320.\n",
      "Running Monte Carlo simulation number 330.\n",
      "Running Monte Carlo simulation number 340.\n",
      "Running Monte Carlo simulation number 350.\n",
      "Running Monte Carlo simulation number 360.\n",
      "Running Monte Carlo simulation number 370.\n",
      "Running Monte Carlo simulation number 380.\n",
      "Running Monte Carlo simulation number 390.\n",
      "Running Monte Carlo simulation number 400.\n",
      "Running Monte Carlo simulation number 410.\n",
      "Running Monte Carlo simulation number 420.\n",
      "Running Monte Carlo simulation number 430.\n",
      "Running Monte Carlo simulation number 440.\n",
      "Running Monte Carlo simulation number 450.\n",
      "Running Monte Carlo simulation number 460.\n",
      "Running Monte Carlo simulation number 470.\n",
      "Running Monte Carlo simulation number 480.\n",
      "Running Monte Carlo simulation number 490.\n"
     ]
    },
    {
     "data": {
      "text/html": [
       "<div>\n",
       "<style scoped>\n",
       "    .dataframe tbody tr th:only-of-type {\n",
       "        vertical-align: middle;\n",
       "    }\n",
       "\n",
       "    .dataframe tbody tr th {\n",
       "        vertical-align: top;\n",
       "    }\n",
       "\n",
       "    .dataframe thead th {\n",
       "        text-align: right;\n",
       "    }\n",
       "</style>\n",
       "<table border=\"1\" class=\"dataframe\">\n",
       "  <thead>\n",
       "    <tr style=\"text-align: right;\">\n",
       "      <th></th>\n",
       "      <th>0</th>\n",
       "      <th>1</th>\n",
       "      <th>2</th>\n",
       "      <th>3</th>\n",
       "      <th>4</th>\n",
       "      <th>5</th>\n",
       "      <th>6</th>\n",
       "      <th>7</th>\n",
       "      <th>8</th>\n",
       "      <th>9</th>\n",
       "      <th>...</th>\n",
       "      <th>490</th>\n",
       "      <th>491</th>\n",
       "      <th>492</th>\n",
       "      <th>493</th>\n",
       "      <th>494</th>\n",
       "      <th>495</th>\n",
       "      <th>496</th>\n",
       "      <th>497</th>\n",
       "      <th>498</th>\n",
       "      <th>499</th>\n",
       "    </tr>\n",
       "  </thead>\n",
       "  <tbody>\n",
       "    <tr>\n",
       "      <th>0</th>\n",
       "      <td>1.000000</td>\n",
       "      <td>1.000000</td>\n",
       "      <td>1.000000</td>\n",
       "      <td>1.000000</td>\n",
       "      <td>1.000000</td>\n",
       "      <td>1.000000</td>\n",
       "      <td>1.000000</td>\n",
       "      <td>1.000000</td>\n",
       "      <td>1.000000</td>\n",
       "      <td>1.000000</td>\n",
       "      <td>...</td>\n",
       "      <td>1.000000</td>\n",
       "      <td>1.000000</td>\n",
       "      <td>1.000000</td>\n",
       "      <td>1.000000</td>\n",
       "      <td>1.000000</td>\n",
       "      <td>1.000000</td>\n",
       "      <td>1.000000</td>\n",
       "      <td>1.000000</td>\n",
       "      <td>1.000000</td>\n",
       "      <td>1.000000</td>\n",
       "    </tr>\n",
       "    <tr>\n",
       "      <th>1</th>\n",
       "      <td>0.997953</td>\n",
       "      <td>0.996787</td>\n",
       "      <td>1.009779</td>\n",
       "      <td>0.999294</td>\n",
       "      <td>1.000670</td>\n",
       "      <td>1.001466</td>\n",
       "      <td>1.009615</td>\n",
       "      <td>0.995592</td>\n",
       "      <td>1.000212</td>\n",
       "      <td>0.999617</td>\n",
       "      <td>...</td>\n",
       "      <td>1.007620</td>\n",
       "      <td>1.004467</td>\n",
       "      <td>1.012051</td>\n",
       "      <td>1.007619</td>\n",
       "      <td>1.005323</td>\n",
       "      <td>0.998208</td>\n",
       "      <td>0.993879</td>\n",
       "      <td>0.999449</td>\n",
       "      <td>0.992318</td>\n",
       "      <td>0.996772</td>\n",
       "    </tr>\n",
       "    <tr>\n",
       "      <th>2</th>\n",
       "      <td>0.996769</td>\n",
       "      <td>0.997834</td>\n",
       "      <td>1.008487</td>\n",
       "      <td>0.997294</td>\n",
       "      <td>1.002075</td>\n",
       "      <td>0.993443</td>\n",
       "      <td>1.009975</td>\n",
       "      <td>0.990046</td>\n",
       "      <td>1.003973</td>\n",
       "      <td>1.009504</td>\n",
       "      <td>...</td>\n",
       "      <td>1.009641</td>\n",
       "      <td>1.012936</td>\n",
       "      <td>1.026084</td>\n",
       "      <td>1.002517</td>\n",
       "      <td>1.009280</td>\n",
       "      <td>1.004842</td>\n",
       "      <td>0.993111</td>\n",
       "      <td>0.999384</td>\n",
       "      <td>0.988810</td>\n",
       "      <td>1.001800</td>\n",
       "    </tr>\n",
       "    <tr>\n",
       "      <th>3</th>\n",
       "      <td>0.988806</td>\n",
       "      <td>0.998414</td>\n",
       "      <td>1.005210</td>\n",
       "      <td>0.989687</td>\n",
       "      <td>0.995382</td>\n",
       "      <td>0.976905</td>\n",
       "      <td>1.011459</td>\n",
       "      <td>0.999906</td>\n",
       "      <td>1.004541</td>\n",
       "      <td>1.006115</td>\n",
       "      <td>...</td>\n",
       "      <td>1.003737</td>\n",
       "      <td>1.016999</td>\n",
       "      <td>1.026093</td>\n",
       "      <td>1.004833</td>\n",
       "      <td>1.011177</td>\n",
       "      <td>0.998037</td>\n",
       "      <td>0.996176</td>\n",
       "      <td>1.003464</td>\n",
       "      <td>0.984459</td>\n",
       "      <td>1.000991</td>\n",
       "    </tr>\n",
       "    <tr>\n",
       "      <th>4</th>\n",
       "      <td>0.986833</td>\n",
       "      <td>1.002674</td>\n",
       "      <td>1.008789</td>\n",
       "      <td>0.991383</td>\n",
       "      <td>1.006236</td>\n",
       "      <td>0.986818</td>\n",
       "      <td>1.015817</td>\n",
       "      <td>0.997242</td>\n",
       "      <td>1.000273</td>\n",
       "      <td>1.006318</td>\n",
       "      <td>...</td>\n",
       "      <td>1.000409</td>\n",
       "      <td>1.010630</td>\n",
       "      <td>1.021608</td>\n",
       "      <td>1.006933</td>\n",
       "      <td>1.009155</td>\n",
       "      <td>0.999335</td>\n",
       "      <td>0.993762</td>\n",
       "      <td>1.001908</td>\n",
       "      <td>0.991608</td>\n",
       "      <td>0.993919</td>\n",
       "    </tr>\n",
       "    <tr>\n",
       "      <th>...</th>\n",
       "      <td>...</td>\n",
       "      <td>...</td>\n",
       "      <td>...</td>\n",
       "      <td>...</td>\n",
       "      <td>...</td>\n",
       "      <td>...</td>\n",
       "      <td>...</td>\n",
       "      <td>...</td>\n",
       "      <td>...</td>\n",
       "      <td>...</td>\n",
       "      <td>...</td>\n",
       "      <td>...</td>\n",
       "      <td>...</td>\n",
       "      <td>...</td>\n",
       "      <td>...</td>\n",
       "      <td>...</td>\n",
       "      <td>...</td>\n",
       "      <td>...</td>\n",
       "      <td>...</td>\n",
       "      <td>...</td>\n",
       "      <td>...</td>\n",
       "    </tr>\n",
       "    <tr>\n",
       "      <th>7556</th>\n",
       "      <td>6.372799</td>\n",
       "      <td>5.462398</td>\n",
       "      <td>5.314023</td>\n",
       "      <td>10.569994</td>\n",
       "      <td>6.170581</td>\n",
       "      <td>6.213107</td>\n",
       "      <td>10.145361</td>\n",
       "      <td>6.666369</td>\n",
       "      <td>5.789660</td>\n",
       "      <td>6.066119</td>\n",
       "      <td>...</td>\n",
       "      <td>4.582776</td>\n",
       "      <td>9.117754</td>\n",
       "      <td>9.217849</td>\n",
       "      <td>6.563280</td>\n",
       "      <td>6.716203</td>\n",
       "      <td>5.512098</td>\n",
       "      <td>5.656723</td>\n",
       "      <td>2.447996</td>\n",
       "      <td>3.341302</td>\n",
       "      <td>6.065616</td>\n",
       "    </tr>\n",
       "    <tr>\n",
       "      <th>7557</th>\n",
       "      <td>6.345932</td>\n",
       "      <td>5.491028</td>\n",
       "      <td>5.328539</td>\n",
       "      <td>10.528611</td>\n",
       "      <td>6.163313</td>\n",
       "      <td>6.228208</td>\n",
       "      <td>10.253015</td>\n",
       "      <td>6.595791</td>\n",
       "      <td>5.786515</td>\n",
       "      <td>6.104488</td>\n",
       "      <td>...</td>\n",
       "      <td>4.556706</td>\n",
       "      <td>9.222366</td>\n",
       "      <td>9.145233</td>\n",
       "      <td>6.533630</td>\n",
       "      <td>6.725663</td>\n",
       "      <td>5.543714</td>\n",
       "      <td>5.676446</td>\n",
       "      <td>2.460871</td>\n",
       "      <td>3.282474</td>\n",
       "      <td>6.116469</td>\n",
       "    </tr>\n",
       "    <tr>\n",
       "      <th>7558</th>\n",
       "      <td>6.337829</td>\n",
       "      <td>5.489487</td>\n",
       "      <td>5.273700</td>\n",
       "      <td>10.400741</td>\n",
       "      <td>6.083329</td>\n",
       "      <td>6.232890</td>\n",
       "      <td>10.311599</td>\n",
       "      <td>6.554079</td>\n",
       "      <td>5.823215</td>\n",
       "      <td>6.131119</td>\n",
       "      <td>...</td>\n",
       "      <td>4.576005</td>\n",
       "      <td>9.300019</td>\n",
       "      <td>9.081379</td>\n",
       "      <td>6.455897</td>\n",
       "      <td>6.746499</td>\n",
       "      <td>5.578858</td>\n",
       "      <td>5.654277</td>\n",
       "      <td>2.438699</td>\n",
       "      <td>3.306079</td>\n",
       "      <td>6.013062</td>\n",
       "    </tr>\n",
       "    <tr>\n",
       "      <th>7559</th>\n",
       "      <td>6.298393</td>\n",
       "      <td>5.429706</td>\n",
       "      <td>5.260347</td>\n",
       "      <td>10.327508</td>\n",
       "      <td>6.094608</td>\n",
       "      <td>6.190147</td>\n",
       "      <td>10.262286</td>\n",
       "      <td>6.530651</td>\n",
       "      <td>5.790022</td>\n",
       "      <td>6.146547</td>\n",
       "      <td>...</td>\n",
       "      <td>4.560970</td>\n",
       "      <td>9.385228</td>\n",
       "      <td>9.066993</td>\n",
       "      <td>6.509869</td>\n",
       "      <td>6.744755</td>\n",
       "      <td>5.572031</td>\n",
       "      <td>5.624972</td>\n",
       "      <td>2.451513</td>\n",
       "      <td>3.322830</td>\n",
       "      <td>5.970679</td>\n",
       "    </tr>\n",
       "    <tr>\n",
       "      <th>7560</th>\n",
       "      <td>6.327940</td>\n",
       "      <td>5.413100</td>\n",
       "      <td>5.261406</td>\n",
       "      <td>10.312811</td>\n",
       "      <td>6.062867</td>\n",
       "      <td>6.134206</td>\n",
       "      <td>10.220241</td>\n",
       "      <td>6.458324</td>\n",
       "      <td>5.755400</td>\n",
       "      <td>6.096391</td>\n",
       "      <td>...</td>\n",
       "      <td>4.624747</td>\n",
       "      <td>9.474360</td>\n",
       "      <td>9.047620</td>\n",
       "      <td>6.464966</td>\n",
       "      <td>6.723394</td>\n",
       "      <td>5.578857</td>\n",
       "      <td>5.622665</td>\n",
       "      <td>2.470886</td>\n",
       "      <td>3.336016</td>\n",
       "      <td>6.015921</td>\n",
       "    </tr>\n",
       "  </tbody>\n",
       "</table>\n",
       "<p>7561 rows × 500 columns</p>\n",
       "</div>"
      ],
      "text/plain": [
       "           0         1         2          3         4         5          6    \\\n",
       "0     1.000000  1.000000  1.000000   1.000000  1.000000  1.000000   1.000000   \n",
       "1     0.997953  0.996787  1.009779   0.999294  1.000670  1.001466   1.009615   \n",
       "2     0.996769  0.997834  1.008487   0.997294  1.002075  0.993443   1.009975   \n",
       "3     0.988806  0.998414  1.005210   0.989687  0.995382  0.976905   1.011459   \n",
       "4     0.986833  1.002674  1.008789   0.991383  1.006236  0.986818   1.015817   \n",
       "...        ...       ...       ...        ...       ...       ...        ...   \n",
       "7556  6.372799  5.462398  5.314023  10.569994  6.170581  6.213107  10.145361   \n",
       "7557  6.345932  5.491028  5.328539  10.528611  6.163313  6.228208  10.253015   \n",
       "7558  6.337829  5.489487  5.273700  10.400741  6.083329  6.232890  10.311599   \n",
       "7559  6.298393  5.429706  5.260347  10.327508  6.094608  6.190147  10.262286   \n",
       "7560  6.327940  5.413100  5.261406  10.312811  6.062867  6.134206  10.220241   \n",
       "\n",
       "           7         8         9    ...       490       491       492  \\\n",
       "0     1.000000  1.000000  1.000000  ...  1.000000  1.000000  1.000000   \n",
       "1     0.995592  1.000212  0.999617  ...  1.007620  1.004467  1.012051   \n",
       "2     0.990046  1.003973  1.009504  ...  1.009641  1.012936  1.026084   \n",
       "3     0.999906  1.004541  1.006115  ...  1.003737  1.016999  1.026093   \n",
       "4     0.997242  1.000273  1.006318  ...  1.000409  1.010630  1.021608   \n",
       "...        ...       ...       ...  ...       ...       ...       ...   \n",
       "7556  6.666369  5.789660  6.066119  ...  4.582776  9.117754  9.217849   \n",
       "7557  6.595791  5.786515  6.104488  ...  4.556706  9.222366  9.145233   \n",
       "7558  6.554079  5.823215  6.131119  ...  4.576005  9.300019  9.081379   \n",
       "7559  6.530651  5.790022  6.146547  ...  4.560970  9.385228  9.066993   \n",
       "7560  6.458324  5.755400  6.096391  ...  4.624747  9.474360  9.047620   \n",
       "\n",
       "           493       494       495       496       497       498       499  \n",
       "0     1.000000  1.000000  1.000000  1.000000  1.000000  1.000000  1.000000  \n",
       "1     1.007619  1.005323  0.998208  0.993879  0.999449  0.992318  0.996772  \n",
       "2     1.002517  1.009280  1.004842  0.993111  0.999384  0.988810  1.001800  \n",
       "3     1.004833  1.011177  0.998037  0.996176  1.003464  0.984459  1.000991  \n",
       "4     1.006933  1.009155  0.999335  0.993762  1.001908  0.991608  0.993919  \n",
       "...        ...       ...       ...       ...       ...       ...       ...  \n",
       "7556  6.563280  6.716203  5.512098  5.656723  2.447996  3.341302  6.065616  \n",
       "7557  6.533630  6.725663  5.543714  5.676446  2.460871  3.282474  6.116469  \n",
       "7558  6.455897  6.746499  5.578858  5.654277  2.438699  3.306079  6.013062  \n",
       "7559  6.509869  6.744755  5.572031  5.624972  2.451513  3.322830  5.970679  \n",
       "7560  6.464966  6.723394  5.578857  5.622665  2.470886  3.336016  6.015921  \n",
       "\n",
       "[7561 rows x 500 columns]"
      ]
     },
     "execution_count": 87,
     "metadata": {},
     "output_type": "execute_result"
    }
   ],
   "source": [
    "# Run the Monte Carlo simulation to forecast 30 years cumulative returns\n",
    "MC_thirtyyear.calc_cumulative_return()\n"
   ]
  },
  {
   "cell_type": "code",
   "execution_count": 88,
   "metadata": {},
   "outputs": [
    {
     "data": {
      "image/png": "[encoded data removed]",
      "text/plain": [
       "<Figure size 432x288 with 1 Axes>"
      ]
     },
     "metadata": {
      "needs_background": "light"
     },
     "output_type": "display_data"
    }
   ],
   "source": [
    "# Visualize the 30-year Monte Carlo simulation by creating an\n",
    "# overlay line plot\n",
    "MC_sim_line_plot = MC_thirtyyear.plot_simulation()\n"
   ]
  },
  {
   "cell_type": "markdown",
   "metadata": {},
   "source": [
    "#### Step 3: Plot the probability distribution of the Monte Carlo simulation."
   ]
  },
  {
   "cell_type": "code",
   "execution_count": 89,
   "metadata": {},
   "outputs": [
    {
     "data": {
      "image/png": "[encoded data removed]",
      "text/plain": [
       "<Figure size 432x288 with 1 Axes>"
      ]
     },
     "metadata": {
      "needs_background": "light"
     },
     "output_type": "display_data"
    }
   ],
   "source": [
    "# Visualize the probability distribution of the 30-year Monte Carlo simulation \n",
    "# by plotting a histogram\n",
    "MC_sim_dist_plot = MC_thirtyyear.plot_distribution()\n"
   ]
  },
  {
   "cell_type": "markdown",
   "metadata": {},
   "source": [
    "#### Step 4: Generate the summary statistics for the Monte Carlo simulation."
   ]
  },
  {
   "cell_type": "code",
   "execution_count": 90,
   "metadata": {},
   "outputs": [
    {
     "name": "stdout",
     "output_type": "stream",
     "text": [
      "count           500.000000\n",
      "mean              7.664679\n",
      "std               4.128020\n",
      "min               1.313547\n",
      "25%               4.985358\n",
      "50%               6.779210\n",
      "75%               9.371704\n",
      "max              27.561238\n",
      "95% CI Lower      2.285036\n",
      "95% CI Upper     20.066326\n",
      "Name: 7560, dtype: float64\n"
     ]
    }
   ],
   "source": [
    "# Generate summary statistics from the 30-year Monte Carlo simulation results\n",
    "# Save the results as a variable\n",
    "MC_summary_statistics = MC_thirtyyear.summarize_cumulative_return()\n",
    "\n",
    "\n",
    "\n",
    "# Review the 30-year Monte Carlo summary statistics\n",
    "print(MC_summary_statistics)"
   ]
  },
  {
   "cell_type": "markdown",
   "metadata": {},
   "source": [
    "### Analyze the Retirement Portfolio Forecasts\n",
    "\n",
    "Using the current value of only the stock and bond portion of the member's portfolio and the summary statistics that you generated from the Monte Carlo simulation, answer the following question in your Jupyter notebook:\n",
    "\n",
    "-  What are the lower and upper bounds for the expected value of the portfolio with a 95% confidence interval?\n"
   ]
  },
  {
   "cell_type": "code",
   "execution_count": 91,
   "metadata": {},
   "outputs": [
    {
     "name": "stdout",
     "output_type": "stream",
     "text": [
      "60689.5\n"
     ]
    }
   ],
   "source": [
    "# Print the current balance of the stock and bond portion of the members portfolio\n",
    "print(total_stocks_bonds)\n"
   ]
  },
  {
   "cell_type": "code",
   "execution_count": 92,
   "metadata": {},
   "outputs": [
    {
     "name": "stdout",
     "output_type": "stream",
     "text": [
      "There is a 95% chance that an initial investment of 60689.5 in the portfolio over the next 30 years will end within in the range of $ 138677.70 and $ 1217815.27.\n"
     ]
    }
   ],
   "source": [
    "# Use the lower and upper `95%` confidence intervals to calculate the range of the possible outcomes for the current stock/bond portfolio\n",
    "ci_lower_thirty_cumulative_return = MC_summary_statistics[8] * total_stocks_bonds\n",
    "ci_upper_thirty_cumulative_return = MC_summary_statistics[9] * total_stocks_bonds\n",
    "\n",
    "# Print the result of your calculations\n",
    "print(f\"There is a 95% chance that an initial investment of\", total_stocks_bonds, \"in the portfolio\"\n",
    "  f\" over the next 30 years will end within in the range of\"\n",
    "  f\" ${ci_lower_thirty_cumulative_return: .2f} and ${ci_upper_thirty_cumulative_return: .2f}.\")\n"
   ]
  },
  {
   "cell_type": "markdown",
   "metadata": {},
   "source": [
    "### Forecast Cumulative Returns in 10 Years\n",
    "\n",
    "The CTO of the credit union is impressed with your work on these planning tools but wonders if 30 years is a long time to wait until retirement. So, your next task is to adjust the retirement portfolio and run a new Monte Carlo simulation to find out if the changes will allow members to retire earlier.\n",
    "\n",
    "For this new Monte Carlo simulation, do the following: \n",
    "\n",
    "- Forecast the cumulative returns for 10 years from now. Because of the shortened investment horizon (30 years to 10 years), the portfolio needs to invest more heavily in the riskier asset&mdash;that is, stock&mdash;to help accumulate wealth for retirement. \n",
    "\n",
    "- Adjust the weights of the retirement portfolio so that the composition for the Monte Carlo simulation consists of 20% bonds and 80% stocks. \n",
    "\n",
    "- Run the simulation over 500 samples, and use the same data that the API call to Alpaca generated.\n",
    "\n",
    "- Based on the new Monte Carlo simulation, answer the following questions in your Jupyter notebook:\n",
    "\n",
    "    - Using the current value of only the stock and bond portion of the member's portfolio and the summary statistics that you generated from the new Monte Carlo simulation, what are the lower and upper bounds for the expected value of the portfolio (with the new weights) with a 95% confidence interval?\n",
    "\n",
    "    - Will weighting the portfolio more heavily toward stocks allow the credit union members to retire after only 10 years?\n"
   ]
  },
  {
   "cell_type": "code",
   "execution_count": 95,
   "metadata": {},
   "outputs": [
    {
     "data": {
      "text/html": [
       "<div>\n",
       "<style scoped>\n",
       "    .dataframe tbody tr th:only-of-type {\n",
       "        vertical-align: middle;\n",
       "    }\n",
       "\n",
       "    .dataframe tbody tr th {\n",
       "        vertical-align: top;\n",
       "    }\n",
       "\n",
       "    .dataframe thead tr th {\n",
       "        text-align: left;\n",
       "    }\n",
       "</style>\n",
       "<table border=\"1\" class=\"dataframe\">\n",
       "  <thead>\n",
       "    <tr>\n",
       "      <th></th>\n",
       "      <th colspan=\"6\" halign=\"left\">AGG</th>\n",
       "      <th colspan=\"6\" halign=\"left\">SPY</th>\n",
       "    </tr>\n",
       "    <tr>\n",
       "      <th></th>\n",
       "      <th>open</th>\n",
       "      <th>high</th>\n",
       "      <th>low</th>\n",
       "      <th>close</th>\n",
       "      <th>volume</th>\n",
       "      <th>daily_return</th>\n",
       "      <th>open</th>\n",
       "      <th>high</th>\n",
       "      <th>low</th>\n",
       "      <th>close</th>\n",
       "      <th>volume</th>\n",
       "      <th>daily_return</th>\n",
       "    </tr>\n",
       "  </thead>\n",
       "  <tbody>\n",
       "    <tr>\n",
       "      <th>count</th>\n",
       "      <td>756.000000</td>\n",
       "      <td>756.000000</td>\n",
       "      <td>756.000000</td>\n",
       "      <td>756.000000</td>\n",
       "      <td>7.560000e+02</td>\n",
       "      <td>756.000000</td>\n",
       "      <td>757.000000</td>\n",
       "      <td>757.000000</td>\n",
       "      <td>757.000000</td>\n",
       "      <td>757.000000</td>\n",
       "      <td>7.570000e+02</td>\n",
       "      <td>756.000000</td>\n",
       "    </tr>\n",
       "    <tr>\n",
       "      <th>mean</th>\n",
       "      <td>110.029328</td>\n",
       "      <td>110.166699</td>\n",
       "      <td>109.869408</td>\n",
       "      <td>110.026943</td>\n",
       "      <td>4.521761e+06</td>\n",
       "      <td>0.000119</td>\n",
       "      <td>283.022729</td>\n",
       "      <td>284.632296</td>\n",
       "      <td>281.201521</td>\n",
       "      <td>283.048053</td>\n",
       "      <td>6.962899e+07</td>\n",
       "      <td>0.000498</td>\n",
       "    </tr>\n",
       "    <tr>\n",
       "      <th>std</th>\n",
       "      <td>4.036820</td>\n",
       "      <td>4.057172</td>\n",
       "      <td>3.995927</td>\n",
       "      <td>4.029469</td>\n",
       "      <td>4.623420e+06</td>\n",
       "      <td>0.003505</td>\n",
       "      <td>22.197433</td>\n",
       "      <td>22.023795</td>\n",
       "      <td>22.422057</td>\n",
       "      <td>22.211722</td>\n",
       "      <td>4.603142e+07</td>\n",
       "      <td>0.014154</td>\n",
       "    </tr>\n",
       "    <tr>\n",
       "      <th>min</th>\n",
       "      <td>104.070000</td>\n",
       "      <td>104.169900</td>\n",
       "      <td>103.940000</td>\n",
       "      <td>104.005000</td>\n",
       "      <td>1.000706e+06</td>\n",
       "      <td>-0.040343</td>\n",
       "      <td>228.190000</td>\n",
       "      <td>229.683300</td>\n",
       "      <td>218.260000</td>\n",
       "      <td>222.510000</td>\n",
       "      <td>1.606768e+07</td>\n",
       "      <td>-0.116340</td>\n",
       "    </tr>\n",
       "    <tr>\n",
       "      <th>25%</th>\n",
       "      <td>106.540000</td>\n",
       "      <td>106.645000</td>\n",
       "      <td>106.387750</td>\n",
       "      <td>106.498750</td>\n",
       "      <td>2.200958e+06</td>\n",
       "      <td>-0.001091</td>\n",
       "      <td>267.510000</td>\n",
       "      <td>268.600000</td>\n",
       "      <td>265.490000</td>\n",
       "      <td>267.220000</td>\n",
       "      <td>4.208117e+07</td>\n",
       "      <td>-0.003415</td>\n",
       "    </tr>\n",
       "    <tr>\n",
       "      <th>50%</th>\n",
       "      <td>109.265000</td>\n",
       "      <td>109.415000</td>\n",
       "      <td>109.144250</td>\n",
       "      <td>109.297500</td>\n",
       "      <td>2.956928e+06</td>\n",
       "      <td>0.000188</td>\n",
       "      <td>280.740000</td>\n",
       "      <td>282.560000</td>\n",
       "      <td>279.360000</td>\n",
       "      <td>281.020000</td>\n",
       "      <td>5.517814e+07</td>\n",
       "      <td>0.000935</td>\n",
       "    </tr>\n",
       "    <tr>\n",
       "      <th>75%</th>\n",
       "      <td>112.842500</td>\n",
       "      <td>112.941475</td>\n",
       "      <td>112.620000</td>\n",
       "      <td>112.800000</td>\n",
       "      <td>4.955643e+06</td>\n",
       "      <td>0.001315</td>\n",
       "      <td>296.270000</td>\n",
       "      <td>297.892000</td>\n",
       "      <td>294.330000</td>\n",
       "      <td>296.260000</td>\n",
       "      <td>7.929204e+07</td>\n",
       "      <td>0.006161</td>\n",
       "    </tr>\n",
       "    <tr>\n",
       "      <th>max</th>\n",
       "      <td>119.660000</td>\n",
       "      <td>119.730000</td>\n",
       "      <td>119.530000</td>\n",
       "      <td>119.630000</td>\n",
       "      <td>4.357488e+07</td>\n",
       "      <td>0.027948</td>\n",
       "      <td>337.790000</td>\n",
       "      <td>339.080000</td>\n",
       "      <td>337.480000</td>\n",
       "      <td>338.310000</td>\n",
       "      <td>3.466706e+08</td>\n",
       "      <td>0.094737</td>\n",
       "    </tr>\n",
       "  </tbody>\n",
       "</table>\n",
       "</div>"
      ],
      "text/plain": [
       "              AGG                                                    \\\n",
       "             open        high         low       close        volume   \n",
       "count  756.000000  756.000000  756.000000  756.000000  7.560000e+02   \n",
       "mean   110.029328  110.166699  109.869408  110.026943  4.521761e+06   \n",
       "std      4.036820    4.057172    3.995927    4.029469  4.623420e+06   \n",
       "min    104.070000  104.169900  103.940000  104.005000  1.000706e+06   \n",
       "25%    106.540000  106.645000  106.387750  106.498750  2.200958e+06   \n",
       "50%    109.265000  109.415000  109.144250  109.297500  2.956928e+06   \n",
       "75%    112.842500  112.941475  112.620000  112.800000  4.955643e+06   \n",
       "max    119.660000  119.730000  119.530000  119.630000  4.357488e+07   \n",
       "\n",
       "                           SPY                                      \\\n",
       "      daily_return        open        high         low       close   \n",
       "count   756.000000  757.000000  757.000000  757.000000  757.000000   \n",
       "mean      0.000119  283.022729  284.632296  281.201521  283.048053   \n",
       "std       0.003505   22.197433   22.023795   22.422057   22.211722   \n",
       "min      -0.040343  228.190000  229.683300  218.260000  222.510000   \n",
       "25%      -0.001091  267.510000  268.600000  265.490000  267.220000   \n",
       "50%       0.000188  280.740000  282.560000  279.360000  281.020000   \n",
       "75%       0.001315  296.270000  297.892000  294.330000  296.260000   \n",
       "max       0.027948  337.790000  339.080000  337.480000  338.310000   \n",
       "\n",
       "                                  \n",
       "             volume daily_return  \n",
       "count  7.570000e+02   756.000000  \n",
       "mean   6.962899e+07     0.000498  \n",
       "std    4.603142e+07     0.014154  \n",
       "min    1.606768e+07    -0.116340  \n",
       "25%    4.208117e+07    -0.003415  \n",
       "50%    5.517814e+07     0.000935  \n",
       "75%    7.929204e+07     0.006161  \n",
       "max    3.466706e+08     0.094737  "
      ]
     },
     "execution_count": 95,
     "metadata": {},
     "output_type": "execute_result"
    }
   ],
   "source": [
    "# Configure a Monte Carlo simulation to forecast 10 years cumulative returns\n",
    "# The weights should be split 20% to AGG and 80% to SPY.\n",
    "# Run 500 samples.\n",
    "MC_tenyear = MCSimulation(\n",
    "  portfolio_data = montecarlo_df,\n",
    "  weights = [.80,.20],\n",
    "  num_simulation = 500,\n",
    "  num_trading_days = 252*10\n",
    ")\n",
    "\n",
    "# Review the simulation input data\n",
    "MC_tenyear.portfolio_data.describe()\n"
   ]
  },
  {
   "cell_type": "code",
   "execution_count": 96,
   "metadata": {},
   "outputs": [
    {
     "name": "stdout",
     "output_type": "stream",
     "text": [
      "Running Monte Carlo simulation number 0.\n",
      "Running Monte Carlo simulation number 10.\n",
      "Running Monte Carlo simulation number 20.\n",
      "Running Monte Carlo simulation number 30.\n",
      "Running Monte Carlo simulation number 40.\n",
      "Running Monte Carlo simulation number 50.\n",
      "Running Monte Carlo simulation number 60.\n",
      "Running Monte Carlo simulation number 70.\n",
      "Running Monte Carlo simulation number 80.\n",
      "Running Monte Carlo simulation number 90.\n",
      "Running Monte Carlo simulation number 100.\n",
      "Running Monte Carlo simulation number 110.\n",
      "Running Monte Carlo simulation number 120.\n",
      "Running Monte Carlo simulation number 130.\n",
      "Running Monte Carlo simulation number 140.\n",
      "Running Monte Carlo simulation number 150.\n",
      "Running Monte Carlo simulation number 160.\n",
      "Running Monte Carlo simulation number 170.\n",
      "Running Monte Carlo simulation number 180.\n",
      "Running Monte Carlo simulation number 190.\n",
      "Running Monte Carlo simulation number 200.\n",
      "Running Monte Carlo simulation number 210.\n",
      "Running Monte Carlo simulation number 220.\n",
      "Running Monte Carlo simulation number 230.\n",
      "Running Monte Carlo simulation number 240.\n",
      "Running Monte Carlo simulation number 250.\n",
      "Running Monte Carlo simulation number 260.\n",
      "Running Monte Carlo simulation number 270.\n",
      "Running Monte Carlo simulation number 280.\n",
      "Running Monte Carlo simulation number 290.\n",
      "Running Monte Carlo simulation number 300.\n",
      "Running Monte Carlo simulation number 310.\n",
      "Running Monte Carlo simulation number 320.\n",
      "Running Monte Carlo simulation number 330.\n",
      "Running Monte Carlo simulation number 340.\n",
      "Running Monte Carlo simulation number 350.\n",
      "Running Monte Carlo simulation number 360.\n",
      "Running Monte Carlo simulation number 370.\n",
      "Running Monte Carlo simulation number 380.\n",
      "Running Monte Carlo simulation number 390.\n",
      "Running Monte Carlo simulation number 400.\n",
      "Running Monte Carlo simulation number 410.\n",
      "Running Monte Carlo simulation number 420.\n",
      "Running Monte Carlo simulation number 430.\n",
      "Running Monte Carlo simulation number 440.\n",
      "Running Monte Carlo simulation number 450.\n",
      "Running Monte Carlo simulation number 460.\n",
      "Running Monte Carlo simulation number 470.\n",
      "Running Monte Carlo simulation number 480.\n",
      "Running Monte Carlo simulation number 490.\n"
     ]
    },
    {
     "data": {
      "text/html": [
       "<div>\n",
       "<style scoped>\n",
       "    .dataframe tbody tr th:only-of-type {\n",
       "        vertical-align: middle;\n",
       "    }\n",
       "\n",
       "    .dataframe tbody tr th {\n",
       "        vertical-align: top;\n",
       "    }\n",
       "\n",
       "    .dataframe thead th {\n",
       "        text-align: right;\n",
       "    }\n",
       "</style>\n",
       "<table border=\"1\" class=\"dataframe\">\n",
       "  <thead>\n",
       "    <tr style=\"text-align: right;\">\n",
       "      <th></th>\n",
       "      <th>0</th>\n",
       "      <th>1</th>\n",
       "      <th>2</th>\n",
       "      <th>3</th>\n",
       "      <th>4</th>\n",
       "      <th>5</th>\n",
       "      <th>6</th>\n",
       "      <th>7</th>\n",
       "      <th>8</th>\n",
       "      <th>9</th>\n",
       "      <th>...</th>\n",
       "      <th>490</th>\n",
       "      <th>491</th>\n",
       "      <th>492</th>\n",
       "      <th>493</th>\n",
       "      <th>494</th>\n",
       "      <th>495</th>\n",
       "      <th>496</th>\n",
       "      <th>497</th>\n",
       "      <th>498</th>\n",
       "      <th>499</th>\n",
       "    </tr>\n",
       "  </thead>\n",
       "  <tbody>\n",
       "    <tr>\n",
       "      <th>0</th>\n",
       "      <td>1.000000</td>\n",
       "      <td>1.000000</td>\n",
       "      <td>1.000000</td>\n",
       "      <td>1.000000</td>\n",
       "      <td>1.000000</td>\n",
       "      <td>1.000000</td>\n",
       "      <td>1.000000</td>\n",
       "      <td>1.000000</td>\n",
       "      <td>1.000000</td>\n",
       "      <td>1.000000</td>\n",
       "      <td>...</td>\n",
       "      <td>1.000000</td>\n",
       "      <td>1.000000</td>\n",
       "      <td>1.000000</td>\n",
       "      <td>1.000000</td>\n",
       "      <td>1.000000</td>\n",
       "      <td>1.000000</td>\n",
       "      <td>1.000000</td>\n",
       "      <td>1.000000</td>\n",
       "      <td>1.000000</td>\n",
       "      <td>1.000000</td>\n",
       "    </tr>\n",
       "    <tr>\n",
       "      <th>1</th>\n",
       "      <td>1.005320</td>\n",
       "      <td>0.997975</td>\n",
       "      <td>1.001733</td>\n",
       "      <td>0.998129</td>\n",
       "      <td>0.999937</td>\n",
       "      <td>0.999672</td>\n",
       "      <td>1.009427</td>\n",
       "      <td>0.998908</td>\n",
       "      <td>1.002096</td>\n",
       "      <td>0.995466</td>\n",
       "      <td>...</td>\n",
       "      <td>1.007500</td>\n",
       "      <td>0.998378</td>\n",
       "      <td>0.994566</td>\n",
       "      <td>1.000818</td>\n",
       "      <td>0.998351</td>\n",
       "      <td>1.003977</td>\n",
       "      <td>1.004680</td>\n",
       "      <td>1.001489</td>\n",
       "      <td>0.998311</td>\n",
       "      <td>0.996803</td>\n",
       "    </tr>\n",
       "    <tr>\n",
       "      <th>2</th>\n",
       "      <td>1.008452</td>\n",
       "      <td>1.002331</td>\n",
       "      <td>1.005975</td>\n",
       "      <td>0.993805</td>\n",
       "      <td>0.998613</td>\n",
       "      <td>0.998134</td>\n",
       "      <td>1.012933</td>\n",
       "      <td>1.006083</td>\n",
       "      <td>1.006613</td>\n",
       "      <td>0.993709</td>\n",
       "      <td>...</td>\n",
       "      <td>1.003821</td>\n",
       "      <td>1.002611</td>\n",
       "      <td>0.994037</td>\n",
       "      <td>0.999549</td>\n",
       "      <td>0.996912</td>\n",
       "      <td>1.000004</td>\n",
       "      <td>1.006863</td>\n",
       "      <td>0.997949</td>\n",
       "      <td>0.994754</td>\n",
       "      <td>0.995038</td>\n",
       "    </tr>\n",
       "    <tr>\n",
       "      <th>3</th>\n",
       "      <td>1.011974</td>\n",
       "      <td>1.001577</td>\n",
       "      <td>1.007521</td>\n",
       "      <td>0.992685</td>\n",
       "      <td>0.995280</td>\n",
       "      <td>0.992388</td>\n",
       "      <td>1.013560</td>\n",
       "      <td>1.010361</td>\n",
       "      <td>1.006169</td>\n",
       "      <td>0.992303</td>\n",
       "      <td>...</td>\n",
       "      <td>1.010306</td>\n",
       "      <td>0.997081</td>\n",
       "      <td>0.994498</td>\n",
       "      <td>1.004937</td>\n",
       "      <td>0.997841</td>\n",
       "      <td>0.998182</td>\n",
       "      <td>1.005079</td>\n",
       "      <td>0.997177</td>\n",
       "      <td>0.996937</td>\n",
       "      <td>0.993653</td>\n",
       "    </tr>\n",
       "    <tr>\n",
       "      <th>4</th>\n",
       "      <td>1.008989</td>\n",
       "      <td>0.996541</td>\n",
       "      <td>1.009662</td>\n",
       "      <td>0.991692</td>\n",
       "      <td>0.995211</td>\n",
       "      <td>0.995080</td>\n",
       "      <td>1.012941</td>\n",
       "      <td>1.020433</td>\n",
       "      <td>1.003426</td>\n",
       "      <td>0.988491</td>\n",
       "      <td>...</td>\n",
       "      <td>1.011617</td>\n",
       "      <td>0.997828</td>\n",
       "      <td>0.999983</td>\n",
       "      <td>1.009846</td>\n",
       "      <td>1.000637</td>\n",
       "      <td>0.996606</td>\n",
       "      <td>1.006548</td>\n",
       "      <td>0.996080</td>\n",
       "      <td>0.991905</td>\n",
       "      <td>0.998501</td>\n",
       "    </tr>\n",
       "    <tr>\n",
       "      <th>...</th>\n",
       "      <td>...</td>\n",
       "      <td>...</td>\n",
       "      <td>...</td>\n",
       "      <td>...</td>\n",
       "      <td>...</td>\n",
       "      <td>...</td>\n",
       "      <td>...</td>\n",
       "      <td>...</td>\n",
       "      <td>...</td>\n",
       "      <td>...</td>\n",
       "      <td>...</td>\n",
       "      <td>...</td>\n",
       "      <td>...</td>\n",
       "      <td>...</td>\n",
       "      <td>...</td>\n",
       "      <td>...</td>\n",
       "      <td>...</td>\n",
       "      <td>...</td>\n",
       "      <td>...</td>\n",
       "      <td>...</td>\n",
       "      <td>...</td>\n",
       "    </tr>\n",
       "    <tr>\n",
       "      <th>2516</th>\n",
       "      <td>1.750468</td>\n",
       "      <td>1.366833</td>\n",
       "      <td>1.480382</td>\n",
       "      <td>1.365661</td>\n",
       "      <td>1.418709</td>\n",
       "      <td>1.378373</td>\n",
       "      <td>1.469460</td>\n",
       "      <td>1.519627</td>\n",
       "      <td>1.855069</td>\n",
       "      <td>1.368247</td>\n",
       "      <td>...</td>\n",
       "      <td>1.596218</td>\n",
       "      <td>2.140708</td>\n",
       "      <td>1.889739</td>\n",
       "      <td>1.771263</td>\n",
       "      <td>1.711209</td>\n",
       "      <td>1.322748</td>\n",
       "      <td>1.792016</td>\n",
       "      <td>1.582322</td>\n",
       "      <td>1.699063</td>\n",
       "      <td>1.565719</td>\n",
       "    </tr>\n",
       "    <tr>\n",
       "      <th>2517</th>\n",
       "      <td>1.749036</td>\n",
       "      <td>1.368115</td>\n",
       "      <td>1.477572</td>\n",
       "      <td>1.362669</td>\n",
       "      <td>1.413235</td>\n",
       "      <td>1.380560</td>\n",
       "      <td>1.478889</td>\n",
       "      <td>1.524971</td>\n",
       "      <td>1.857642</td>\n",
       "      <td>1.359546</td>\n",
       "      <td>...</td>\n",
       "      <td>1.595588</td>\n",
       "      <td>2.149161</td>\n",
       "      <td>1.890621</td>\n",
       "      <td>1.776154</td>\n",
       "      <td>1.701582</td>\n",
       "      <td>1.316536</td>\n",
       "      <td>1.776998</td>\n",
       "      <td>1.573346</td>\n",
       "      <td>1.699415</td>\n",
       "      <td>1.566181</td>\n",
       "    </tr>\n",
       "    <tr>\n",
       "      <th>2518</th>\n",
       "      <td>1.763065</td>\n",
       "      <td>1.373577</td>\n",
       "      <td>1.468042</td>\n",
       "      <td>1.357960</td>\n",
       "      <td>1.420240</td>\n",
       "      <td>1.366708</td>\n",
       "      <td>1.475877</td>\n",
       "      <td>1.516995</td>\n",
       "      <td>1.849658</td>\n",
       "      <td>1.354595</td>\n",
       "      <td>...</td>\n",
       "      <td>1.598262</td>\n",
       "      <td>2.140562</td>\n",
       "      <td>1.903612</td>\n",
       "      <td>1.776471</td>\n",
       "      <td>1.700089</td>\n",
       "      <td>1.317973</td>\n",
       "      <td>1.774722</td>\n",
       "      <td>1.576074</td>\n",
       "      <td>1.697198</td>\n",
       "      <td>1.563606</td>\n",
       "    </tr>\n",
       "    <tr>\n",
       "      <th>2519</th>\n",
       "      <td>1.759159</td>\n",
       "      <td>1.371874</td>\n",
       "      <td>1.471041</td>\n",
       "      <td>1.355264</td>\n",
       "      <td>1.422391</td>\n",
       "      <td>1.365049</td>\n",
       "      <td>1.476811</td>\n",
       "      <td>1.516097</td>\n",
       "      <td>1.863399</td>\n",
       "      <td>1.351344</td>\n",
       "      <td>...</td>\n",
       "      <td>1.597363</td>\n",
       "      <td>2.139568</td>\n",
       "      <td>1.908385</td>\n",
       "      <td>1.769244</td>\n",
       "      <td>1.697052</td>\n",
       "      <td>1.321773</td>\n",
       "      <td>1.777297</td>\n",
       "      <td>1.578270</td>\n",
       "      <td>1.713691</td>\n",
       "      <td>1.572391</td>\n",
       "    </tr>\n",
       "    <tr>\n",
       "      <th>2520</th>\n",
       "      <td>1.771240</td>\n",
       "      <td>1.372445</td>\n",
       "      <td>1.461269</td>\n",
       "      <td>1.345086</td>\n",
       "      <td>1.420309</td>\n",
       "      <td>1.365452</td>\n",
       "      <td>1.479093</td>\n",
       "      <td>1.518801</td>\n",
       "      <td>1.867175</td>\n",
       "      <td>1.351258</td>\n",
       "      <td>...</td>\n",
       "      <td>1.605353</td>\n",
       "      <td>2.128534</td>\n",
       "      <td>1.913302</td>\n",
       "      <td>1.758252</td>\n",
       "      <td>1.711828</td>\n",
       "      <td>1.328430</td>\n",
       "      <td>1.767426</td>\n",
       "      <td>1.569253</td>\n",
       "      <td>1.712041</td>\n",
       "      <td>1.568916</td>\n",
       "    </tr>\n",
       "  </tbody>\n",
       "</table>\n",
       "<p>2521 rows × 500 columns</p>\n",
       "</div>"
      ],
      "text/plain": [
       "           0         1         2         3         4         5         6    \\\n",
       "0     1.000000  1.000000  1.000000  1.000000  1.000000  1.000000  1.000000   \n",
       "1     1.005320  0.997975  1.001733  0.998129  0.999937  0.999672  1.009427   \n",
       "2     1.008452  1.002331  1.005975  0.993805  0.998613  0.998134  1.012933   \n",
       "3     1.011974  1.001577  1.007521  0.992685  0.995280  0.992388  1.013560   \n",
       "4     1.008989  0.996541  1.009662  0.991692  0.995211  0.995080  1.012941   \n",
       "...        ...       ...       ...       ...       ...       ...       ...   \n",
       "2516  1.750468  1.366833  1.480382  1.365661  1.418709  1.378373  1.469460   \n",
       "2517  1.749036  1.368115  1.477572  1.362669  1.413235  1.380560  1.478889   \n",
       "2518  1.763065  1.373577  1.468042  1.357960  1.420240  1.366708  1.475877   \n",
       "2519  1.759159  1.371874  1.471041  1.355264  1.422391  1.365049  1.476811   \n",
       "2520  1.771240  1.372445  1.461269  1.345086  1.420309  1.365452  1.479093   \n",
       "\n",
       "           7         8         9    ...       490       491       492  \\\n",
       "0     1.000000  1.000000  1.000000  ...  1.000000  1.000000  1.000000   \n",
       "1     0.998908  1.002096  0.995466  ...  1.007500  0.998378  0.994566   \n",
       "2     1.006083  1.006613  0.993709  ...  1.003821  1.002611  0.994037   \n",
       "3     1.010361  1.006169  0.992303  ...  1.010306  0.997081  0.994498   \n",
       "4     1.020433  1.003426  0.988491  ...  1.011617  0.997828  0.999983   \n",
       "...        ...       ...       ...  ...       ...       ...       ...   \n",
       "2516  1.519627  1.855069  1.368247  ...  1.596218  2.140708  1.889739   \n",
       "2517  1.524971  1.857642  1.359546  ...  1.595588  2.149161  1.890621   \n",
       "2518  1.516995  1.849658  1.354595  ...  1.598262  2.140562  1.903612   \n",
       "2519  1.516097  1.863399  1.351344  ...  1.597363  2.139568  1.908385   \n",
       "2520  1.518801  1.867175  1.351258  ...  1.605353  2.128534  1.913302   \n",
       "\n",
       "           493       494       495       496       497       498       499  \n",
       "0     1.000000  1.000000  1.000000  1.000000  1.000000  1.000000  1.000000  \n",
       "1     1.000818  0.998351  1.003977  1.004680  1.001489  0.998311  0.996803  \n",
       "2     0.999549  0.996912  1.000004  1.006863  0.997949  0.994754  0.995038  \n",
       "3     1.004937  0.997841  0.998182  1.005079  0.997177  0.996937  0.993653  \n",
       "4     1.009846  1.000637  0.996606  1.006548  0.996080  0.991905  0.998501  \n",
       "...        ...       ...       ...       ...       ...       ...       ...  \n",
       "2516  1.771263  1.711209  1.322748  1.792016  1.582322  1.699063  1.565719  \n",
       "2517  1.776154  1.701582  1.316536  1.776998  1.573346  1.699415  1.566181  \n",
       "2518  1.776471  1.700089  1.317973  1.774722  1.576074  1.697198  1.563606  \n",
       "2519  1.769244  1.697052  1.321773  1.777297  1.578270  1.713691  1.572391  \n",
       "2520  1.758252  1.711828  1.328430  1.767426  1.569253  1.712041  1.568916  \n",
       "\n",
       "[2521 rows x 500 columns]"
      ]
     },
     "execution_count": 96,
     "metadata": {},
     "output_type": "execute_result"
    }
   ],
   "source": [
    "# Run the Monte Carlo simulation to forecast 10 years cumulative returns\n",
    "MC_tenyear.calc_cumulative_return()\n"
   ]
  },
  {
   "cell_type": "code",
   "execution_count": 97,
   "metadata": {},
   "outputs": [
    {
     "data": {
      "image/png": "[encoded data removed]",
      "text/plain": [
       "<Figure size 432x288 with 1 Axes>"
      ]
     },
     "metadata": {
      "needs_background": "light"
     },
     "output_type": "display_data"
    }
   ],
   "source": [
    "# Visualize the 10-year Monte Carlo simulation by creating an\n",
    "# overlay line plot\n",
    "MC_sim_line_plot = MC_tenyear.plot_simulation()\n"
   ]
  },
  {
   "cell_type": "code",
   "execution_count": 98,
   "metadata": {},
   "outputs": [
    {
     "data": {
      "image/png": "[encoded data removed]",
      "text/plain": [
       "<Figure size 432x288 with 1 Axes>"
      ]
     },
     "metadata": {
      "needs_background": "light"
     },
     "output_type": "display_data"
    }
   ],
   "source": [
    "# Visualize the probability distribution of the 10-year Monte Carlo simulation \n",
    "# by plotting a histogram\n",
    "MC_sim_dist_plot = MC_tenyear.plot_distribution()\n"
   ]
  },
  {
   "cell_type": "code",
   "execution_count": 99,
   "metadata": {},
   "outputs": [
    {
     "name": "stdout",
     "output_type": "stream",
     "text": [
      "count           500.000000\n",
      "mean              1.636847\n",
      "std               0.326970\n",
      "min               0.900628\n",
      "25%               1.409301\n",
      "50%               1.615165\n",
      "75%               1.836713\n",
      "max               2.908218\n",
      "95% CI Lower      1.074628\n",
      "95% CI Upper      2.370046\n",
      "Name: 2520, dtype: float64\n"
     ]
    }
   ],
   "source": [
    "# Generate summary statistics from the 10-year Monte Carlo simulation results\n",
    "# Save the results as a variable\n",
    "MC_summary_statistics = MC_tenyear.summarize_cumulative_return()\n",
    "\n",
    "\n",
    "# Review the 10-year Monte Carlo summary statistics\n",
    "print(MC_summary_statistics)"
   ]
  },
  {
   "cell_type": "markdown",
   "metadata": {},
   "source": [
    "### Answer the following questions:"
   ]
  },
  {
   "cell_type": "markdown",
   "metadata": {},
   "source": [
    "#### Question: Using the current value of only the stock and bond portion of the member's portfolio and the summary statistics that you generated from the new Monte Carlo simulation, what are the lower and upper bounds for the expected value of the portfolio (with the new weights) with a 95% confidence interval?"
   ]
  },
  {
   "cell_type": "code",
   "execution_count": null,
   "metadata": {},
   "outputs": [],
   "source": [
    "# Print the current balance of the stock and bond portion of the members portfolio\n",
    "# YOUR CODE HERE\n"
   ]
  },
  {
   "cell_type": "code",
   "execution_count": null,
   "metadata": {},
   "outputs": [],
   "source": [
    "# Use the lower and upper `95%` confidence intervals to calculate the range of the possible outcomes for the current stock/bond portfolio\n",
    "ci_lower_ten_cumulative_return = # YOUR CODE HERE\n",
    "ci_upper_ten_cumulative_return = # YOUR CODE HERE\n",
    "\n",
    "# Print the result of your calculations\n",
    "# YOUR CODE HERE\n"
   ]
  },
  {
   "cell_type": "markdown",
   "metadata": {},
   "source": [
    "#### Question: Will weighting the portfolio more heavily to stocks allow the credit union members to retire after only 10 years?"
   ]
  },
  {
   "cell_type": "raw",
   "metadata": {},
   "source": [
    "**Answer** # YOUR ANSWER HERE"
   ]
  },
  {
   "cell_type": "code",
   "execution_count": null,
   "metadata": {},
   "outputs": [],
   "source": []
  }
 ],
 "metadata": {
  "kernelspec": {
   "display_name": "Python 3",
   "language": "python",
   "name": "python3"
  },
  "language_info": {
   "codemirror_mode": {
    "name": "ipython",
    "version": 3
   },
   "file_extension": ".py",
   "mimetype": "text/x-python",
   "name": "python",
   "nbconvert_exporter": "python",
   "pygments_lexer": "ipython3",
   "version": "3.7.10"
  }
 },
 "nbformat": 4,
 "nbformat_minor": 4
}
